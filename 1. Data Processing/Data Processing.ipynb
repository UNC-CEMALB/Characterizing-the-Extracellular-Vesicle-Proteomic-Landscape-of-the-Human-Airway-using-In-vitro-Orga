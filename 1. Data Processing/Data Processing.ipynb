{
 "cells": [
  {
   "cell_type": "code",
   "execution_count": 1,
   "id": "naughty-atlanta",
   "metadata": {},
   "outputs": [
    {
     "name": "stderr",
     "output_type": "stream",
     "text": [
      "── \u001b[1mAttaching packages\u001b[22m ─────────────────────────────────────── tidyverse 1.3.1 ──\n",
      "\n",
      "\u001b[32m✔\u001b[39m \u001b[34mggplot2\u001b[39m 3.3.5     \u001b[32m✔\u001b[39m \u001b[34mpurrr  \u001b[39m 0.3.4\n",
      "\u001b[32m✔\u001b[39m \u001b[34mtibble \u001b[39m 3.1.6     \u001b[32m✔\u001b[39m \u001b[34mdplyr  \u001b[39m 1.0.8\n",
      "\u001b[32m✔\u001b[39m \u001b[34mtidyr  \u001b[39m 1.2.0     \u001b[32m✔\u001b[39m \u001b[34mstringr\u001b[39m 1.4.0\n",
      "\u001b[32m✔\u001b[39m \u001b[34mreadr  \u001b[39m 2.1.2     \u001b[32m✔\u001b[39m \u001b[34mforcats\u001b[39m 0.5.1\n",
      "\n",
      "── \u001b[1mConflicts\u001b[22m ────────────────────────────────────────── tidyverse_conflicts() ──\n",
      "\u001b[31m✖\u001b[39m \u001b[34mdplyr\u001b[39m::\u001b[32mfilter()\u001b[39m masks \u001b[34mstats\u001b[39m::filter()\n",
      "\u001b[31m✖\u001b[39m \u001b[34mdplyr\u001b[39m::\u001b[32mlag()\u001b[39m    masks \u001b[34mstats\u001b[39m::lag()\n",
      "\n",
      "Loading required package: tmvtnorm\n",
      "\n",
      "Loading required package: mvtnorm\n",
      "\n",
      "Loading required package: Matrix\n",
      "\n",
      "\n",
      "Attaching package: ‘Matrix’\n",
      "\n",
      "\n",
      "The following objects are masked from ‘package:tidyr’:\n",
      "\n",
      "    expand, pack, unpack\n",
      "\n",
      "\n",
      "Loading required package: stats4\n",
      "\n",
      "Loading required package: gmm\n",
      "\n",
      "Loading required package: sandwich\n",
      "\n",
      "Loading required package: norm\n",
      "\n",
      "Loading required package: pcaMethods\n",
      "\n",
      "Loading required package: Biobase\n",
      "\n",
      "Loading required package: BiocGenerics\n",
      "\n",
      "\n",
      "Attaching package: ‘BiocGenerics’\n",
      "\n",
      "\n",
      "The following objects are masked from ‘package:dplyr’:\n",
      "\n",
      "    combine, intersect, setdiff, union\n",
      "\n",
      "\n",
      "The following objects are masked from ‘package:stats’:\n",
      "\n",
      "    IQR, mad, sd, var, xtabs\n",
      "\n",
      "\n",
      "The following objects are masked from ‘package:base’:\n",
      "\n",
      "    Filter, Find, Map, Position, Reduce, anyDuplicated, append,\n",
      "    as.data.frame, basename, cbind, colnames, dirname, do.call,\n",
      "    duplicated, eval, evalq, get, grep, grepl, intersect, is.unsorted,\n",
      "    lapply, mapply, match, mget, order, paste, pmax, pmax.int, pmin,\n",
      "    pmin.int, rank, rbind, rownames, sapply, setdiff, sort, table,\n",
      "    tapply, union, unique, unsplit, which.max, which.min\n",
      "\n",
      "\n",
      "Welcome to Bioconductor\n",
      "\n",
      "    Vignettes contain introductory material; view with\n",
      "    'browseVignettes()'. To cite Bioconductor, see\n",
      "    'citation(\"Biobase\")', and for packages 'citation(\"pkgname\")'.\n",
      "\n",
      "\n",
      "\n",
      "Attaching package: ‘pcaMethods’\n",
      "\n",
      "\n",
      "The following object is masked from ‘package:stats’:\n",
      "\n",
      "    loadings\n",
      "\n",
      "\n",
      "Loading required package: impute\n",
      "\n",
      "Welcome! Want to learn more? See two factoextra-related books at https://goo.gl/ve3WBa\n",
      "\n",
      "Loading required package: permute\n",
      "\n",
      "Loading required package: lattice\n",
      "\n",
      "This is vegan 2.6-2\n",
      "\n",
      "\n",
      "Attaching package: ‘vegan’\n",
      "\n",
      "\n",
      "The following object is masked from ‘package:pcaMethods’:\n",
      "\n",
      "    scores\n",
      "\n",
      "\n"
     ]
    }
   ],
   "source": [
    "Output = ('/Users/alexis/Library/CloudStorage/OneDrive-UniversityofNorthCarolinaatChapelHill/CEMALB_DataAnalysisPM/Projects/P1008. InVitroWildfire EVProteomics V2/P1008.3. Analyses/P1008.3.1. Data Processing/Output')\n",
    "cur_date = \"082322\"\n",
    "\n",
    "library(readxl)\n",
    "library(tidyverse)\n",
    "library(imputeLCMD)\n",
    "library(factoextra)\n",
    "library(vegan)\n",
    "library(preprocessCore)\n",
    "\n",
    "\n",
    "#reading in files\n",
    "identifiers_df = data.frame(read_excel(\"Input/Identifiers_030422.xlsx\"))\n",
    "set1_proteome_df = data.frame(read_excel(\"Input/PC927-Rager_LFQProteome_Results_RawValues_R ready.xlsx\", sheet = 1))[,c(1,6,22:35)]\n",
    "set2_proteome_df = data.frame(read_excel(\"Input/PC927-Rager_LFQProteome_Results_RawValues_R ready.xlsx\", sheet = 2))[,c(1,6,22:35)]"
   ]
  },
  {
   "cell_type": "code",
   "execution_count": 2,
   "id": "f07b33ed",
   "metadata": {
    "scrolled": true
   },
   "outputs": [],
   "source": [
    "# creating 1 proteome df for dataverse export\n",
    "# set1_proteome_df = data.frame(read_excel(\"Input/PC927-Rager_LFQProteome_Results_RawValues_R ready.xlsx\", sheet = 1)) %>%\n",
    "#     pivot_longer(cols = 8:35, names_to = \"IDs_from_Core\", values_to = \"Value\")\n",
    "\n",
    "# set2_proteome_df = data.frame(read_excel(\"Input/PC927-Rager_LFQProteome_Results_RawValues_R ready.xlsx\", sheet = 2)) %>%\n",
    "#     pivot_longer(cols = 8:35, names_to = \"IDs_from_Core\", values_to = \"Value\")\n",
    "\n",
    "# a = rbind(set1_proteome_df, set2_proteome_df) %>%\n",
    "#     rename(Protein = Accession)\n",
    "\n",
    "# b = inner_join(a, identifiers_df)\n",
    "# c = b %>%\n",
    "#     select(-IDs_from_Core) %>%\n",
    "#     rename(ID = Our_Analysis_ID, Unique_Peptides = Number_of_UniquePeptides) %>%\n",
    "#     #creating a col that denotes the general treatment to remove proteins within those treatment groups\n",
    "#     mutate(Treatment = ifelse(grepl(\"CoCulture_PooledSample\", ID), \"CoCulture_PooledSample\",\n",
    "#                              ifelse(grepl(\"CoCulture_Vehicle\", ID), \"CoCulture_Vehicle\",\n",
    "#                                    ifelse(grepl(\"CoCulture_Exposed\", ID), \"CoCulture_Exposed\",\n",
    "#                                          ifelse(grepl(\"TriCulture_PooledSample\", ID), \"TriCulture_PooledSample\",\n",
    "#                                              ifelse(grepl(\"TriCulture_Vehicle\", ID), \"TriCulture_Vehicle\",\n",
    "#                                                    ifelse(grepl(\"TriCulture_Exposed\", ID), \"TriCulture_Exposed\",\n",
    "                                         \n",
    "#                                          NA))))))) %>%\n",
    "#     # removing pooled samples and exposed samples since they're not needed for analysis\n",
    "#     filter(!grepl(\"PooledSample\", Treatment)) %>%\n",
    "#     filter(!grepl(\"Exposed\", Treatment)) %>%\n",
    "#     select(-c(\"Set\", \"Treatment\"))\n",
    "\n",
    "# d = c %>%\n",
    "#     pivot_wider(names_from = \"ID\", values_from = \"Value\")\n",
    "\n",
    "# head(d)"
   ]
  },
  {
   "cell_type": "code",
   "execution_count": 3,
   "id": "599375a1",
   "metadata": {},
   "outputs": [],
   "source": [
    "# exporting results\n",
    "# write.csv(d, paste0(Output,\"/\", cur_date, \"_Extracellular_Vesicles_Proteome_Raw_Values.csv\"), row.names = FALSE)"
   ]
  },
  {
   "cell_type": "code",
   "execution_count": 4,
   "id": "c084be93",
   "metadata": {},
   "outputs": [
    {
     "data": {
      "text/html": [
       "<table class=\"dataframe\">\n",
       "<caption>A data.frame: 6 × 3</caption>\n",
       "<thead>\n",
       "\t<tr><th></th><th scope=col>IDs_from_Core</th><th scope=col>Our_Analysis_ID</th><th scope=col>Set</th></tr>\n",
       "\t<tr><th></th><th scope=col>&lt;chr&gt;</th><th scope=col>&lt;chr&gt;</th><th scope=col>&lt;chr&gt;</th></tr>\n",
       "</thead>\n",
       "<tbody>\n",
       "\t<tr><th scope=row>1</th><td>Abundance..Pooled.1  </td><td>CoCulture_PooledSample1</td><td>Set1</td></tr>\n",
       "\t<tr><th scope=row>2</th><td>Abundance..Pooled.2  </td><td>CoCulture_PooledSample2</td><td>Set1</td></tr>\n",
       "\t<tr><th scope=row>3</th><td>Abundance..1..Vehicle</td><td>CoCulture_VehicleCT1   </td><td>Set1</td></tr>\n",
       "\t<tr><th scope=row>4</th><td>Abundance..3..Vehicle</td><td>CoCulture_VehicleCT2   </td><td>Set1</td></tr>\n",
       "\t<tr><th scope=row>5</th><td>Abundance..5..Vehicle</td><td>CoCulture_VehicleCT3   </td><td>Set1</td></tr>\n",
       "\t<tr><th scope=row>6</th><td>Abundance..7..Vehicle</td><td>CoCulture_VehicleCT4   </td><td>Set1</td></tr>\n",
       "</tbody>\n",
       "</table>\n"
      ],
      "text/latex": [
       "A data.frame: 6 × 3\n",
       "\\begin{tabular}{r|lll}\n",
       "  & IDs\\_from\\_Core & Our\\_Analysis\\_ID & Set\\\\\n",
       "  & <chr> & <chr> & <chr>\\\\\n",
       "\\hline\n",
       "\t1 & Abundance..Pooled.1   & CoCulture\\_PooledSample1 & Set1\\\\\n",
       "\t2 & Abundance..Pooled.2   & CoCulture\\_PooledSample2 & Set1\\\\\n",
       "\t3 & Abundance..1..Vehicle & CoCulture\\_VehicleCT1    & Set1\\\\\n",
       "\t4 & Abundance..3..Vehicle & CoCulture\\_VehicleCT2    & Set1\\\\\n",
       "\t5 & Abundance..5..Vehicle & CoCulture\\_VehicleCT3    & Set1\\\\\n",
       "\t6 & Abundance..7..Vehicle & CoCulture\\_VehicleCT4    & Set1\\\\\n",
       "\\end{tabular}\n"
      ],
      "text/markdown": [
       "\n",
       "A data.frame: 6 × 3\n",
       "\n",
       "| <!--/--> | IDs_from_Core &lt;chr&gt; | Our_Analysis_ID &lt;chr&gt; | Set &lt;chr&gt; |\n",
       "|---|---|---|---|\n",
       "| 1 | Abundance..Pooled.1   | CoCulture_PooledSample1 | Set1 |\n",
       "| 2 | Abundance..Pooled.2   | CoCulture_PooledSample2 | Set1 |\n",
       "| 3 | Abundance..1..Vehicle | CoCulture_VehicleCT1    | Set1 |\n",
       "| 4 | Abundance..3..Vehicle | CoCulture_VehicleCT2    | Set1 |\n",
       "| 5 | Abundance..5..Vehicle | CoCulture_VehicleCT3    | Set1 |\n",
       "| 6 | Abundance..7..Vehicle | CoCulture_VehicleCT4    | Set1 |\n",
       "\n"
      ],
      "text/plain": [
       "  IDs_from_Core         Our_Analysis_ID         Set \n",
       "1 Abundance..Pooled.1   CoCulture_PooledSample1 Set1\n",
       "2 Abundance..Pooled.2   CoCulture_PooledSample2 Set1\n",
       "3 Abundance..1..Vehicle CoCulture_VehicleCT1    Set1\n",
       "4 Abundance..3..Vehicle CoCulture_VehicleCT2    Set1\n",
       "5 Abundance..5..Vehicle CoCulture_VehicleCT3    Set1\n",
       "6 Abundance..7..Vehicle CoCulture_VehicleCT4    Set1"
      ]
     },
     "metadata": {},
     "output_type": "display_data"
    },
    {
     "data": {
      "text/html": [
       "<table class=\"dataframe\">\n",
       "<caption>A data.frame: 6 × 16</caption>\n",
       "<thead>\n",
       "\t<tr><th></th><th scope=col>Accession</th><th scope=col>Number_of_UniquePeptides</th><th scope=col>Abundance..Pooled.1</th><th scope=col>Abundance..Pooled.2</th><th scope=col>Abundance..1..Vehicle</th><th scope=col>Abundance..3..Vehicle</th><th scope=col>Abundance..5..Vehicle</th><th scope=col>Abundance..7..Vehicle</th><th scope=col>Abundance..9..Vehicle</th><th scope=col>Abundance..11..Vehicle</th><th scope=col>Abundance..2..Wood.Smoke</th><th scope=col>Abundance..4..Wood.Smoke</th><th scope=col>Abundance..6..Wood.Smoke</th><th scope=col>Abundance..8..Wood.Smoke</th><th scope=col>Abundance..10..Wood.Smoke</th><th scope=col>Abundance..12..Wood.Smoke</th></tr>\n",
       "\t<tr><th></th><th scope=col>&lt;chr&gt;</th><th scope=col>&lt;dbl&gt;</th><th scope=col>&lt;dbl&gt;</th><th scope=col>&lt;dbl&gt;</th><th scope=col>&lt;dbl&gt;</th><th scope=col>&lt;dbl&gt;</th><th scope=col>&lt;dbl&gt;</th><th scope=col>&lt;dbl&gt;</th><th scope=col>&lt;dbl&gt;</th><th scope=col>&lt;dbl&gt;</th><th scope=col>&lt;dbl&gt;</th><th scope=col>&lt;dbl&gt;</th><th scope=col>&lt;dbl&gt;</th><th scope=col>&lt;dbl&gt;</th><th scope=col>&lt;dbl&gt;</th><th scope=col>&lt;dbl&gt;</th></tr>\n",
       "</thead>\n",
       "<tbody>\n",
       "\t<tr><th scope=row>1</th><td>P02769</td><td> 99</td><td>4.89e+11</td><td>4.43e+11</td><td>6.26e+11</td><td>4.38e+11</td><td>4.74e+11</td><td>3.40e+11</td><td>4.94e+11</td><td>4.85e+11</td><td>4.54e+11</td><td>6.23e+11</td><td>7.37e+11</td><td>5.13e+11</td><td>3.96e+11</td><td>6.86e+11</td></tr>\n",
       "\t<tr><th scope=row>2</th><td>P02751</td><td>201</td><td>2.73e+11</td><td>2.41e+11</td><td>2.24e+11</td><td>2.43e+11</td><td>3.24e+11</td><td>2.53e+11</td><td>2.45e+11</td><td>1.35e+11</td><td>1.68e+11</td><td>2.37e+11</td><td>2.98e+11</td><td>2.54e+11</td><td>1.97e+11</td><td>2.50e+11</td></tr>\n",
       "\t<tr><th scope=row>3</th><td>P12763</td><td> 34</td><td>2.63e+11</td><td>2.29e+11</td><td>3.10e+11</td><td>2.33e+11</td><td>2.70e+11</td><td>2.42e+11</td><td>2.71e+11</td><td>2.50e+11</td><td>2.67e+11</td><td>2.86e+11</td><td>3.27e+11</td><td>2.63e+11</td><td>2.52e+11</td><td>3.03e+11</td></tr>\n",
       "\t<tr><th scope=row>4</th><td>Q2UVX4</td><td>162</td><td>5.65e+10</td><td>5.15e+10</td><td>6.76e+10</td><td>4.31e+10</td><td>4.09e+10</td><td>4.12e+10</td><td>4.92e+10</td><td>3.53e+10</td><td>4.76e+10</td><td>4.01e+10</td><td>3.68e+10</td><td>6.53e+10</td><td>4.45e+10</td><td>4.69e+10</td></tr>\n",
       "\t<tr><th scope=row>5</th><td>P98160</td><td>210</td><td>2.27e+10</td><td>2.04e+10</td><td>3.01e+10</td><td>1.79e+10</td><td>1.40e+10</td><td>2.64e+10</td><td>2.81e+10</td><td>2.85e+10</td><td>1.97e+10</td><td>1.40e+10</td><td>1.30e+10</td><td>2.19e+10</td><td>2.46e+10</td><td>2.27e+10</td></tr>\n",
       "\t<tr><th scope=row>6</th><td>P12111</td><td>201</td><td>2.15e+10</td><td>2.03e+10</td><td>1.55e+10</td><td>2.12e+10</td><td>2.29e+10</td><td>1.99e+10</td><td>2.00e+10</td><td>9.49e+09</td><td>1.67e+10</td><td>2.09e+10</td><td>2.67e+10</td><td>2.63e+10</td><td>2.06e+10</td><td>2.60e+10</td></tr>\n",
       "</tbody>\n",
       "</table>\n"
      ],
      "text/latex": [
       "A data.frame: 6 × 16\n",
       "\\begin{tabular}{r|llllllllllllllll}\n",
       "  & Accession & Number\\_of\\_UniquePeptides & Abundance..Pooled.1 & Abundance..Pooled.2 & Abundance..1..Vehicle & Abundance..3..Vehicle & Abundance..5..Vehicle & Abundance..7..Vehicle & Abundance..9..Vehicle & Abundance..11..Vehicle & Abundance..2..Wood.Smoke & Abundance..4..Wood.Smoke & Abundance..6..Wood.Smoke & Abundance..8..Wood.Smoke & Abundance..10..Wood.Smoke & Abundance..12..Wood.Smoke\\\\\n",
       "  & <chr> & <dbl> & <dbl> & <dbl> & <dbl> & <dbl> & <dbl> & <dbl> & <dbl> & <dbl> & <dbl> & <dbl> & <dbl> & <dbl> & <dbl> & <dbl>\\\\\n",
       "\\hline\n",
       "\t1 & P02769 &  99 & 4.89e+11 & 4.43e+11 & 6.26e+11 & 4.38e+11 & 4.74e+11 & 3.40e+11 & 4.94e+11 & 4.85e+11 & 4.54e+11 & 6.23e+11 & 7.37e+11 & 5.13e+11 & 3.96e+11 & 6.86e+11\\\\\n",
       "\t2 & P02751 & 201 & 2.73e+11 & 2.41e+11 & 2.24e+11 & 2.43e+11 & 3.24e+11 & 2.53e+11 & 2.45e+11 & 1.35e+11 & 1.68e+11 & 2.37e+11 & 2.98e+11 & 2.54e+11 & 1.97e+11 & 2.50e+11\\\\\n",
       "\t3 & P12763 &  34 & 2.63e+11 & 2.29e+11 & 3.10e+11 & 2.33e+11 & 2.70e+11 & 2.42e+11 & 2.71e+11 & 2.50e+11 & 2.67e+11 & 2.86e+11 & 3.27e+11 & 2.63e+11 & 2.52e+11 & 3.03e+11\\\\\n",
       "\t4 & Q2UVX4 & 162 & 5.65e+10 & 5.15e+10 & 6.76e+10 & 4.31e+10 & 4.09e+10 & 4.12e+10 & 4.92e+10 & 3.53e+10 & 4.76e+10 & 4.01e+10 & 3.68e+10 & 6.53e+10 & 4.45e+10 & 4.69e+10\\\\\n",
       "\t5 & P98160 & 210 & 2.27e+10 & 2.04e+10 & 3.01e+10 & 1.79e+10 & 1.40e+10 & 2.64e+10 & 2.81e+10 & 2.85e+10 & 1.97e+10 & 1.40e+10 & 1.30e+10 & 2.19e+10 & 2.46e+10 & 2.27e+10\\\\\n",
       "\t6 & P12111 & 201 & 2.15e+10 & 2.03e+10 & 1.55e+10 & 2.12e+10 & 2.29e+10 & 1.99e+10 & 2.00e+10 & 9.49e+09 & 1.67e+10 & 2.09e+10 & 2.67e+10 & 2.63e+10 & 2.06e+10 & 2.60e+10\\\\\n",
       "\\end{tabular}\n"
      ],
      "text/markdown": [
       "\n",
       "A data.frame: 6 × 16\n",
       "\n",
       "| <!--/--> | Accession &lt;chr&gt; | Number_of_UniquePeptides &lt;dbl&gt; | Abundance..Pooled.1 &lt;dbl&gt; | Abundance..Pooled.2 &lt;dbl&gt; | Abundance..1..Vehicle &lt;dbl&gt; | Abundance..3..Vehicle &lt;dbl&gt; | Abundance..5..Vehicle &lt;dbl&gt; | Abundance..7..Vehicle &lt;dbl&gt; | Abundance..9..Vehicle &lt;dbl&gt; | Abundance..11..Vehicle &lt;dbl&gt; | Abundance..2..Wood.Smoke &lt;dbl&gt; | Abundance..4..Wood.Smoke &lt;dbl&gt; | Abundance..6..Wood.Smoke &lt;dbl&gt; | Abundance..8..Wood.Smoke &lt;dbl&gt; | Abundance..10..Wood.Smoke &lt;dbl&gt; | Abundance..12..Wood.Smoke &lt;dbl&gt; |\n",
       "|---|---|---|---|---|---|---|---|---|---|---|---|---|---|---|---|---|\n",
       "| 1 | P02769 |  99 | 4.89e+11 | 4.43e+11 | 6.26e+11 | 4.38e+11 | 4.74e+11 | 3.40e+11 | 4.94e+11 | 4.85e+11 | 4.54e+11 | 6.23e+11 | 7.37e+11 | 5.13e+11 | 3.96e+11 | 6.86e+11 |\n",
       "| 2 | P02751 | 201 | 2.73e+11 | 2.41e+11 | 2.24e+11 | 2.43e+11 | 3.24e+11 | 2.53e+11 | 2.45e+11 | 1.35e+11 | 1.68e+11 | 2.37e+11 | 2.98e+11 | 2.54e+11 | 1.97e+11 | 2.50e+11 |\n",
       "| 3 | P12763 |  34 | 2.63e+11 | 2.29e+11 | 3.10e+11 | 2.33e+11 | 2.70e+11 | 2.42e+11 | 2.71e+11 | 2.50e+11 | 2.67e+11 | 2.86e+11 | 3.27e+11 | 2.63e+11 | 2.52e+11 | 3.03e+11 |\n",
       "| 4 | Q2UVX4 | 162 | 5.65e+10 | 5.15e+10 | 6.76e+10 | 4.31e+10 | 4.09e+10 | 4.12e+10 | 4.92e+10 | 3.53e+10 | 4.76e+10 | 4.01e+10 | 3.68e+10 | 6.53e+10 | 4.45e+10 | 4.69e+10 |\n",
       "| 5 | P98160 | 210 | 2.27e+10 | 2.04e+10 | 3.01e+10 | 1.79e+10 | 1.40e+10 | 2.64e+10 | 2.81e+10 | 2.85e+10 | 1.97e+10 | 1.40e+10 | 1.30e+10 | 2.19e+10 | 2.46e+10 | 2.27e+10 |\n",
       "| 6 | P12111 | 201 | 2.15e+10 | 2.03e+10 | 1.55e+10 | 2.12e+10 | 2.29e+10 | 1.99e+10 | 2.00e+10 | 9.49e+09 | 1.67e+10 | 2.09e+10 | 2.67e+10 | 2.63e+10 | 2.06e+10 | 2.60e+10 |\n",
       "\n"
      ],
      "text/plain": [
       "  Accession Number_of_UniquePeptides Abundance..Pooled.1 Abundance..Pooled.2\n",
       "1 P02769     99                      4.89e+11            4.43e+11           \n",
       "2 P02751    201                      2.73e+11            2.41e+11           \n",
       "3 P12763     34                      2.63e+11            2.29e+11           \n",
       "4 Q2UVX4    162                      5.65e+10            5.15e+10           \n",
       "5 P98160    210                      2.27e+10            2.04e+10           \n",
       "6 P12111    201                      2.15e+10            2.03e+10           \n",
       "  Abundance..1..Vehicle Abundance..3..Vehicle Abundance..5..Vehicle\n",
       "1 6.26e+11              4.38e+11              4.74e+11             \n",
       "2 2.24e+11              2.43e+11              3.24e+11             \n",
       "3 3.10e+11              2.33e+11              2.70e+11             \n",
       "4 6.76e+10              4.31e+10              4.09e+10             \n",
       "5 3.01e+10              1.79e+10              1.40e+10             \n",
       "6 1.55e+10              2.12e+10              2.29e+10             \n",
       "  Abundance..7..Vehicle Abundance..9..Vehicle Abundance..11..Vehicle\n",
       "1 3.40e+11              4.94e+11              4.85e+11              \n",
       "2 2.53e+11              2.45e+11              1.35e+11              \n",
       "3 2.42e+11              2.71e+11              2.50e+11              \n",
       "4 4.12e+10              4.92e+10              3.53e+10              \n",
       "5 2.64e+10              2.81e+10              2.85e+10              \n",
       "6 1.99e+10              2.00e+10              9.49e+09              \n",
       "  Abundance..2..Wood.Smoke Abundance..4..Wood.Smoke Abundance..6..Wood.Smoke\n",
       "1 4.54e+11                 6.23e+11                 7.37e+11                \n",
       "2 1.68e+11                 2.37e+11                 2.98e+11                \n",
       "3 2.67e+11                 2.86e+11                 3.27e+11                \n",
       "4 4.76e+10                 4.01e+10                 3.68e+10                \n",
       "5 1.97e+10                 1.40e+10                 1.30e+10                \n",
       "6 1.67e+10                 2.09e+10                 2.67e+10                \n",
       "  Abundance..8..Wood.Smoke Abundance..10..Wood.Smoke Abundance..12..Wood.Smoke\n",
       "1 5.13e+11                 3.96e+11                  6.86e+11                 \n",
       "2 2.54e+11                 1.97e+11                  2.50e+11                 \n",
       "3 2.63e+11                 2.52e+11                  3.03e+11                 \n",
       "4 6.53e+10                 4.45e+10                  4.69e+10                 \n",
       "5 2.19e+10                 2.46e+10                  2.27e+10                 \n",
       "6 2.63e+10                 2.06e+10                  2.60e+10                 "
      ]
     },
     "metadata": {},
     "output_type": "display_data"
    },
    {
     "data": {
      "text/html": [
       "<table class=\"dataframe\">\n",
       "<caption>A data.frame: 6 × 16</caption>\n",
       "<thead>\n",
       "\t<tr><th></th><th scope=col>Accession</th><th scope=col>Number_of_UniquePeptides</th><th scope=col>Abundance..Pooled.1</th><th scope=col>Abundance..Pooled.2</th><th scope=col>Abundance..13..Vehicle</th><th scope=col>Abundance..15..Vehicle</th><th scope=col>Abundance..17..Vehicle</th><th scope=col>Abundance..19..Vehicle</th><th scope=col>Abundance..21..Vehicle</th><th scope=col>Abundance..23..Vehicle</th><th scope=col>Abundance..14..Wood.Smoke</th><th scope=col>Abundance..16..Wood.Smoke</th><th scope=col>Abundance..18..Wood.Smoke</th><th scope=col>Abundance..20..Wood.Smoke</th><th scope=col>Abundance..22..Wood.Smoke</th><th scope=col>Abundance..24..Wood.Smoke</th></tr>\n",
       "\t<tr><th></th><th scope=col>&lt;chr&gt;</th><th scope=col>&lt;dbl&gt;</th><th scope=col>&lt;dbl&gt;</th><th scope=col>&lt;dbl&gt;</th><th scope=col>&lt;dbl&gt;</th><th scope=col>&lt;dbl&gt;</th><th scope=col>&lt;dbl&gt;</th><th scope=col>&lt;dbl&gt;</th><th scope=col>&lt;dbl&gt;</th><th scope=col>&lt;dbl&gt;</th><th scope=col>&lt;dbl&gt;</th><th scope=col>&lt;dbl&gt;</th><th scope=col>&lt;dbl&gt;</th><th scope=col>&lt;dbl&gt;</th><th scope=col>&lt;dbl&gt;</th><th scope=col>&lt;dbl&gt;</th></tr>\n",
       "</thead>\n",
       "<tbody>\n",
       "\t<tr><th scope=row>1</th><td>P02751</td><td>193</td><td>197908273327</td><td>215449909749</td><td>290377149672</td><td>237808533258</td><td>300713328573</td><td>246820946145</td><td>304313034954</td><td>264966884310</td><td>243333335207</td><td>199860505414</td><td>279706283336</td><td>225170612912</td><td>229939459846</td><td>154501914723</td></tr>\n",
       "\t<tr><th scope=row>2</th><td>P02769</td><td> 97</td><td>342657042076</td><td>370488835120</td><td>308967859550</td><td>242917660277</td><td>278096520636</td><td>259674859546</td><td>291397652436</td><td>563821412595</td><td>281882492897</td><td>732144132018</td><td>248045691869</td><td>233383724786</td><td>349312465553</td><td>251094645011</td></tr>\n",
       "\t<tr><th scope=row>3</th><td>P07996</td><td> 34</td><td> 64580519826</td><td> 73778236233</td><td>181775619913</td><td>129485605438</td><td>169377550217</td><td>134685992120</td><td>114143664541</td><td>249366551496</td><td>132714564698</td><td>128084639698</td><td>112262919453</td><td>111419806864</td><td> 73857936963</td><td>108923410421</td></tr>\n",
       "\t<tr><th scope=row>4</th><td>Q2UVX4</td><td>160</td><td> 41255020284</td><td> 45525199756</td><td> 55681501380</td><td> 35618922477</td><td> 44222632333</td><td> 47245712210</td><td> 44043324866</td><td> 75943777589</td><td> 53160804546</td><td> 68298716794</td><td> 48638631002</td><td> 47654755526</td><td> 35704911241</td><td> 52145684636</td></tr>\n",
       "\t<tr><th scope=row>5</th><td>P98160</td><td>207</td><td> 16164372416</td><td> 18035124503</td><td> 20257643320</td><td> 13577050138</td><td> 17442737821</td><td> 24582420164</td><td> 20491703047</td><td> 36081485773</td><td> 20355674908</td><td> 16277580495</td><td> 15654918570</td><td> 19579785521</td><td> 16823558423</td><td> 20030021253</td></tr>\n",
       "\t<tr><th scope=row>6</th><td>P12763</td><td> 32</td><td>180364995691</td><td>186934859645</td><td>159857253388</td><td>143580491033</td><td>158608208515</td><td>140452510019</td><td>145834623969</td><td>220324446614</td><td>137520441019</td><td>237042125375</td><td>156248949606</td><td>124984210103</td><td>171103871588</td><td>143324724008</td></tr>\n",
       "</tbody>\n",
       "</table>\n"
      ],
      "text/latex": [
       "A data.frame: 6 × 16\n",
       "\\begin{tabular}{r|llllllllllllllll}\n",
       "  & Accession & Number\\_of\\_UniquePeptides & Abundance..Pooled.1 & Abundance..Pooled.2 & Abundance..13..Vehicle & Abundance..15..Vehicle & Abundance..17..Vehicle & Abundance..19..Vehicle & Abundance..21..Vehicle & Abundance..23..Vehicle & Abundance..14..Wood.Smoke & Abundance..16..Wood.Smoke & Abundance..18..Wood.Smoke & Abundance..20..Wood.Smoke & Abundance..22..Wood.Smoke & Abundance..24..Wood.Smoke\\\\\n",
       "  & <chr> & <dbl> & <dbl> & <dbl> & <dbl> & <dbl> & <dbl> & <dbl> & <dbl> & <dbl> & <dbl> & <dbl> & <dbl> & <dbl> & <dbl> & <dbl>\\\\\n",
       "\\hline\n",
       "\t1 & P02751 & 193 & 197908273327 & 215449909749 & 290377149672 & 237808533258 & 300713328573 & 246820946145 & 304313034954 & 264966884310 & 243333335207 & 199860505414 & 279706283336 & 225170612912 & 229939459846 & 154501914723\\\\\n",
       "\t2 & P02769 &  97 & 342657042076 & 370488835120 & 308967859550 & 242917660277 & 278096520636 & 259674859546 & 291397652436 & 563821412595 & 281882492897 & 732144132018 & 248045691869 & 233383724786 & 349312465553 & 251094645011\\\\\n",
       "\t3 & P07996 &  34 &  64580519826 &  73778236233 & 181775619913 & 129485605438 & 169377550217 & 134685992120 & 114143664541 & 249366551496 & 132714564698 & 128084639698 & 112262919453 & 111419806864 &  73857936963 & 108923410421\\\\\n",
       "\t4 & Q2UVX4 & 160 &  41255020284 &  45525199756 &  55681501380 &  35618922477 &  44222632333 &  47245712210 &  44043324866 &  75943777589 &  53160804546 &  68298716794 &  48638631002 &  47654755526 &  35704911241 &  52145684636\\\\\n",
       "\t5 & P98160 & 207 &  16164372416 &  18035124503 &  20257643320 &  13577050138 &  17442737821 &  24582420164 &  20491703047 &  36081485773 &  20355674908 &  16277580495 &  15654918570 &  19579785521 &  16823558423 &  20030021253\\\\\n",
       "\t6 & P12763 &  32 & 180364995691 & 186934859645 & 159857253388 & 143580491033 & 158608208515 & 140452510019 & 145834623969 & 220324446614 & 137520441019 & 237042125375 & 156248949606 & 124984210103 & 171103871588 & 143324724008\\\\\n",
       "\\end{tabular}\n"
      ],
      "text/markdown": [
       "\n",
       "A data.frame: 6 × 16\n",
       "\n",
       "| <!--/--> | Accession &lt;chr&gt; | Number_of_UniquePeptides &lt;dbl&gt; | Abundance..Pooled.1 &lt;dbl&gt; | Abundance..Pooled.2 &lt;dbl&gt; | Abundance..13..Vehicle &lt;dbl&gt; | Abundance..15..Vehicle &lt;dbl&gt; | Abundance..17..Vehicle &lt;dbl&gt; | Abundance..19..Vehicle &lt;dbl&gt; | Abundance..21..Vehicle &lt;dbl&gt; | Abundance..23..Vehicle &lt;dbl&gt; | Abundance..14..Wood.Smoke &lt;dbl&gt; | Abundance..16..Wood.Smoke &lt;dbl&gt; | Abundance..18..Wood.Smoke &lt;dbl&gt; | Abundance..20..Wood.Smoke &lt;dbl&gt; | Abundance..22..Wood.Smoke &lt;dbl&gt; | Abundance..24..Wood.Smoke &lt;dbl&gt; |\n",
       "|---|---|---|---|---|---|---|---|---|---|---|---|---|---|---|---|---|\n",
       "| 1 | P02751 | 193 | 197908273327 | 215449909749 | 290377149672 | 237808533258 | 300713328573 | 246820946145 | 304313034954 | 264966884310 | 243333335207 | 199860505414 | 279706283336 | 225170612912 | 229939459846 | 154501914723 |\n",
       "| 2 | P02769 |  97 | 342657042076 | 370488835120 | 308967859550 | 242917660277 | 278096520636 | 259674859546 | 291397652436 | 563821412595 | 281882492897 | 732144132018 | 248045691869 | 233383724786 | 349312465553 | 251094645011 |\n",
       "| 3 | P07996 |  34 |  64580519826 |  73778236233 | 181775619913 | 129485605438 | 169377550217 | 134685992120 | 114143664541 | 249366551496 | 132714564698 | 128084639698 | 112262919453 | 111419806864 |  73857936963 | 108923410421 |\n",
       "| 4 | Q2UVX4 | 160 |  41255020284 |  45525199756 |  55681501380 |  35618922477 |  44222632333 |  47245712210 |  44043324866 |  75943777589 |  53160804546 |  68298716794 |  48638631002 |  47654755526 |  35704911241 |  52145684636 |\n",
       "| 5 | P98160 | 207 |  16164372416 |  18035124503 |  20257643320 |  13577050138 |  17442737821 |  24582420164 |  20491703047 |  36081485773 |  20355674908 |  16277580495 |  15654918570 |  19579785521 |  16823558423 |  20030021253 |\n",
       "| 6 | P12763 |  32 | 180364995691 | 186934859645 | 159857253388 | 143580491033 | 158608208515 | 140452510019 | 145834623969 | 220324446614 | 137520441019 | 237042125375 | 156248949606 | 124984210103 | 171103871588 | 143324724008 |\n",
       "\n"
      ],
      "text/plain": [
       "  Accession Number_of_UniquePeptides Abundance..Pooled.1 Abundance..Pooled.2\n",
       "1 P02751    193                      197908273327        215449909749       \n",
       "2 P02769     97                      342657042076        370488835120       \n",
       "3 P07996     34                       64580519826         73778236233       \n",
       "4 Q2UVX4    160                       41255020284         45525199756       \n",
       "5 P98160    207                       16164372416         18035124503       \n",
       "6 P12763     32                      180364995691        186934859645       \n",
       "  Abundance..13..Vehicle Abundance..15..Vehicle Abundance..17..Vehicle\n",
       "1 290377149672           237808533258           300713328573          \n",
       "2 308967859550           242917660277           278096520636          \n",
       "3 181775619913           129485605438           169377550217          \n",
       "4  55681501380            35618922477            44222632333          \n",
       "5  20257643320            13577050138            17442737821          \n",
       "6 159857253388           143580491033           158608208515          \n",
       "  Abundance..19..Vehicle Abundance..21..Vehicle Abundance..23..Vehicle\n",
       "1 246820946145           304313034954           264966884310          \n",
       "2 259674859546           291397652436           563821412595          \n",
       "3 134685992120           114143664541           249366551496          \n",
       "4  47245712210            44043324866            75943777589          \n",
       "5  24582420164            20491703047            36081485773          \n",
       "6 140452510019           145834623969           220324446614          \n",
       "  Abundance..14..Wood.Smoke Abundance..16..Wood.Smoke Abundance..18..Wood.Smoke\n",
       "1 243333335207              199860505414              279706283336             \n",
       "2 281882492897              732144132018              248045691869             \n",
       "3 132714564698              128084639698              112262919453             \n",
       "4  53160804546               68298716794               48638631002             \n",
       "5  20355674908               16277580495               15654918570             \n",
       "6 137520441019              237042125375              156248949606             \n",
       "  Abundance..20..Wood.Smoke Abundance..22..Wood.Smoke Abundance..24..Wood.Smoke\n",
       "1 225170612912              229939459846              154501914723             \n",
       "2 233383724786              349312465553              251094645011             \n",
       "3 111419806864               73857936963              108923410421             \n",
       "4  47654755526               35704911241               52145684636             \n",
       "5  19579785521               16823558423               20030021253             \n",
       "6 124984210103              171103871588              143324724008             "
      ]
     },
     "metadata": {},
     "output_type": "display_data"
    }
   ],
   "source": [
    "head(identifiers_df)\n",
    "head(set1_proteome_df)\n",
    "head(set2_proteome_df)"
   ]
  },
  {
   "cell_type": "code",
   "execution_count": 5,
   "id": "dedicated-indication",
   "metadata": {},
   "outputs": [
    {
     "data": {
      "text/html": [
       "<table class=\"dataframe\">\n",
       "<caption>A tibble: 6 × 5</caption>\n",
       "<thead>\n",
       "\t<tr><th scope=col>Protein</th><th scope=col>Number_of_UniquePeptides</th><th scope=col>IDs_from_Core</th><th scope=col>Value</th><th scope=col>Set</th></tr>\n",
       "\t<tr><th scope=col>&lt;chr&gt;</th><th scope=col>&lt;dbl&gt;</th><th scope=col>&lt;chr&gt;</th><th scope=col>&lt;dbl&gt;</th><th scope=col>&lt;chr&gt;</th></tr>\n",
       "</thead>\n",
       "<tbody>\n",
       "\t<tr><td>P02769</td><td>99</td><td>Abundance..Pooled.1  </td><td>4.89e+11</td><td>Set1</td></tr>\n",
       "\t<tr><td>P02769</td><td>99</td><td>Abundance..Pooled.2  </td><td>4.43e+11</td><td>Set1</td></tr>\n",
       "\t<tr><td>P02769</td><td>99</td><td>Abundance..1..Vehicle</td><td>6.26e+11</td><td>Set1</td></tr>\n",
       "\t<tr><td>P02769</td><td>99</td><td>Abundance..3..Vehicle</td><td>4.38e+11</td><td>Set1</td></tr>\n",
       "\t<tr><td>P02769</td><td>99</td><td>Abundance..5..Vehicle</td><td>4.74e+11</td><td>Set1</td></tr>\n",
       "\t<tr><td>P02769</td><td>99</td><td>Abundance..7..Vehicle</td><td>3.40e+11</td><td>Set1</td></tr>\n",
       "</tbody>\n",
       "</table>\n"
      ],
      "text/latex": [
       "A tibble: 6 × 5\n",
       "\\begin{tabular}{lllll}\n",
       " Protein & Number\\_of\\_UniquePeptides & IDs\\_from\\_Core & Value & Set\\\\\n",
       " <chr> & <dbl> & <chr> & <dbl> & <chr>\\\\\n",
       "\\hline\n",
       "\t P02769 & 99 & Abundance..Pooled.1   & 4.89e+11 & Set1\\\\\n",
       "\t P02769 & 99 & Abundance..Pooled.2   & 4.43e+11 & Set1\\\\\n",
       "\t P02769 & 99 & Abundance..1..Vehicle & 6.26e+11 & Set1\\\\\n",
       "\t P02769 & 99 & Abundance..3..Vehicle & 4.38e+11 & Set1\\\\\n",
       "\t P02769 & 99 & Abundance..5..Vehicle & 4.74e+11 & Set1\\\\\n",
       "\t P02769 & 99 & Abundance..7..Vehicle & 3.40e+11 & Set1\\\\\n",
       "\\end{tabular}\n"
      ],
      "text/markdown": [
       "\n",
       "A tibble: 6 × 5\n",
       "\n",
       "| Protein &lt;chr&gt; | Number_of_UniquePeptides &lt;dbl&gt; | IDs_from_Core &lt;chr&gt; | Value &lt;dbl&gt; | Set &lt;chr&gt; |\n",
       "|---|---|---|---|---|\n",
       "| P02769 | 99 | Abundance..Pooled.1   | 4.89e+11 | Set1 |\n",
       "| P02769 | 99 | Abundance..Pooled.2   | 4.43e+11 | Set1 |\n",
       "| P02769 | 99 | Abundance..1..Vehicle | 6.26e+11 | Set1 |\n",
       "| P02769 | 99 | Abundance..3..Vehicle | 4.38e+11 | Set1 |\n",
       "| P02769 | 99 | Abundance..5..Vehicle | 4.74e+11 | Set1 |\n",
       "| P02769 | 99 | Abundance..7..Vehicle | 3.40e+11 | Set1 |\n",
       "\n"
      ],
      "text/plain": [
       "  Protein Number_of_UniquePeptides IDs_from_Core         Value    Set \n",
       "1 P02769  99                       Abundance..Pooled.1   4.89e+11 Set1\n",
       "2 P02769  99                       Abundance..Pooled.2   4.43e+11 Set1\n",
       "3 P02769  99                       Abundance..1..Vehicle 6.26e+11 Set1\n",
       "4 P02769  99                       Abundance..3..Vehicle 4.38e+11 Set1\n",
       "5 P02769  99                       Abundance..5..Vehicle 4.74e+11 Set1\n",
       "6 P02769  99                       Abundance..7..Vehicle 3.40e+11 Set1"
      ]
     },
     "metadata": {},
     "output_type": "display_data"
    }
   ],
   "source": [
    "# creating 1 proteome df\n",
    "set1_proteome_df = set1_proteome_df %>%\n",
    "    pivot_longer(cols = 3:16, names_to = \"IDs_from_Core\", values_to = \"Value\") %>%\n",
    "    mutate(Set = c(\"Set1\"))\n",
    "\n",
    "set2_proteome_df = set2_proteome_df %>%\n",
    "    pivot_longer(cols = 3:16, names_to = \"IDs_from_Core\", values_to = \"Value\") %>%\n",
    "    mutate(Set = c(\"Set2\"))\n",
    "\n",
    "proteome_df = rbind(set1_proteome_df, set2_proteome_df) %>%\n",
    "    rename(Protein = Accession)\n",
    "head(proteome_df)"
   ]
  },
  {
   "cell_type": "code",
   "execution_count": 6,
   "id": "arctic-nerve",
   "metadata": {},
   "outputs": [
    {
     "name": "stderr",
     "output_type": "stream",
     "text": [
      "\u001b[1m\u001b[22mJoining, by = c(\"IDs_from_Core\", \"Set\")\n"
     ]
    },
    {
     "data": {
      "text/html": [
       "<table class=\"dataframe\">\n",
       "<caption>A data.frame: 6 × 6</caption>\n",
       "<thead>\n",
       "\t<tr><th></th><th scope=col>ID</th><th scope=col>Set</th><th scope=col>Protein</th><th scope=col>Unique_Peptides</th><th scope=col>Value</th><th scope=col>Treatment</th></tr>\n",
       "\t<tr><th></th><th scope=col>&lt;chr&gt;</th><th scope=col>&lt;chr&gt;</th><th scope=col>&lt;chr&gt;</th><th scope=col>&lt;dbl&gt;</th><th scope=col>&lt;dbl&gt;</th><th scope=col>&lt;chr&gt;</th></tr>\n",
       "</thead>\n",
       "<tbody>\n",
       "\t<tr><th scope=row>1</th><td>CoCulture_VehicleCT1</td><td>Set1</td><td>P02769</td><td> 99</td><td>6.26e+11</td><td>CoCulture_Vehicle</td></tr>\n",
       "\t<tr><th scope=row>2</th><td>CoCulture_VehicleCT1</td><td>Set1</td><td>P02751</td><td>201</td><td>2.24e+11</td><td>CoCulture_Vehicle</td></tr>\n",
       "\t<tr><th scope=row>3</th><td>CoCulture_VehicleCT1</td><td>Set1</td><td>P12763</td><td> 34</td><td>3.10e+11</td><td>CoCulture_Vehicle</td></tr>\n",
       "\t<tr><th scope=row>4</th><td>CoCulture_VehicleCT1</td><td>Set1</td><td>Q2UVX4</td><td>162</td><td>6.76e+10</td><td>CoCulture_Vehicle</td></tr>\n",
       "\t<tr><th scope=row>5</th><td>CoCulture_VehicleCT1</td><td>Set1</td><td>P98160</td><td>210</td><td>3.01e+10</td><td>CoCulture_Vehicle</td></tr>\n",
       "\t<tr><th scope=row>6</th><td>CoCulture_VehicleCT1</td><td>Set1</td><td>P12111</td><td>201</td><td>1.55e+10</td><td>CoCulture_Vehicle</td></tr>\n",
       "</tbody>\n",
       "</table>\n"
      ],
      "text/latex": [
       "A data.frame: 6 × 6\n",
       "\\begin{tabular}{r|llllll}\n",
       "  & ID & Set & Protein & Unique\\_Peptides & Value & Treatment\\\\\n",
       "  & <chr> & <chr> & <chr> & <dbl> & <dbl> & <chr>\\\\\n",
       "\\hline\n",
       "\t1 & CoCulture\\_VehicleCT1 & Set1 & P02769 &  99 & 6.26e+11 & CoCulture\\_Vehicle\\\\\n",
       "\t2 & CoCulture\\_VehicleCT1 & Set1 & P02751 & 201 & 2.24e+11 & CoCulture\\_Vehicle\\\\\n",
       "\t3 & CoCulture\\_VehicleCT1 & Set1 & P12763 &  34 & 3.10e+11 & CoCulture\\_Vehicle\\\\\n",
       "\t4 & CoCulture\\_VehicleCT1 & Set1 & Q2UVX4 & 162 & 6.76e+10 & CoCulture\\_Vehicle\\\\\n",
       "\t5 & CoCulture\\_VehicleCT1 & Set1 & P98160 & 210 & 3.01e+10 & CoCulture\\_Vehicle\\\\\n",
       "\t6 & CoCulture\\_VehicleCT1 & Set1 & P12111 & 201 & 1.55e+10 & CoCulture\\_Vehicle\\\\\n",
       "\\end{tabular}\n"
      ],
      "text/markdown": [
       "\n",
       "A data.frame: 6 × 6\n",
       "\n",
       "| <!--/--> | ID &lt;chr&gt; | Set &lt;chr&gt; | Protein &lt;chr&gt; | Unique_Peptides &lt;dbl&gt; | Value &lt;dbl&gt; | Treatment &lt;chr&gt; |\n",
       "|---|---|---|---|---|---|---|\n",
       "| 1 | CoCulture_VehicleCT1 | Set1 | P02769 |  99 | 6.26e+11 | CoCulture_Vehicle |\n",
       "| 2 | CoCulture_VehicleCT1 | Set1 | P02751 | 201 | 2.24e+11 | CoCulture_Vehicle |\n",
       "| 3 | CoCulture_VehicleCT1 | Set1 | P12763 |  34 | 3.10e+11 | CoCulture_Vehicle |\n",
       "| 4 | CoCulture_VehicleCT1 | Set1 | Q2UVX4 | 162 | 6.76e+10 | CoCulture_Vehicle |\n",
       "| 5 | CoCulture_VehicleCT1 | Set1 | P98160 | 210 | 3.01e+10 | CoCulture_Vehicle |\n",
       "| 6 | CoCulture_VehicleCT1 | Set1 | P12111 | 201 | 1.55e+10 | CoCulture_Vehicle |\n",
       "\n"
      ],
      "text/plain": [
       "  ID                   Set  Protein Unique_Peptides Value    Treatment        \n",
       "1 CoCulture_VehicleCT1 Set1 P02769   99             6.26e+11 CoCulture_Vehicle\n",
       "2 CoCulture_VehicleCT1 Set1 P02751  201             2.24e+11 CoCulture_Vehicle\n",
       "3 CoCulture_VehicleCT1 Set1 P12763   34             3.10e+11 CoCulture_Vehicle\n",
       "4 CoCulture_VehicleCT1 Set1 Q2UVX4  162             6.76e+10 CoCulture_Vehicle\n",
       "5 CoCulture_VehicleCT1 Set1 P98160  210             3.01e+10 CoCulture_Vehicle\n",
       "6 CoCulture_VehicleCT1 Set1 P12111  201             1.55e+10 CoCulture_Vehicle"
      ]
     },
     "metadata": {},
     "output_type": "display_data"
    }
   ],
   "source": [
    "#adding in our own ids\n",
    "proteome_df = inner_join(identifiers_df, proteome_df) %>%\n",
    "    select(-IDs_from_Core) %>%\n",
    "    rename(ID = Our_Analysis_ID, Unique_Peptides = Number_of_UniquePeptides) %>%\n",
    "    #creating a col that denotes the general treatment to remove proteins within those treatment groups\n",
    "    mutate(Treatment = ifelse(grepl(\"CoCulture_PooledSample\", ID), \"CoCulture_PooledSample\",\n",
    "                             ifelse(grepl(\"CoCulture_Vehicle\", ID), \"CoCulture_Vehicle\",\n",
    "                                   ifelse(grepl(\"CoCulture_Exposed\", ID), \"CoCulture_Exposed\",\n",
    "                                         ifelse(grepl(\"TriCulture_PooledSample\", ID), \"TriCulture_PooledSample\",\n",
    "                                             ifelse(grepl(\"TriCulture_Vehicle\", ID), \"TriCulture_Vehicle\",\n",
    "                                                   ifelse(grepl(\"TriCulture_Exposed\", ID), \"TriCulture_Exposed\",\n",
    "                                         \n",
    "                                         NA))))))) %>%\n",
    "    # removing pooled samples and exposed samples since they're not needed for analysis\n",
    "    filter(!grepl(\"PooledSample\", Treatment)) %>%\n",
    "    filter(!grepl(\"Exposed\", Treatment))\n",
    "\n",
    "head(proteome_df)"
   ]
  },
  {
   "cell_type": "code",
   "execution_count": 7,
   "id": "f424b170",
   "metadata": {},
   "outputs": [
    {
     "data": {
      "text/html": [
       "2167"
      ],
      "text/latex": [
       "2167"
      ],
      "text/markdown": [
       "2167"
      ],
      "text/plain": [
       "[1] 2167"
      ]
     },
     "metadata": {},
     "output_type": "display_data"
    }
   ],
   "source": [
    "# intial number of proteins prior to filtering\n",
    "length(unique(proteome_df$Protein))"
   ]
  },
  {
   "cell_type": "markdown",
   "id": "initial-jesus",
   "metadata": {},
   "source": [
    "# 1. Peptide Normalization\n",
    "\n",
    "Normalize to total amount of peptide per sample: sum the abundance values for each sample, then calculate the median value across all of the summed abundance values, and calculate the ratio"
   ]
  },
  {
   "cell_type": "code",
   "execution_count": 8,
   "id": "quality-malta",
   "metadata": {},
   "outputs": [
    {
     "data": {
      "text/html": [
       "<table class=\"dataframe\">\n",
       "<caption>A tibble: 6 × 7</caption>\n",
       "<thead>\n",
       "\t<tr><th scope=col>ID</th><th scope=col>Set</th><th scope=col>Protein</th><th scope=col>Unique_Peptides</th><th scope=col>Value</th><th scope=col>Treatment</th><th scope=col>Norm_Value</th></tr>\n",
       "\t<tr><th scope=col>&lt;chr&gt;</th><th scope=col>&lt;chr&gt;</th><th scope=col>&lt;chr&gt;</th><th scope=col>&lt;dbl&gt;</th><th scope=col>&lt;dbl&gt;</th><th scope=col>&lt;chr&gt;</th><th scope=col>&lt;dbl&gt;</th></tr>\n",
       "</thead>\n",
       "<tbody>\n",
       "\t<tr><td>CoCulture_VehicleCT1</td><td>Set1</td><td>P02769</td><td> 99</td><td>6.26e+11</td><td>CoCulture_Vehicle</td><td>538898561927</td></tr>\n",
       "\t<tr><td>CoCulture_VehicleCT1</td><td>Set1</td><td>P02751</td><td>201</td><td>2.24e+11</td><td>CoCulture_Vehicle</td><td>192832712255</td></tr>\n",
       "\t<tr><td>CoCulture_VehicleCT1</td><td>Set1</td><td>P12763</td><td> 34</td><td>3.10e+11</td><td>CoCulture_Vehicle</td><td>266866699996</td></tr>\n",
       "\t<tr><td>CoCulture_VehicleCT1</td><td>Set1</td><td>Q2UVX4</td><td>162</td><td>6.76e+10</td><td>CoCulture_Vehicle</td><td> 58194157806</td></tr>\n",
       "\t<tr><td>CoCulture_VehicleCT1</td><td>Set1</td><td>P98160</td><td>210</td><td>3.01e+10</td><td>CoCulture_Vehicle</td><td> 25911895709</td></tr>\n",
       "\t<tr><td>CoCulture_VehicleCT1</td><td>Set1</td><td>P12111</td><td>201</td><td>1.55e+10</td><td>CoCulture_Vehicle</td><td> 13343335000</td></tr>\n",
       "</tbody>\n",
       "</table>\n"
      ],
      "text/latex": [
       "A tibble: 6 × 7\n",
       "\\begin{tabular}{lllllll}\n",
       " ID & Set & Protein & Unique\\_Peptides & Value & Treatment & Norm\\_Value\\\\\n",
       " <chr> & <chr> & <chr> & <dbl> & <dbl> & <chr> & <dbl>\\\\\n",
       "\\hline\n",
       "\t CoCulture\\_VehicleCT1 & Set1 & P02769 &  99 & 6.26e+11 & CoCulture\\_Vehicle & 538898561927\\\\\n",
       "\t CoCulture\\_VehicleCT1 & Set1 & P02751 & 201 & 2.24e+11 & CoCulture\\_Vehicle & 192832712255\\\\\n",
       "\t CoCulture\\_VehicleCT1 & Set1 & P12763 &  34 & 3.10e+11 & CoCulture\\_Vehicle & 266866699996\\\\\n",
       "\t CoCulture\\_VehicleCT1 & Set1 & Q2UVX4 & 162 & 6.76e+10 & CoCulture\\_Vehicle &  58194157806\\\\\n",
       "\t CoCulture\\_VehicleCT1 & Set1 & P98160 & 210 & 3.01e+10 & CoCulture\\_Vehicle &  25911895709\\\\\n",
       "\t CoCulture\\_VehicleCT1 & Set1 & P12111 & 201 & 1.55e+10 & CoCulture\\_Vehicle &  13343335000\\\\\n",
       "\\end{tabular}\n"
      ],
      "text/markdown": [
       "\n",
       "A tibble: 6 × 7\n",
       "\n",
       "| ID &lt;chr&gt; | Set &lt;chr&gt; | Protein &lt;chr&gt; | Unique_Peptides &lt;dbl&gt; | Value &lt;dbl&gt; | Treatment &lt;chr&gt; | Norm_Value &lt;dbl&gt; |\n",
       "|---|---|---|---|---|---|---|\n",
       "| CoCulture_VehicleCT1 | Set1 | P02769 |  99 | 6.26e+11 | CoCulture_Vehicle | 538898561927 |\n",
       "| CoCulture_VehicleCT1 | Set1 | P02751 | 201 | 2.24e+11 | CoCulture_Vehicle | 192832712255 |\n",
       "| CoCulture_VehicleCT1 | Set1 | P12763 |  34 | 3.10e+11 | CoCulture_Vehicle | 266866699996 |\n",
       "| CoCulture_VehicleCT1 | Set1 | Q2UVX4 | 162 | 6.76e+10 | CoCulture_Vehicle |  58194157806 |\n",
       "| CoCulture_VehicleCT1 | Set1 | P98160 | 210 | 3.01e+10 | CoCulture_Vehicle |  25911895709 |\n",
       "| CoCulture_VehicleCT1 | Set1 | P12111 | 201 | 1.55e+10 | CoCulture_Vehicle |  13343335000 |\n",
       "\n"
      ],
      "text/plain": [
       "  ID                   Set  Protein Unique_Peptides Value    Treatment        \n",
       "1 CoCulture_VehicleCT1 Set1 P02769   99             6.26e+11 CoCulture_Vehicle\n",
       "2 CoCulture_VehicleCT1 Set1 P02751  201             2.24e+11 CoCulture_Vehicle\n",
       "3 CoCulture_VehicleCT1 Set1 P12763   34             3.10e+11 CoCulture_Vehicle\n",
       "4 CoCulture_VehicleCT1 Set1 Q2UVX4  162             6.76e+10 CoCulture_Vehicle\n",
       "5 CoCulture_VehicleCT1 Set1 P98160  210             3.01e+10 CoCulture_Vehicle\n",
       "6 CoCulture_VehicleCT1 Set1 P12111  201             1.55e+10 CoCulture_Vehicle\n",
       "  Norm_Value  \n",
       "1 538898561927\n",
       "2 192832712255\n",
       "3 266866699996\n",
       "4  58194157806\n",
       "5  25911895709\n",
       "6  13343335000"
      ]
     },
     "metadata": {},
     "output_type": "display_data"
    }
   ],
   "source": [
    "# set 1 = coculture, set 2 = triculture\n",
    "normalized_df = proteome_df %>%\n",
    "    group_by(ID) %>%\n",
    "    #removing missing data\n",
    "    drop_na() %>%\n",
    "    mutate(Summed_Value = sum(Value)) %>%\n",
    "    #calculating median across all samples but still within each set\n",
    "    ungroup() %>%\n",
    "    mutate(Median_of_Sum = median(Summed_Value), Norm_Factor = Summed_Value/ Median_of_Sum, \n",
    "           Norm_Value = Value/Norm_Factor) %>%\n",
    "    select(-c(\"Summed_Value\", \"Median_of_Sum\", \"Norm_Factor\"))\n",
    "head(normalized_df)"
   ]
  },
  {
   "cell_type": "markdown",
   "id": "d6d00744",
   "metadata": {},
   "source": [
    "# 2. Detection Filter - Round 1\n",
    "\n",
    "Round 1 - Unable to replicate the 1% peptide/ 5% protein FDR, so we'll just retain proteins that were identified by at least 2 peptides."
   ]
  },
  {
   "cell_type": "code",
   "execution_count": 9,
   "id": "79530319",
   "metadata": {},
   "outputs": [
    {
     "data": {
      "text/html": [
       "<table class=\"dataframe\">\n",
       "<caption>A tibble: 2 × 2</caption>\n",
       "<thead>\n",
       "\t<tr><th scope=col>Set</th><th scope=col>Remaining Proteins</th></tr>\n",
       "\t<tr><th scope=col>&lt;chr&gt;</th><th scope=col>&lt;int&gt;</th></tr>\n",
       "</thead>\n",
       "<tbody>\n",
       "\t<tr><td>Set1</td><td>1024</td></tr>\n",
       "\t<tr><td>Set2</td><td>1382</td></tr>\n",
       "</tbody>\n",
       "</table>\n"
      ],
      "text/latex": [
       "A tibble: 2 × 2\n",
       "\\begin{tabular}{ll}\n",
       " Set & Remaining Proteins\\\\\n",
       " <chr> & <int>\\\\\n",
       "\\hline\n",
       "\t Set1 & 1024\\\\\n",
       "\t Set2 & 1382\\\\\n",
       "\\end{tabular}\n"
      ],
      "text/markdown": [
       "\n",
       "A tibble: 2 × 2\n",
       "\n",
       "| Set &lt;chr&gt; | Remaining Proteins &lt;int&gt; |\n",
       "|---|---|\n",
       "| Set1 | 1024 |\n",
       "| Set2 | 1382 |\n",
       "\n"
      ],
      "text/plain": [
       "  Set  Remaining Proteins\n",
       "1 Set1 1024              \n",
       "2 Set2 1382              "
      ]
     },
     "metadata": {},
     "output_type": "display_data"
    }
   ],
   "source": [
    "# only keeping proteins > 2 unique proteins\n",
    "detection_filter_1_df = proteome_df %>%\n",
    "    filter(Unique_Peptides > 2)\n",
    "\n",
    "detection_filter_1_df %>%\n",
    "    group_by(Set) %>%\n",
    "    summarize(`Remaining Proteins` = length(unique(Protein)))"
   ]
  },
  {
   "cell_type": "markdown",
   "id": "broad-garage",
   "metadata": {},
   "source": [
    "# 3. Detection Filter - Round 2\n",
    "\n",
    "Round 2 - Filter rows based on valid values: 50 % valid in either culture or set (i.e. proteins with values observed in fewer than 50% of replicates (here, 3 reps) in at least 1 condition were eliminated from the dataset) "
   ]
  },
  {
   "cell_type": "code",
   "execution_count": 10,
   "id": "alert-blame",
   "metadata": {},
   "outputs": [
    {
     "data": {
      "text/html": [
       "<table class=\"dataframe\">\n",
       "<caption>A tibble: 6 × 2</caption>\n",
       "<thead>\n",
       "\t<tr><th scope=col>Protein</th><th scope=col>Protein_Presence</th></tr>\n",
       "\t<tr><th scope=col>&lt;chr&gt;</th><th scope=col>&lt;dbl&gt;</th></tr>\n",
       "</thead>\n",
       "<tbody>\n",
       "\t<tr><td>P23497</td><td>16.66667</td></tr>\n",
       "\t<tr><td>Q14435</td><td>16.66667</td></tr>\n",
       "\t<tr><td>P05109</td><td>33.33333</td></tr>\n",
       "\t<tr><td>P42025</td><td>33.33333</td></tr>\n",
       "\t<tr><td>Q52LG2</td><td>33.33333</td></tr>\n",
       "\t<tr><td>Q8TF66</td><td>33.33333</td></tr>\n",
       "</tbody>\n",
       "</table>\n"
      ],
      "text/latex": [
       "A tibble: 6 × 2\n",
       "\\begin{tabular}{ll}\n",
       " Protein & Protein\\_Presence\\\\\n",
       " <chr> & <dbl>\\\\\n",
       "\\hline\n",
       "\t P23497 & 16.66667\\\\\n",
       "\t Q14435 & 16.66667\\\\\n",
       "\t P05109 & 33.33333\\\\\n",
       "\t P42025 & 33.33333\\\\\n",
       "\t Q52LG2 & 33.33333\\\\\n",
       "\t Q8TF66 & 33.33333\\\\\n",
       "\\end{tabular}\n"
      ],
      "text/markdown": [
       "\n",
       "A tibble: 6 × 2\n",
       "\n",
       "| Protein &lt;chr&gt; | Protein_Presence &lt;dbl&gt; |\n",
       "|---|---|\n",
       "| P23497 | 16.66667 |\n",
       "| Q14435 | 16.66667 |\n",
       "| P05109 | 33.33333 |\n",
       "| P42025 | 33.33333 |\n",
       "| Q52LG2 | 33.33333 |\n",
       "| Q8TF66 | 33.33333 |\n",
       "\n"
      ],
      "text/plain": [
       "  Protein Protein_Presence\n",
       "1 P23497  16.66667        \n",
       "2 Q14435  16.66667        \n",
       "3 P05109  33.33333        \n",
       "4 P42025  33.33333        \n",
       "5 Q52LG2  33.33333        \n",
       "6 Q8TF66  33.33333        "
      ]
     },
     "metadata": {},
     "output_type": "display_data"
    },
    {
     "data": {
      "text/html": [
       "<table class=\"dataframe\">\n",
       "<caption>A tibble: 1 × 1</caption>\n",
       "<thead>\n",
       "\t<tr><th scope=col>Removed Proteins</th></tr>\n",
       "\t<tr><th scope=col>&lt;int&gt;</th></tr>\n",
       "</thead>\n",
       "<tbody>\n",
       "\t<tr><td>8</td></tr>\n",
       "</tbody>\n",
       "</table>\n"
      ],
      "text/latex": [
       "A tibble: 1 × 1\n",
       "\\begin{tabular}{l}\n",
       " Removed Proteins\\\\\n",
       " <int>\\\\\n",
       "\\hline\n",
       "\t 8\\\\\n",
       "\\end{tabular}\n"
      ],
      "text/markdown": [
       "\n",
       "A tibble: 1 × 1\n",
       "\n",
       "| Removed Proteins &lt;int&gt; |\n",
       "|---|\n",
       "| 8 |\n",
       "\n"
      ],
      "text/plain": [
       "  Removed Proteins\n",
       "1 8               "
      ]
     },
     "metadata": {},
     "output_type": "display_data"
    }
   ],
   "source": [
    "protein_presence_df = detection_filter_1_df %>%\n",
    "    # creating 2 count cols: 1st for non-missing data, 2nd for all data\n",
    "    mutate(data_count = ifelse(is.na(Value), 0, 1), all_count = 1) %>%\n",
    "    group_by(Protein) %>%\n",
    "    summarize(Protein_Presence = sum(data_count)/ sum(all_count) * 100) %>%\n",
    "    filter(Protein_Presence < 50) %>%\n",
    "    arrange(Protein_Presence) \n",
    "\n",
    "head(protein_presence_df)\n",
    "\n",
    "# getting the proteins in the entire set that will be removed\n",
    "removed_proteins_df = protein_presence_df %>%\n",
    "    ungroup() %>%\n",
    "    select(-Protein_Presence) %>% \n",
    "    unique()\n",
    "\n",
    "# number of proteins removed from each set for the 2nd detection filter\n",
    "removed_proteins_df %>%\n",
    "    summarize(`Removed Proteins` = length(unique(Protein)))"
   ]
  },
  {
   "cell_type": "code",
   "execution_count": 11,
   "id": "62e8680d",
   "metadata": {},
   "outputs": [
    {
     "name": "stderr",
     "output_type": "stream",
     "text": [
      "\u001b[1m\u001b[22mJoining, by = \"Protein\"\n"
     ]
    },
    {
     "data": {
      "text/html": [
       "<table class=\"dataframe\">\n",
       "<caption>A data.frame: 6 × 6</caption>\n",
       "<thead>\n",
       "\t<tr><th></th><th scope=col>ID</th><th scope=col>Set</th><th scope=col>Protein</th><th scope=col>Unique_Peptides</th><th scope=col>Value</th><th scope=col>Treatment</th></tr>\n",
       "\t<tr><th></th><th scope=col>&lt;chr&gt;</th><th scope=col>&lt;chr&gt;</th><th scope=col>&lt;chr&gt;</th><th scope=col>&lt;dbl&gt;</th><th scope=col>&lt;dbl&gt;</th><th scope=col>&lt;chr&gt;</th></tr>\n",
       "</thead>\n",
       "<tbody>\n",
       "\t<tr><th scope=row>1</th><td>CoCulture_VehicleCT1</td><td>Set1</td><td>P02769</td><td> 99</td><td>6.26e+11</td><td>CoCulture_Vehicle</td></tr>\n",
       "\t<tr><th scope=row>2</th><td>CoCulture_VehicleCT1</td><td>Set1</td><td>P02751</td><td>201</td><td>2.24e+11</td><td>CoCulture_Vehicle</td></tr>\n",
       "\t<tr><th scope=row>3</th><td>CoCulture_VehicleCT1</td><td>Set1</td><td>P12763</td><td> 34</td><td>3.10e+11</td><td>CoCulture_Vehicle</td></tr>\n",
       "\t<tr><th scope=row>4</th><td>CoCulture_VehicleCT1</td><td>Set1</td><td>Q2UVX4</td><td>162</td><td>6.76e+10</td><td>CoCulture_Vehicle</td></tr>\n",
       "\t<tr><th scope=row>5</th><td>CoCulture_VehicleCT1</td><td>Set1</td><td>P98160</td><td>210</td><td>3.01e+10</td><td>CoCulture_Vehicle</td></tr>\n",
       "\t<tr><th scope=row>6</th><td>CoCulture_VehicleCT1</td><td>Set1</td><td>P12111</td><td>201</td><td>1.55e+10</td><td>CoCulture_Vehicle</td></tr>\n",
       "</tbody>\n",
       "</table>\n"
      ],
      "text/latex": [
       "A data.frame: 6 × 6\n",
       "\\begin{tabular}{r|llllll}\n",
       "  & ID & Set & Protein & Unique\\_Peptides & Value & Treatment\\\\\n",
       "  & <chr> & <chr> & <chr> & <dbl> & <dbl> & <chr>\\\\\n",
       "\\hline\n",
       "\t1 & CoCulture\\_VehicleCT1 & Set1 & P02769 &  99 & 6.26e+11 & CoCulture\\_Vehicle\\\\\n",
       "\t2 & CoCulture\\_VehicleCT1 & Set1 & P02751 & 201 & 2.24e+11 & CoCulture\\_Vehicle\\\\\n",
       "\t3 & CoCulture\\_VehicleCT1 & Set1 & P12763 &  34 & 3.10e+11 & CoCulture\\_Vehicle\\\\\n",
       "\t4 & CoCulture\\_VehicleCT1 & Set1 & Q2UVX4 & 162 & 6.76e+10 & CoCulture\\_Vehicle\\\\\n",
       "\t5 & CoCulture\\_VehicleCT1 & Set1 & P98160 & 210 & 3.01e+10 & CoCulture\\_Vehicle\\\\\n",
       "\t6 & CoCulture\\_VehicleCT1 & Set1 & P12111 & 201 & 1.55e+10 & CoCulture\\_Vehicle\\\\\n",
       "\\end{tabular}\n"
      ],
      "text/markdown": [
       "\n",
       "A data.frame: 6 × 6\n",
       "\n",
       "| <!--/--> | ID &lt;chr&gt; | Set &lt;chr&gt; | Protein &lt;chr&gt; | Unique_Peptides &lt;dbl&gt; | Value &lt;dbl&gt; | Treatment &lt;chr&gt; |\n",
       "|---|---|---|---|---|---|---|\n",
       "| 1 | CoCulture_VehicleCT1 | Set1 | P02769 |  99 | 6.26e+11 | CoCulture_Vehicle |\n",
       "| 2 | CoCulture_VehicleCT1 | Set1 | P02751 | 201 | 2.24e+11 | CoCulture_Vehicle |\n",
       "| 3 | CoCulture_VehicleCT1 | Set1 | P12763 |  34 | 3.10e+11 | CoCulture_Vehicle |\n",
       "| 4 | CoCulture_VehicleCT1 | Set1 | Q2UVX4 | 162 | 6.76e+10 | CoCulture_Vehicle |\n",
       "| 5 | CoCulture_VehicleCT1 | Set1 | P98160 | 210 | 3.01e+10 | CoCulture_Vehicle |\n",
       "| 6 | CoCulture_VehicleCT1 | Set1 | P12111 | 201 | 1.55e+10 | CoCulture_Vehicle |\n",
       "\n"
      ],
      "text/plain": [
       "  ID                   Set  Protein Unique_Peptides Value    Treatment        \n",
       "1 CoCulture_VehicleCT1 Set1 P02769   99             6.26e+11 CoCulture_Vehicle\n",
       "2 CoCulture_VehicleCT1 Set1 P02751  201             2.24e+11 CoCulture_Vehicle\n",
       "3 CoCulture_VehicleCT1 Set1 P12763   34             3.10e+11 CoCulture_Vehicle\n",
       "4 CoCulture_VehicleCT1 Set1 Q2UVX4  162             6.76e+10 CoCulture_Vehicle\n",
       "5 CoCulture_VehicleCT1 Set1 P98160  210             3.01e+10 CoCulture_Vehicle\n",
       "6 CoCulture_VehicleCT1 Set1 P12111  201             1.55e+10 CoCulture_Vehicle"
      ]
     },
     "metadata": {},
     "output_type": "display_data"
    },
    {
     "data": {
      "text/html": [
       "<table class=\"dataframe\">\n",
       "<caption>A tibble: 2 × 2</caption>\n",
       "<thead>\n",
       "\t<tr><th scope=col>Treatment</th><th scope=col>Kept Proteins</th></tr>\n",
       "\t<tr><th scope=col>&lt;chr&gt;</th><th scope=col>&lt;int&gt;</th></tr>\n",
       "</thead>\n",
       "<tbody>\n",
       "\t<tr><td>CoCulture_Vehicle </td><td>1020</td></tr>\n",
       "\t<tr><td>TriCulture_Vehicle</td><td>1377</td></tr>\n",
       "</tbody>\n",
       "</table>\n"
      ],
      "text/latex": [
       "A tibble: 2 × 2\n",
       "\\begin{tabular}{ll}\n",
       " Treatment & Kept Proteins\\\\\n",
       " <chr> & <int>\\\\\n",
       "\\hline\n",
       "\t CoCulture\\_Vehicle  & 1020\\\\\n",
       "\t TriCulture\\_Vehicle & 1377\\\\\n",
       "\\end{tabular}\n"
      ],
      "text/markdown": [
       "\n",
       "A tibble: 2 × 2\n",
       "\n",
       "| Treatment &lt;chr&gt; | Kept Proteins &lt;int&gt; |\n",
       "|---|---|\n",
       "| CoCulture_Vehicle  | 1020 |\n",
       "| TriCulture_Vehicle | 1377 |\n",
       "\n"
      ],
      "text/plain": [
       "  Treatment          Kept Proteins\n",
       "1 CoCulture_Vehicle  1020         \n",
       "2 TriCulture_Vehicle 1377         "
      ]
     },
     "metadata": {},
     "output_type": "display_data"
    }
   ],
   "source": [
    "# removing those 8 proteins from the entire dataset \n",
    "# finding proteins that exist only in the proteome_df but not the removed proteins_df\n",
    "detection_filter_2_df = anti_join(detection_filter_1_df, removed_proteins_df)\n",
    "head(detection_filter_2_df)\n",
    "\n",
    "# number of proteins kept\n",
    "detection_filter_2_df %>%\n",
    "    group_by(Treatment) %>%\n",
    "    summarize(`Kept Proteins` = length(unique(Protein)))"
   ]
  },
  {
   "cell_type": "code",
   "execution_count": 12,
   "id": "9cff57cc",
   "metadata": {},
   "outputs": [
    {
     "data": {
      "text/html": [
       "<table class=\"dataframe\">\n",
       "<caption>A tibble: 6 × 7</caption>\n",
       "<thead>\n",
       "\t<tr><th scope=col>ID</th><th scope=col>Set</th><th scope=col>Protein</th><th scope=col>Unique_Peptides</th><th scope=col>Value</th><th scope=col>Treatment</th><th scope=col>Treatment_Presence</th></tr>\n",
       "\t<tr><th scope=col>&lt;chr&gt;</th><th scope=col>&lt;chr&gt;</th><th scope=col>&lt;chr&gt;</th><th scope=col>&lt;dbl&gt;</th><th scope=col>&lt;dbl&gt;</th><th scope=col>&lt;chr&gt;</th><th scope=col>&lt;chr&gt;</th></tr>\n",
       "</thead>\n",
       "<tbody>\n",
       "\t<tr><td>CoCulture_VehicleCT1</td><td>Set1</td><td>P02769</td><td> 99</td><td>6.26e+11</td><td>CoCulture_Vehicle</td><td>Both</td></tr>\n",
       "\t<tr><td>CoCulture_VehicleCT1</td><td>Set1</td><td>P02751</td><td>201</td><td>2.24e+11</td><td>CoCulture_Vehicle</td><td>Both</td></tr>\n",
       "\t<tr><td>CoCulture_VehicleCT1</td><td>Set1</td><td>P12763</td><td> 34</td><td>3.10e+11</td><td>CoCulture_Vehicle</td><td>Both</td></tr>\n",
       "\t<tr><td>CoCulture_VehicleCT1</td><td>Set1</td><td>Q2UVX4</td><td>162</td><td>6.76e+10</td><td>CoCulture_Vehicle</td><td>Both</td></tr>\n",
       "\t<tr><td>CoCulture_VehicleCT1</td><td>Set1</td><td>P98160</td><td>210</td><td>3.01e+10</td><td>CoCulture_Vehicle</td><td>Both</td></tr>\n",
       "\t<tr><td>CoCulture_VehicleCT1</td><td>Set1</td><td>P12111</td><td>201</td><td>1.55e+10</td><td>CoCulture_Vehicle</td><td>Both</td></tr>\n",
       "</tbody>\n",
       "</table>\n"
      ],
      "text/latex": [
       "A tibble: 6 × 7\n",
       "\\begin{tabular}{lllllll}\n",
       " ID & Set & Protein & Unique\\_Peptides & Value & Treatment & Treatment\\_Presence\\\\\n",
       " <chr> & <chr> & <chr> & <dbl> & <dbl> & <chr> & <chr>\\\\\n",
       "\\hline\n",
       "\t CoCulture\\_VehicleCT1 & Set1 & P02769 &  99 & 6.26e+11 & CoCulture\\_Vehicle & Both\\\\\n",
       "\t CoCulture\\_VehicleCT1 & Set1 & P02751 & 201 & 2.24e+11 & CoCulture\\_Vehicle & Both\\\\\n",
       "\t CoCulture\\_VehicleCT1 & Set1 & P12763 &  34 & 3.10e+11 & CoCulture\\_Vehicle & Both\\\\\n",
       "\t CoCulture\\_VehicleCT1 & Set1 & Q2UVX4 & 162 & 6.76e+10 & CoCulture\\_Vehicle & Both\\\\\n",
       "\t CoCulture\\_VehicleCT1 & Set1 & P98160 & 210 & 3.01e+10 & CoCulture\\_Vehicle & Both\\\\\n",
       "\t CoCulture\\_VehicleCT1 & Set1 & P12111 & 201 & 1.55e+10 & CoCulture\\_Vehicle & Both\\\\\n",
       "\\end{tabular}\n"
      ],
      "text/markdown": [
       "\n",
       "A tibble: 6 × 7\n",
       "\n",
       "| ID &lt;chr&gt; | Set &lt;chr&gt; | Protein &lt;chr&gt; | Unique_Peptides &lt;dbl&gt; | Value &lt;dbl&gt; | Treatment &lt;chr&gt; | Treatment_Presence &lt;chr&gt; |\n",
       "|---|---|---|---|---|---|---|\n",
       "| CoCulture_VehicleCT1 | Set1 | P02769 |  99 | 6.26e+11 | CoCulture_Vehicle | Both |\n",
       "| CoCulture_VehicleCT1 | Set1 | P02751 | 201 | 2.24e+11 | CoCulture_Vehicle | Both |\n",
       "| CoCulture_VehicleCT1 | Set1 | P12763 |  34 | 3.10e+11 | CoCulture_Vehicle | Both |\n",
       "| CoCulture_VehicleCT1 | Set1 | Q2UVX4 | 162 | 6.76e+10 | CoCulture_Vehicle | Both |\n",
       "| CoCulture_VehicleCT1 | Set1 | P98160 | 210 | 3.01e+10 | CoCulture_Vehicle | Both |\n",
       "| CoCulture_VehicleCT1 | Set1 | P12111 | 201 | 1.55e+10 | CoCulture_Vehicle | Both |\n",
       "\n"
      ],
      "text/plain": [
       "  ID                   Set  Protein Unique_Peptides Value    Treatment        \n",
       "1 CoCulture_VehicleCT1 Set1 P02769   99             6.26e+11 CoCulture_Vehicle\n",
       "2 CoCulture_VehicleCT1 Set1 P02751  201             2.24e+11 CoCulture_Vehicle\n",
       "3 CoCulture_VehicleCT1 Set1 P12763   34             3.10e+11 CoCulture_Vehicle\n",
       "4 CoCulture_VehicleCT1 Set1 Q2UVX4  162             6.76e+10 CoCulture_Vehicle\n",
       "5 CoCulture_VehicleCT1 Set1 P98160  210             3.01e+10 CoCulture_Vehicle\n",
       "6 CoCulture_VehicleCT1 Set1 P12111  201             1.55e+10 CoCulture_Vehicle\n",
       "  Treatment_Presence\n",
       "1 Both              \n",
       "2 Both              \n",
       "3 Both              \n",
       "4 Both              \n",
       "5 Both              \n",
       "6 Both              "
      ]
     },
     "metadata": {},
     "output_type": "display_data"
    }
   ],
   "source": [
    "# determining what proteins are present in one or both culture groups\n",
    "detection_filter_2_df = detection_filter_2_df %>%\n",
    "    group_by(Protein) %>%\n",
    "    mutate(Treatment_Presence = ifelse(length(Protein) == 12, \"Both\", \"Tri or Co\")) %>%\n",
    "    mutate(Treatment_Presence = ifelse(Treatment_Presence == \"Tri or Co\" & Treatment == \"CoCulture_Vehicle\", \"CoCulture\",\n",
    "                                      ifelse(Treatment_Presence == \"Tri or Co\" & Treatment == \"TriCulture_Vehicle\", \"TriCulture\",\n",
    "                                          Treatment_Presence))) %>%\n",
    "    ungroup(Protein) \n",
    "\n",
    "head(detection_filter_2_df) "
   ]
  },
  {
   "cell_type": "code",
   "execution_count": 13,
   "id": "0210170f",
   "metadata": {},
   "outputs": [
    {
     "data": {
      "text/html": [
       "<table class=\"dataframe\">\n",
       "<caption>A tibble: 3 × 2</caption>\n",
       "<thead>\n",
       "\t<tr><th scope=col>Treatment_Presence</th><th scope=col>n</th></tr>\n",
       "\t<tr><th scope=col>&lt;chr&gt;</th><th scope=col>&lt;int&gt;</th></tr>\n",
       "</thead>\n",
       "<tbody>\n",
       "\t<tr><td>Both      </td><td>11352</td></tr>\n",
       "\t<tr><td>CoCulture </td><td>  444</td></tr>\n",
       "\t<tr><td>TriCulture</td><td> 2586</td></tr>\n",
       "</tbody>\n",
       "</table>\n"
      ],
      "text/latex": [
       "A tibble: 3 × 2\n",
       "\\begin{tabular}{ll}\n",
       " Treatment\\_Presence & n\\\\\n",
       " <chr> & <int>\\\\\n",
       "\\hline\n",
       "\t Both       & 11352\\\\\n",
       "\t CoCulture  &   444\\\\\n",
       "\t TriCulture &  2586\\\\\n",
       "\\end{tabular}\n"
      ],
      "text/markdown": [
       "\n",
       "A tibble: 3 × 2\n",
       "\n",
       "| Treatment_Presence &lt;chr&gt; | n &lt;int&gt; |\n",
       "|---|---|\n",
       "| Both       | 11352 |\n",
       "| CoCulture  |   444 |\n",
       "| TriCulture |  2586 |\n",
       "\n"
      ],
      "text/plain": [
       "  Treatment_Presence n    \n",
       "1 Both               11352\n",
       "2 CoCulture            444\n",
       "3 TriCulture          2586"
      ]
     },
     "metadata": {},
     "output_type": "display_data"
    },
    {
     "data": {
      "text/html": [
       "74"
      ],
      "text/latex": [
       "74"
      ],
      "text/markdown": [
       "74"
      ],
      "text/plain": [
       "[1] 74"
      ]
     },
     "metadata": {},
     "output_type": "display_data"
    },
    {
     "data": {
      "text/html": [
       "431"
      ],
      "text/latex": [
       "431"
      ],
      "text/markdown": [
       "431"
      ],
      "text/plain": [
       "[1] 431"
      ]
     },
     "metadata": {},
     "output_type": "display_data"
    }
   ],
   "source": [
    "# verifying count of proteins present\n",
    "detection_filter_2_df %>%\n",
    "    count(Treatment_Presence)\n",
    "\n",
    "444/6\n",
    "2586/6"
   ]
  },
  {
   "cell_type": "markdown",
   "id": "54aab38d",
   "metadata": {},
   "source": [
    "This means that there were 74 proteins only present in coculture and 431 only detected in triculture."
   ]
  },
  {
   "cell_type": "markdown",
   "id": "hispanic-tower",
   "metadata": {},
   "source": [
    "# 4. Log2 Transformation\n",
    "\n",
    "Did this step later in the imputation function. "
   ]
  },
  {
   "cell_type": "markdown",
   "id": "acting-pasta",
   "metadata": {},
   "source": [
    "# 5. QRILC Imputation\n",
    "\n",
    "QRILC replaces data with left-censored data from a Gaussian distribution. "
   ]
  },
  {
   "cell_type": "code",
   "execution_count": 14,
   "id": "61c243ea",
   "metadata": {},
   "outputs": [
    {
     "name": "stderr",
     "output_type": "stream",
     "text": [
      "\u001b[1m\u001b[22mJoining, by = c(\"ID\", \"Set\", \"Protein\", \"Unique_Peptides\", \"Value\",\n",
      "\"Treatment\")\n"
     ]
    },
    {
     "data": {
      "text/html": [
       "<table class=\"dataframe\">\n",
       "<caption>A tibble: 6 × 7</caption>\n",
       "<thead>\n",
       "\t<tr><th scope=col>ID</th><th scope=col>Set</th><th scope=col>Treatment</th><th scope=col>Protein</th><th scope=col>Value</th><th scope=col>Norm_Value</th><th scope=col>Treatment_Presence</th></tr>\n",
       "\t<tr><th scope=col>&lt;chr&gt;</th><th scope=col>&lt;chr&gt;</th><th scope=col>&lt;chr&gt;</th><th scope=col>&lt;chr&gt;</th><th scope=col>&lt;dbl&gt;</th><th scope=col>&lt;dbl&gt;</th><th scope=col>&lt;chr&gt;</th></tr>\n",
       "</thead>\n",
       "<tbody>\n",
       "\t<tr><td>CoCulture_VehicleCT1</td><td>Set1</td><td>CoCulture_Vehicle</td><td>P02769</td><td>6.26e+11</td><td>538898561927</td><td>Both</td></tr>\n",
       "\t<tr><td>CoCulture_VehicleCT1</td><td>Set1</td><td>CoCulture_Vehicle</td><td>P02751</td><td>2.24e+11</td><td>192832712255</td><td>Both</td></tr>\n",
       "\t<tr><td>CoCulture_VehicleCT1</td><td>Set1</td><td>CoCulture_Vehicle</td><td>P12763</td><td>3.10e+11</td><td>266866699996</td><td>Both</td></tr>\n",
       "\t<tr><td>CoCulture_VehicleCT1</td><td>Set1</td><td>CoCulture_Vehicle</td><td>Q2UVX4</td><td>6.76e+10</td><td> 58194157806</td><td>Both</td></tr>\n",
       "\t<tr><td>CoCulture_VehicleCT1</td><td>Set1</td><td>CoCulture_Vehicle</td><td>P98160</td><td>3.01e+10</td><td> 25911895709</td><td>Both</td></tr>\n",
       "\t<tr><td>CoCulture_VehicleCT1</td><td>Set1</td><td>CoCulture_Vehicle</td><td>P12111</td><td>1.55e+10</td><td> 13343335000</td><td>Both</td></tr>\n",
       "</tbody>\n",
       "</table>\n"
      ],
      "text/latex": [
       "A tibble: 6 × 7\n",
       "\\begin{tabular}{lllllll}\n",
       " ID & Set & Treatment & Protein & Value & Norm\\_Value & Treatment\\_Presence\\\\\n",
       " <chr> & <chr> & <chr> & <chr> & <dbl> & <dbl> & <chr>\\\\\n",
       "\\hline\n",
       "\t CoCulture\\_VehicleCT1 & Set1 & CoCulture\\_Vehicle & P02769 & 6.26e+11 & 538898561927 & Both\\\\\n",
       "\t CoCulture\\_VehicleCT1 & Set1 & CoCulture\\_Vehicle & P02751 & 2.24e+11 & 192832712255 & Both\\\\\n",
       "\t CoCulture\\_VehicleCT1 & Set1 & CoCulture\\_Vehicle & P12763 & 3.10e+11 & 266866699996 & Both\\\\\n",
       "\t CoCulture\\_VehicleCT1 & Set1 & CoCulture\\_Vehicle & Q2UVX4 & 6.76e+10 &  58194157806 & Both\\\\\n",
       "\t CoCulture\\_VehicleCT1 & Set1 & CoCulture\\_Vehicle & P98160 & 3.01e+10 &  25911895709 & Both\\\\\n",
       "\t CoCulture\\_VehicleCT1 & Set1 & CoCulture\\_Vehicle & P12111 & 1.55e+10 &  13343335000 & Both\\\\\n",
       "\\end{tabular}\n"
      ],
      "text/markdown": [
       "\n",
       "A tibble: 6 × 7\n",
       "\n",
       "| ID &lt;chr&gt; | Set &lt;chr&gt; | Treatment &lt;chr&gt; | Protein &lt;chr&gt; | Value &lt;dbl&gt; | Norm_Value &lt;dbl&gt; | Treatment_Presence &lt;chr&gt; |\n",
       "|---|---|---|---|---|---|---|\n",
       "| CoCulture_VehicleCT1 | Set1 | CoCulture_Vehicle | P02769 | 6.26e+11 | 538898561927 | Both |\n",
       "| CoCulture_VehicleCT1 | Set1 | CoCulture_Vehicle | P02751 | 2.24e+11 | 192832712255 | Both |\n",
       "| CoCulture_VehicleCT1 | Set1 | CoCulture_Vehicle | P12763 | 3.10e+11 | 266866699996 | Both |\n",
       "| CoCulture_VehicleCT1 | Set1 | CoCulture_Vehicle | Q2UVX4 | 6.76e+10 |  58194157806 | Both |\n",
       "| CoCulture_VehicleCT1 | Set1 | CoCulture_Vehicle | P98160 | 3.01e+10 |  25911895709 | Both |\n",
       "| CoCulture_VehicleCT1 | Set1 | CoCulture_Vehicle | P12111 | 1.55e+10 |  13343335000 | Both |\n",
       "\n"
      ],
      "text/plain": [
       "  ID                   Set  Treatment         Protein Value    Norm_Value  \n",
       "1 CoCulture_VehicleCT1 Set1 CoCulture_Vehicle P02769  6.26e+11 538898561927\n",
       "2 CoCulture_VehicleCT1 Set1 CoCulture_Vehicle P02751  2.24e+11 192832712255\n",
       "3 CoCulture_VehicleCT1 Set1 CoCulture_Vehicle P12763  3.10e+11 266866699996\n",
       "4 CoCulture_VehicleCT1 Set1 CoCulture_Vehicle Q2UVX4  6.76e+10  58194157806\n",
       "5 CoCulture_VehicleCT1 Set1 CoCulture_Vehicle P98160  3.01e+10  25911895709\n",
       "6 CoCulture_VehicleCT1 Set1 CoCulture_Vehicle P12111  1.55e+10  13343335000\n",
       "  Treatment_Presence\n",
       "1 Both              \n",
       "2 Both              \n",
       "3 Both              \n",
       "4 Both              \n",
       "5 Both              \n",
       "6 Both              "
      ]
     },
     "metadata": {},
     "output_type": "display_data"
    }
   ],
   "source": [
    "# adding in normalized values to the filtered df\n",
    "# left join returns all the records from the first table along with matching records from the second\n",
    "detection_filter_normalized_df = left_join(detection_filter_2_df, normalized_df) %>% \n",
    "                       select(-Unique_Peptides)\n",
    "\n",
    "preimputed_df = detection_filter_normalized_df[, c(1,2,5,3,4,7,6)]\n",
    "#preimputed_df = detection_filter_normalized_df[, c(1,2,5,3,4,6)]\n",
    "head(preimputed_df)"
   ]
  },
  {
   "cell_type": "code",
   "execution_count": 15,
   "id": "55752e72",
   "metadata": {},
   "outputs": [
    {
     "name": "stderr",
     "output_type": "stream",
     "text": [
      "\u001b[1m\u001b[22mJoining, by = \"ID\"\n"
     ]
    }
   ],
   "source": [
    "# QRILC\n",
    "QRILC_imputation = function(dataset){\n",
    "    # \"\"\"\n",
    "    # Creating a quantile normalization function to normalize each sample.\n",
    "    # :param (input): exposed and unexposed (vehicle) dfs\n",
    "    # :output: 1 quantile normalized df\n",
    "    # \"\"\"\n",
    "    wider_dataset = dataset %>%\n",
    "        select(-c(\"Set\", \"Value\", \"Treatment\", \"Treatment_Presence\")) %>%\n",
    "        pivot_wider(names_from = Protein, values_from = Norm_Value) \n",
    "    \n",
    "    # normalizing data since that's what the QRILC function wants\n",
    "    QRILC_prep = wider_dataset[,2:dim(wider_dataset)[2]] %>%\n",
    "         mutate_all(., function(x) log2(x)) %>%\n",
    "         as.matrix()\n",
    "\n",
    "    imputed_QRILC_object = impute.QRILC(QRILC_prep, tune.sigma = 0.1)\n",
    "    QRILC_log2_df = data.frame(imputed_QRILC_object[1]) \n",
    "    \n",
    "    # converting back the original scale\n",
    "    QRILC_df = QRILC_log2_df %>%\n",
    "        mutate_all(., function(x) 2^x - 1)\n",
    "    \n",
    "    # adding back in ID col\n",
    "    QRILC_df = cbind(ID = wider_dataset$ID, QRILC_df)\n",
    "            \n",
    "    # adding back in Tx and Set columns\n",
    "    final_pivoted_column_number = dim(QRILC_df)[2] + 2\n",
    "\n",
    "    imputed_dataset = inner_join(unique(dataset %>% \n",
    "                                  select(Set, Treatment, ID)), QRILC_df) %>%\n",
    "        pivot_longer(cols = 4:all_of(final_pivoted_column_number), names_to = \"Protein\", values_to = \"Value\")\n",
    "\n",
    "   return(imputed_dataset)\n",
    "}\n",
    "\n",
    "# calling fn\n",
    "imputed_df = QRILC_imputation(preimputed_df)"
   ]
  },
  {
   "cell_type": "code",
   "execution_count": 16,
   "id": "a40ed4c0",
   "metadata": {},
   "outputs": [
    {
     "data": {
      "text/html": [
       "<table class=\"dataframe\">\n",
       "<caption>A tibble: 6 × 1454</caption>\n",
       "<thead>\n",
       "\t<tr><th scope=col>Set</th><th scope=col>Treatment</th><th scope=col>ID</th><th scope=col>P02769</th><th scope=col>P02751</th><th scope=col>P12763</th><th scope=col>Q2UVX4</th><th scope=col>P98160</th><th scope=col>P12111</th><th scope=col>Q28085</th><th scope=col>⋯</th><th scope=col>Q9UN86</th><th scope=col>Q6P2Q9</th><th scope=col>Q9Y263</th><th scope=col>Q01581</th><th scope=col>Q9BY44</th><th scope=col>Q9BZ29</th><th scope=col>O75891</th><th scope=col>Q14839</th><th scope=col>O75718</th><th scope=col>Q9H4G0</th></tr>\n",
       "\t<tr><th scope=col>&lt;chr&gt;</th><th scope=col>&lt;chr&gt;</th><th scope=col>&lt;chr&gt;</th><th scope=col>&lt;dbl&gt;</th><th scope=col>&lt;dbl&gt;</th><th scope=col>&lt;dbl&gt;</th><th scope=col>&lt;dbl&gt;</th><th scope=col>&lt;dbl&gt;</th><th scope=col>&lt;dbl&gt;</th><th scope=col>&lt;dbl&gt;</th><th scope=col>⋯</th><th scope=col>&lt;dbl&gt;</th><th scope=col>&lt;dbl&gt;</th><th scope=col>&lt;dbl&gt;</th><th scope=col>&lt;dbl&gt;</th><th scope=col>&lt;dbl&gt;</th><th scope=col>&lt;dbl&gt;</th><th scope=col>&lt;dbl&gt;</th><th scope=col>&lt;dbl&gt;</th><th scope=col>&lt;dbl&gt;</th><th scope=col>&lt;dbl&gt;</th></tr>\n",
       "</thead>\n",
       "<tbody>\n",
       "\t<tr><td>Set1</td><td>CoCulture_Vehicle</td><td>CoCulture_VehicleCT1</td><td>538898561926</td><td>192832712254</td><td>266866699995</td><td>58194157805</td><td>25911895708</td><td>13343334999</td><td>42009983740</td><td>⋯</td><td>2979480</td><td>7632887</td><td>3333171</td><td>1305247</td><td>2984180</td><td>2684826</td><td>7767307</td><td>4517615</td><td>3188236</td><td>3538347</td></tr>\n",
       "\t<tr><td>Set1</td><td>CoCulture_Vehicle</td><td>CoCulture_VehicleCT2</td><td>426574672991</td><td>236661291179</td><td>226922143394</td><td>41975726953</td><td>17433074534</td><td>20646993304</td><td>44994862767</td><td>⋯</td><td>3108705</td><td>7568973</td><td>3131544</td><td>1353655</td><td>3179888</td><td>2687902</td><td>7362915</td><td>4593665</td><td>3088583</td><td>3449193</td></tr>\n",
       "\t<tr><td>Set1</td><td>CoCulture_Vehicle</td><td>CoCulture_VehicleCT3</td><td>452873892201</td><td>309559369352</td><td>257966141127</td><td>39077093229</td><td>13376022132</td><td>21879350487</td><td>40032523381</td><td>⋯</td><td>2889362</td><td>7473889</td><td>3309074</td><td>1192273</td><td>3000962</td><td>2785359</td><td>7212808</td><td>4540849</td><td>3179474</td><td>3724860</td></tr>\n",
       "\t<tr><td>Set1</td><td>CoCulture_Vehicle</td><td>CoCulture_VehicleCT4</td><td>377585752752</td><td>280968221900</td><td>268752212252</td><td>45754508862</td><td>29318423154</td><td>22099871998</td><td>52084622952</td><td>⋯</td><td>2916604</td><td>7665474</td><td>3063757</td><td>1149957</td><td>3338971</td><td>2572250</td><td>7400557</td><td>4558134</td><td>3317135</td><td>3451760</td></tr>\n",
       "\t<tr><td>Set1</td><td>CoCulture_Vehicle</td><td>CoCulture_VehicleCT5</td><td>490442764835</td><td>243235784179</td><td>269048561275</td><td>48845716659</td><td>27897655246</td><td>19855982381</td><td>53214032783</td><td>⋯</td><td>2943273</td><td>7626360</td><td>3244118</td><td>1071913</td><td>3251317</td><td>2654334</td><td>7134160</td><td>4525409</td><td>3050969</td><td>3643381</td></tr>\n",
       "\t<tr><td>Set1</td><td>CoCulture_Vehicle</td><td>CoCulture_VehicleCT6</td><td>531690453542</td><td>147996311810</td><td>274067244093</td><td>38698294865</td><td>31243665826</td><td>10403592585</td><td>37821279684</td><td>⋯</td><td>2934662</td><td>7628901</td><td>3132602</td><td>1150902</td><td>3565450</td><td>2428520</td><td>7707736</td><td>4427748</td><td>3184921</td><td>3387514</td></tr>\n",
       "</tbody>\n",
       "</table>\n"
      ],
      "text/latex": [
       "A tibble: 6 × 1454\n",
       "\\begin{tabular}{lllllllllllllllllllll}\n",
       " Set & Treatment & ID & P02769 & P02751 & P12763 & Q2UVX4 & P98160 & P12111 & Q28085 & ⋯ & Q9UN86 & Q6P2Q9 & Q9Y263 & Q01581 & Q9BY44 & Q9BZ29 & O75891 & Q14839 & O75718 & Q9H4G0\\\\\n",
       " <chr> & <chr> & <chr> & <dbl> & <dbl> & <dbl> & <dbl> & <dbl> & <dbl> & <dbl> & ⋯ & <dbl> & <dbl> & <dbl> & <dbl> & <dbl> & <dbl> & <dbl> & <dbl> & <dbl> & <dbl>\\\\\n",
       "\\hline\n",
       "\t Set1 & CoCulture\\_Vehicle & CoCulture\\_VehicleCT1 & 538898561926 & 192832712254 & 266866699995 & 58194157805 & 25911895708 & 13343334999 & 42009983740 & ⋯ & 2979480 & 7632887 & 3333171 & 1305247 & 2984180 & 2684826 & 7767307 & 4517615 & 3188236 & 3538347\\\\\n",
       "\t Set1 & CoCulture\\_Vehicle & CoCulture\\_VehicleCT2 & 426574672991 & 236661291179 & 226922143394 & 41975726953 & 17433074534 & 20646993304 & 44994862767 & ⋯ & 3108705 & 7568973 & 3131544 & 1353655 & 3179888 & 2687902 & 7362915 & 4593665 & 3088583 & 3449193\\\\\n",
       "\t Set1 & CoCulture\\_Vehicle & CoCulture\\_VehicleCT3 & 452873892201 & 309559369352 & 257966141127 & 39077093229 & 13376022132 & 21879350487 & 40032523381 & ⋯ & 2889362 & 7473889 & 3309074 & 1192273 & 3000962 & 2785359 & 7212808 & 4540849 & 3179474 & 3724860\\\\\n",
       "\t Set1 & CoCulture\\_Vehicle & CoCulture\\_VehicleCT4 & 377585752752 & 280968221900 & 268752212252 & 45754508862 & 29318423154 & 22099871998 & 52084622952 & ⋯ & 2916604 & 7665474 & 3063757 & 1149957 & 3338971 & 2572250 & 7400557 & 4558134 & 3317135 & 3451760\\\\\n",
       "\t Set1 & CoCulture\\_Vehicle & CoCulture\\_VehicleCT5 & 490442764835 & 243235784179 & 269048561275 & 48845716659 & 27897655246 & 19855982381 & 53214032783 & ⋯ & 2943273 & 7626360 & 3244118 & 1071913 & 3251317 & 2654334 & 7134160 & 4525409 & 3050969 & 3643381\\\\\n",
       "\t Set1 & CoCulture\\_Vehicle & CoCulture\\_VehicleCT6 & 531690453542 & 147996311810 & 274067244093 & 38698294865 & 31243665826 & 10403592585 & 37821279684 & ⋯ & 2934662 & 7628901 & 3132602 & 1150902 & 3565450 & 2428520 & 7707736 & 4427748 & 3184921 & 3387514\\\\\n",
       "\\end{tabular}\n"
      ],
      "text/markdown": [
       "\n",
       "A tibble: 6 × 1454\n",
       "\n",
       "| Set &lt;chr&gt; | Treatment &lt;chr&gt; | ID &lt;chr&gt; | P02769 &lt;dbl&gt; | P02751 &lt;dbl&gt; | P12763 &lt;dbl&gt; | Q2UVX4 &lt;dbl&gt; | P98160 &lt;dbl&gt; | P12111 &lt;dbl&gt; | Q28085 &lt;dbl&gt; | ⋯ ⋯ | Q9UN86 &lt;dbl&gt; | Q6P2Q9 &lt;dbl&gt; | Q9Y263 &lt;dbl&gt; | Q01581 &lt;dbl&gt; | Q9BY44 &lt;dbl&gt; | Q9BZ29 &lt;dbl&gt; | O75891 &lt;dbl&gt; | Q14839 &lt;dbl&gt; | O75718 &lt;dbl&gt; | Q9H4G0 &lt;dbl&gt; |\n",
       "|---|---|---|---|---|---|---|---|---|---|---|---|---|---|---|---|---|---|---|---|---|\n",
       "| Set1 | CoCulture_Vehicle | CoCulture_VehicleCT1 | 538898561926 | 192832712254 | 266866699995 | 58194157805 | 25911895708 | 13343334999 | 42009983740 | ⋯ | 2979480 | 7632887 | 3333171 | 1305247 | 2984180 | 2684826 | 7767307 | 4517615 | 3188236 | 3538347 |\n",
       "| Set1 | CoCulture_Vehicle | CoCulture_VehicleCT2 | 426574672991 | 236661291179 | 226922143394 | 41975726953 | 17433074534 | 20646993304 | 44994862767 | ⋯ | 3108705 | 7568973 | 3131544 | 1353655 | 3179888 | 2687902 | 7362915 | 4593665 | 3088583 | 3449193 |\n",
       "| Set1 | CoCulture_Vehicle | CoCulture_VehicleCT3 | 452873892201 | 309559369352 | 257966141127 | 39077093229 | 13376022132 | 21879350487 | 40032523381 | ⋯ | 2889362 | 7473889 | 3309074 | 1192273 | 3000962 | 2785359 | 7212808 | 4540849 | 3179474 | 3724860 |\n",
       "| Set1 | CoCulture_Vehicle | CoCulture_VehicleCT4 | 377585752752 | 280968221900 | 268752212252 | 45754508862 | 29318423154 | 22099871998 | 52084622952 | ⋯ | 2916604 | 7665474 | 3063757 | 1149957 | 3338971 | 2572250 | 7400557 | 4558134 | 3317135 | 3451760 |\n",
       "| Set1 | CoCulture_Vehicle | CoCulture_VehicleCT5 | 490442764835 | 243235784179 | 269048561275 | 48845716659 | 27897655246 | 19855982381 | 53214032783 | ⋯ | 2943273 | 7626360 | 3244118 | 1071913 | 3251317 | 2654334 | 7134160 | 4525409 | 3050969 | 3643381 |\n",
       "| Set1 | CoCulture_Vehicle | CoCulture_VehicleCT6 | 531690453542 | 147996311810 | 274067244093 | 38698294865 | 31243665826 | 10403592585 | 37821279684 | ⋯ | 2934662 | 7628901 | 3132602 | 1150902 | 3565450 | 2428520 | 7707736 | 4427748 | 3184921 | 3387514 |\n",
       "\n"
      ],
      "text/plain": [
       "  Set  Treatment         ID                   P02769       P02751      \n",
       "1 Set1 CoCulture_Vehicle CoCulture_VehicleCT1 538898561926 192832712254\n",
       "2 Set1 CoCulture_Vehicle CoCulture_VehicleCT2 426574672991 236661291179\n",
       "3 Set1 CoCulture_Vehicle CoCulture_VehicleCT3 452873892201 309559369352\n",
       "4 Set1 CoCulture_Vehicle CoCulture_VehicleCT4 377585752752 280968221900\n",
       "5 Set1 CoCulture_Vehicle CoCulture_VehicleCT5 490442764835 243235784179\n",
       "6 Set1 CoCulture_Vehicle CoCulture_VehicleCT6 531690453542 147996311810\n",
       "  P12763       Q2UVX4      P98160      P12111      Q28085      ⋯ Q9UN86 \n",
       "1 266866699995 58194157805 25911895708 13343334999 42009983740 ⋯ 2979480\n",
       "2 226922143394 41975726953 17433074534 20646993304 44994862767 ⋯ 3108705\n",
       "3 257966141127 39077093229 13376022132 21879350487 40032523381 ⋯ 2889362\n",
       "4 268752212252 45754508862 29318423154 22099871998 52084622952 ⋯ 2916604\n",
       "5 269048561275 48845716659 27897655246 19855982381 53214032783 ⋯ 2943273\n",
       "6 274067244093 38698294865 31243665826 10403592585 37821279684 ⋯ 2934662\n",
       "  Q6P2Q9  Q9Y263  Q01581  Q9BY44  Q9BZ29  O75891  Q14839  O75718  Q9H4G0 \n",
       "1 7632887 3333171 1305247 2984180 2684826 7767307 4517615 3188236 3538347\n",
       "2 7568973 3131544 1353655 3179888 2687902 7362915 4593665 3088583 3449193\n",
       "3 7473889 3309074 1192273 3000962 2785359 7212808 4540849 3179474 3724860\n",
       "4 7665474 3063757 1149957 3338971 2572250 7400557 4558134 3317135 3451760\n",
       "5 7626360 3244118 1071913 3251317 2654334 7134160 4525409 3050969 3643381\n",
       "6 7628901 3132602 1150902 3565450 2428520 7707736 4427748 3184921 3387514"
      ]
     },
     "metadata": {},
     "output_type": "display_data"
    },
    {
     "data": {
      "text/html": [
       "<table class=\"dataframe\">\n",
       "<caption>A data.frame: 6 × 1</caption>\n",
       "<thead>\n",
       "\t<tr><th></th><th scope=col>Treatment_Presence</th></tr>\n",
       "\t<tr><th></th><th scope=col>&lt;chr&gt;</th></tr>\n",
       "</thead>\n",
       "<tbody>\n",
       "\t<tr><th scope=row>P02769</th><td>Both</td></tr>\n",
       "\t<tr><th scope=row>P02751</th><td>Both</td></tr>\n",
       "\t<tr><th scope=row>P12763</th><td>Both</td></tr>\n",
       "\t<tr><th scope=row>Q2UVX4</th><td>Both</td></tr>\n",
       "\t<tr><th scope=row>P98160</th><td>Both</td></tr>\n",
       "\t<tr><th scope=row>P12111</th><td>Both</td></tr>\n",
       "</tbody>\n",
       "</table>\n"
      ],
      "text/latex": [
       "A data.frame: 6 × 1\n",
       "\\begin{tabular}{r|l}\n",
       "  & Treatment\\_Presence\\\\\n",
       "  & <chr>\\\\\n",
       "\\hline\n",
       "\tP02769 & Both\\\\\n",
       "\tP02751 & Both\\\\\n",
       "\tP12763 & Both\\\\\n",
       "\tQ2UVX4 & Both\\\\\n",
       "\tP98160 & Both\\\\\n",
       "\tP12111 & Both\\\\\n",
       "\\end{tabular}\n"
      ],
      "text/markdown": [
       "\n",
       "A data.frame: 6 × 1\n",
       "\n",
       "| <!--/--> | Treatment_Presence &lt;chr&gt; |\n",
       "|---|---|\n",
       "| P02769 | Both |\n",
       "| P02751 | Both |\n",
       "| P12763 | Both |\n",
       "| Q2UVX4 | Both |\n",
       "| P98160 | Both |\n",
       "| P12111 | Both |\n",
       "\n"
      ],
      "text/plain": [
       "       Treatment_Presence\n",
       "P02769 Both              \n",
       "P02751 Both              \n",
       "P12763 Both              \n",
       "Q2UVX4 Both              \n",
       "P98160 Both              \n",
       "P12111 Both              "
      ]
     },
     "metadata": {},
     "output_type": "display_data"
    }
   ],
   "source": [
    "# changing protein names so they're consistent\n",
    "# creating a tx presence df to combine to the imputed df \n",
    "tx_presence_df = preimputed_df[,c(4,7)] %>% \n",
    "    unique() %>% \n",
    "    pivot_wider(names_from = Protein, values_from = Treatment_Presence) %>%\n",
    "    pivot_longer(cols = 1:1451, values_to = \"Treatment_Presence\") %>%\n",
    "    column_to_rownames(var = \"name\")\n",
    "\n",
    "# pivoting to have unique proteins that are in the same order and length as the tx presence df\n",
    "wider_imputed_df = imputed_df %>% \n",
    "    pivot_wider(names_from = Protein, values_from = Value)\n",
    "head(wider_imputed_df)\n",
    "\n",
    "# replacing row names in tx df\n",
    "rownames(tx_presence_df) = colnames(wider_imputed_df)[4:1454]\n",
    "head(tx_presence_df)"
   ]
  },
  {
   "cell_type": "code",
   "execution_count": 17,
   "id": "7d4095d6",
   "metadata": {
    "scrolled": false
   },
   "outputs": [
    {
     "name": "stderr",
     "output_type": "stream",
     "text": [
      "\u001b[1m\u001b[22mJoining, by = \"Protein\"\n"
     ]
    },
    {
     "data": {
      "text/html": [
       "<table class=\"dataframe\">\n",
       "<caption>A tibble: 6 × 6</caption>\n",
       "<thead>\n",
       "\t<tr><th scope=col>Set</th><th scope=col>Treatment</th><th scope=col>ID</th><th scope=col>Protein</th><th scope=col>Value</th><th scope=col>Treatment_Presence</th></tr>\n",
       "\t<tr><th scope=col>&lt;chr&gt;</th><th scope=col>&lt;chr&gt;</th><th scope=col>&lt;chr&gt;</th><th scope=col>&lt;chr&gt;</th><th scope=col>&lt;dbl&gt;</th><th scope=col>&lt;chr&gt;</th></tr>\n",
       "</thead>\n",
       "<tbody>\n",
       "\t<tr><td>Set1</td><td>CoCulture_Vehicle</td><td>CoCulture_VehicleCT1</td><td>P02769</td><td>538898561926</td><td>Both</td></tr>\n",
       "\t<tr><td>Set1</td><td>CoCulture_Vehicle</td><td>CoCulture_VehicleCT1</td><td>P02751</td><td>192832712254</td><td>Both</td></tr>\n",
       "\t<tr><td>Set1</td><td>CoCulture_Vehicle</td><td>CoCulture_VehicleCT1</td><td>P12763</td><td>266866699995</td><td>Both</td></tr>\n",
       "\t<tr><td>Set1</td><td>CoCulture_Vehicle</td><td>CoCulture_VehicleCT1</td><td>Q2UVX4</td><td> 58194157805</td><td>Both</td></tr>\n",
       "\t<tr><td>Set1</td><td>CoCulture_Vehicle</td><td>CoCulture_VehicleCT1</td><td>P98160</td><td> 25911895708</td><td>Both</td></tr>\n",
       "\t<tr><td>Set1</td><td>CoCulture_Vehicle</td><td>CoCulture_VehicleCT1</td><td>P12111</td><td> 13343334999</td><td>Both</td></tr>\n",
       "</tbody>\n",
       "</table>\n"
      ],
      "text/latex": [
       "A tibble: 6 × 6\n",
       "\\begin{tabular}{llllll}\n",
       " Set & Treatment & ID & Protein & Value & Treatment\\_Presence\\\\\n",
       " <chr> & <chr> & <chr> & <chr> & <dbl> & <chr>\\\\\n",
       "\\hline\n",
       "\t Set1 & CoCulture\\_Vehicle & CoCulture\\_VehicleCT1 & P02769 & 538898561926 & Both\\\\\n",
       "\t Set1 & CoCulture\\_Vehicle & CoCulture\\_VehicleCT1 & P02751 & 192832712254 & Both\\\\\n",
       "\t Set1 & CoCulture\\_Vehicle & CoCulture\\_VehicleCT1 & P12763 & 266866699995 & Both\\\\\n",
       "\t Set1 & CoCulture\\_Vehicle & CoCulture\\_VehicleCT1 & Q2UVX4 &  58194157805 & Both\\\\\n",
       "\t Set1 & CoCulture\\_Vehicle & CoCulture\\_VehicleCT1 & P98160 &  25911895708 & Both\\\\\n",
       "\t Set1 & CoCulture\\_Vehicle & CoCulture\\_VehicleCT1 & P12111 &  13343334999 & Both\\\\\n",
       "\\end{tabular}\n"
      ],
      "text/markdown": [
       "\n",
       "A tibble: 6 × 6\n",
       "\n",
       "| Set &lt;chr&gt; | Treatment &lt;chr&gt; | ID &lt;chr&gt; | Protein &lt;chr&gt; | Value &lt;dbl&gt; | Treatment_Presence &lt;chr&gt; |\n",
       "|---|---|---|---|---|---|\n",
       "| Set1 | CoCulture_Vehicle | CoCulture_VehicleCT1 | P02769 | 538898561926 | Both |\n",
       "| Set1 | CoCulture_Vehicle | CoCulture_VehicleCT1 | P02751 | 192832712254 | Both |\n",
       "| Set1 | CoCulture_Vehicle | CoCulture_VehicleCT1 | P12763 | 266866699995 | Both |\n",
       "| Set1 | CoCulture_Vehicle | CoCulture_VehicleCT1 | Q2UVX4 |  58194157805 | Both |\n",
       "| Set1 | CoCulture_Vehicle | CoCulture_VehicleCT1 | P98160 |  25911895708 | Both |\n",
       "| Set1 | CoCulture_Vehicle | CoCulture_VehicleCT1 | P12111 |  13343334999 | Both |\n",
       "\n"
      ],
      "text/plain": [
       "  Set  Treatment         ID                   Protein Value       \n",
       "1 Set1 CoCulture_Vehicle CoCulture_VehicleCT1 P02769  538898561926\n",
       "2 Set1 CoCulture_Vehicle CoCulture_VehicleCT1 P02751  192832712254\n",
       "3 Set1 CoCulture_Vehicle CoCulture_VehicleCT1 P12763  266866699995\n",
       "4 Set1 CoCulture_Vehicle CoCulture_VehicleCT1 Q2UVX4   58194157805\n",
       "5 Set1 CoCulture_Vehicle CoCulture_VehicleCT1 P98160   25911895708\n",
       "6 Set1 CoCulture_Vehicle CoCulture_VehicleCT1 P12111   13343334999\n",
       "  Treatment_Presence\n",
       "1 Both              \n",
       "2 Both              \n",
       "3 Both              \n",
       "4 Both              \n",
       "5 Both              \n",
       "6 Both              "
      ]
     },
     "metadata": {},
     "output_type": "display_data"
    }
   ],
   "source": [
    "# now combining the two to add back in tx presence col\n",
    "final_imputed_df = inner_join(wider_imputed_df %>% \n",
    "    pivot_longer(cols = 4:1454, names_to = \"Protein\", values_to = \"Value\"), tx_presence_df %>%\n",
    "          rownames_to_column(var = \"Protein\"))\n",
    "\n",
    "head(final_imputed_df)"
   ]
  },
  {
   "cell_type": "markdown",
   "id": "e55bd04d",
   "metadata": {},
   "source": [
    "# 6. PCA\n",
    "\n",
    "Using PCA to identify and remove outlier samples."
   ]
  },
  {
   "cell_type": "code",
   "execution_count": 18,
   "id": "e45bc7c7",
   "metadata": {},
   "outputs": [
    {
     "data": {
      "text/html": [
       "<table class=\"dataframe\">\n",
       "<caption>A data.frame: 6 × 1451</caption>\n",
       "<thead>\n",
       "\t<tr><th></th><th scope=col>P02769</th><th scope=col>P02751</th><th scope=col>P12763</th><th scope=col>Q2UVX4</th><th scope=col>P98160</th><th scope=col>P12111</th><th scope=col>Q28085</th><th scope=col>Q0IIK2</th><th scope=col>P21333</th><th scope=col>O00468</th><th scope=col>⋯</th><th scope=col>Q9UN86</th><th scope=col>Q6P2Q9</th><th scope=col>Q9Y263</th><th scope=col>Q01581</th><th scope=col>Q9BY44</th><th scope=col>Q9BZ29</th><th scope=col>O75891</th><th scope=col>Q14839</th><th scope=col>O75718</th><th scope=col>Q9H4G0</th></tr>\n",
       "\t<tr><th></th><th scope=col>&lt;dbl&gt;</th><th scope=col>&lt;dbl&gt;</th><th scope=col>&lt;dbl&gt;</th><th scope=col>&lt;dbl&gt;</th><th scope=col>&lt;dbl&gt;</th><th scope=col>&lt;dbl&gt;</th><th scope=col>&lt;dbl&gt;</th><th scope=col>&lt;dbl&gt;</th><th scope=col>&lt;dbl&gt;</th><th scope=col>&lt;dbl&gt;</th><th scope=col>⋯</th><th scope=col>&lt;dbl&gt;</th><th scope=col>&lt;dbl&gt;</th><th scope=col>&lt;dbl&gt;</th><th scope=col>&lt;dbl&gt;</th><th scope=col>&lt;dbl&gt;</th><th scope=col>&lt;dbl&gt;</th><th scope=col>&lt;dbl&gt;</th><th scope=col>&lt;dbl&gt;</th><th scope=col>&lt;dbl&gt;</th><th scope=col>&lt;dbl&gt;</th></tr>\n",
       "</thead>\n",
       "<tbody>\n",
       "\t<tr><th scope=row>CoCulture_VehicleCT1</th><td>538898561926</td><td>192832712254</td><td>266866699995</td><td>58194157805</td><td>25911895708</td><td>13343334999</td><td>42009983740</td><td>48896866321</td><td> 6602798673</td><td>22984970612</td><td>⋯</td><td>2979480</td><td>7632887</td><td>3333171</td><td>1305247</td><td>2984180</td><td>2684826</td><td>7767307</td><td>4517615</td><td>3188236</td><td>3538347</td></tr>\n",
       "\t<tr><th scope=row>CoCulture_VehicleCT2</th><td>426574672991</td><td>236661291179</td><td>226922143394</td><td>41975726953</td><td>17433074534</td><td>20646993304</td><td>44994862767</td><td>34087017247</td><td>12271326208</td><td>22302648427</td><td>⋯</td><td>3108705</td><td>7568973</td><td>3131544</td><td>1353655</td><td>3179888</td><td>2687902</td><td>7362915</td><td>4593665</td><td>3088583</td><td>3449193</td></tr>\n",
       "\t<tr><th scope=row>CoCulture_VehicleCT3</th><td>452873892201</td><td>309559369352</td><td>257966141127</td><td>39077093229</td><td>13376022132</td><td>21879350487</td><td>40032523381</td><td>35542001665</td><td> 3181582406</td><td>21306092396</td><td>⋯</td><td>2889362</td><td>7473889</td><td>3309074</td><td>1192273</td><td>3000962</td><td>2785359</td><td>7212808</td><td>4540849</td><td>3179474</td><td>3724860</td></tr>\n",
       "\t<tr><th scope=row>CoCulture_VehicleCT4</th><td>377585752752</td><td>280968221900</td><td>268752212252</td><td>45754508862</td><td>29318423154</td><td>22099871998</td><td>52084622952</td><td>29096313888</td><td> 7462871348</td><td>19989833968</td><td>⋯</td><td>2916604</td><td>7665474</td><td>3063757</td><td>1149957</td><td>3338971</td><td>2572250</td><td>7400557</td><td>4558134</td><td>3317135</td><td>3451760</td></tr>\n",
       "\t<tr><th scope=row>CoCulture_VehicleCT5</th><td>490442764835</td><td>243235784179</td><td>269048561275</td><td>48845716659</td><td>27897655246</td><td>19855982381</td><td>53214032783</td><td>44080280887</td><td> 7406281427</td><td>22834379738</td><td>⋯</td><td>2943273</td><td>7626360</td><td>3244118</td><td>1071913</td><td>3251317</td><td>2654334</td><td>7134160</td><td>4525409</td><td>3050969</td><td>3643381</td></tr>\n",
       "\t<tr><th scope=row>CoCulture_VehicleCT6</th><td>531690453542</td><td>147996311810</td><td>274067244093</td><td>38698294865</td><td>31243665826</td><td>10403592585</td><td>37821279684</td><td>44289266645</td><td>11181943558</td><td>19513587779</td><td>⋯</td><td>2934662</td><td>7628901</td><td>3132602</td><td>1150902</td><td>3565450</td><td>2428520</td><td>7707736</td><td>4427748</td><td>3184921</td><td>3387514</td></tr>\n",
       "</tbody>\n",
       "</table>\n"
      ],
      "text/latex": [
       "A data.frame: 6 × 1451\n",
       "\\begin{tabular}{r|lllllllllllllllllllll}\n",
       "  & P02769 & P02751 & P12763 & Q2UVX4 & P98160 & P12111 & Q28085 & Q0IIK2 & P21333 & O00468 & ⋯ & Q9UN86 & Q6P2Q9 & Q9Y263 & Q01581 & Q9BY44 & Q9BZ29 & O75891 & Q14839 & O75718 & Q9H4G0\\\\\n",
       "  & <dbl> & <dbl> & <dbl> & <dbl> & <dbl> & <dbl> & <dbl> & <dbl> & <dbl> & <dbl> & ⋯ & <dbl> & <dbl> & <dbl> & <dbl> & <dbl> & <dbl> & <dbl> & <dbl> & <dbl> & <dbl>\\\\\n",
       "\\hline\n",
       "\tCoCulture\\_VehicleCT1 & 538898561926 & 192832712254 & 266866699995 & 58194157805 & 25911895708 & 13343334999 & 42009983740 & 48896866321 &  6602798673 & 22984970612 & ⋯ & 2979480 & 7632887 & 3333171 & 1305247 & 2984180 & 2684826 & 7767307 & 4517615 & 3188236 & 3538347\\\\\n",
       "\tCoCulture\\_VehicleCT2 & 426574672991 & 236661291179 & 226922143394 & 41975726953 & 17433074534 & 20646993304 & 44994862767 & 34087017247 & 12271326208 & 22302648427 & ⋯ & 3108705 & 7568973 & 3131544 & 1353655 & 3179888 & 2687902 & 7362915 & 4593665 & 3088583 & 3449193\\\\\n",
       "\tCoCulture\\_VehicleCT3 & 452873892201 & 309559369352 & 257966141127 & 39077093229 & 13376022132 & 21879350487 & 40032523381 & 35542001665 &  3181582406 & 21306092396 & ⋯ & 2889362 & 7473889 & 3309074 & 1192273 & 3000962 & 2785359 & 7212808 & 4540849 & 3179474 & 3724860\\\\\n",
       "\tCoCulture\\_VehicleCT4 & 377585752752 & 280968221900 & 268752212252 & 45754508862 & 29318423154 & 22099871998 & 52084622952 & 29096313888 &  7462871348 & 19989833968 & ⋯ & 2916604 & 7665474 & 3063757 & 1149957 & 3338971 & 2572250 & 7400557 & 4558134 & 3317135 & 3451760\\\\\n",
       "\tCoCulture\\_VehicleCT5 & 490442764835 & 243235784179 & 269048561275 & 48845716659 & 27897655246 & 19855982381 & 53214032783 & 44080280887 &  7406281427 & 22834379738 & ⋯ & 2943273 & 7626360 & 3244118 & 1071913 & 3251317 & 2654334 & 7134160 & 4525409 & 3050969 & 3643381\\\\\n",
       "\tCoCulture\\_VehicleCT6 & 531690453542 & 147996311810 & 274067244093 & 38698294865 & 31243665826 & 10403592585 & 37821279684 & 44289266645 & 11181943558 & 19513587779 & ⋯ & 2934662 & 7628901 & 3132602 & 1150902 & 3565450 & 2428520 & 7707736 & 4427748 & 3184921 & 3387514\\\\\n",
       "\\end{tabular}\n"
      ],
      "text/markdown": [
       "\n",
       "A data.frame: 6 × 1451\n",
       "\n",
       "| <!--/--> | P02769 &lt;dbl&gt; | P02751 &lt;dbl&gt; | P12763 &lt;dbl&gt; | Q2UVX4 &lt;dbl&gt; | P98160 &lt;dbl&gt; | P12111 &lt;dbl&gt; | Q28085 &lt;dbl&gt; | Q0IIK2 &lt;dbl&gt; | P21333 &lt;dbl&gt; | O00468 &lt;dbl&gt; | ⋯ ⋯ | Q9UN86 &lt;dbl&gt; | Q6P2Q9 &lt;dbl&gt; | Q9Y263 &lt;dbl&gt; | Q01581 &lt;dbl&gt; | Q9BY44 &lt;dbl&gt; | Q9BZ29 &lt;dbl&gt; | O75891 &lt;dbl&gt; | Q14839 &lt;dbl&gt; | O75718 &lt;dbl&gt; | Q9H4G0 &lt;dbl&gt; |\n",
       "|---|---|---|---|---|---|---|---|---|---|---|---|---|---|---|---|---|---|---|---|---|---|\n",
       "| CoCulture_VehicleCT1 | 538898561926 | 192832712254 | 266866699995 | 58194157805 | 25911895708 | 13343334999 | 42009983740 | 48896866321 |  6602798673 | 22984970612 | ⋯ | 2979480 | 7632887 | 3333171 | 1305247 | 2984180 | 2684826 | 7767307 | 4517615 | 3188236 | 3538347 |\n",
       "| CoCulture_VehicleCT2 | 426574672991 | 236661291179 | 226922143394 | 41975726953 | 17433074534 | 20646993304 | 44994862767 | 34087017247 | 12271326208 | 22302648427 | ⋯ | 3108705 | 7568973 | 3131544 | 1353655 | 3179888 | 2687902 | 7362915 | 4593665 | 3088583 | 3449193 |\n",
       "| CoCulture_VehicleCT3 | 452873892201 | 309559369352 | 257966141127 | 39077093229 | 13376022132 | 21879350487 | 40032523381 | 35542001665 |  3181582406 | 21306092396 | ⋯ | 2889362 | 7473889 | 3309074 | 1192273 | 3000962 | 2785359 | 7212808 | 4540849 | 3179474 | 3724860 |\n",
       "| CoCulture_VehicleCT4 | 377585752752 | 280968221900 | 268752212252 | 45754508862 | 29318423154 | 22099871998 | 52084622952 | 29096313888 |  7462871348 | 19989833968 | ⋯ | 2916604 | 7665474 | 3063757 | 1149957 | 3338971 | 2572250 | 7400557 | 4558134 | 3317135 | 3451760 |\n",
       "| CoCulture_VehicleCT5 | 490442764835 | 243235784179 | 269048561275 | 48845716659 | 27897655246 | 19855982381 | 53214032783 | 44080280887 |  7406281427 | 22834379738 | ⋯ | 2943273 | 7626360 | 3244118 | 1071913 | 3251317 | 2654334 | 7134160 | 4525409 | 3050969 | 3643381 |\n",
       "| CoCulture_VehicleCT6 | 531690453542 | 147996311810 | 274067244093 | 38698294865 | 31243665826 | 10403592585 | 37821279684 | 44289266645 | 11181943558 | 19513587779 | ⋯ | 2934662 | 7628901 | 3132602 | 1150902 | 3565450 | 2428520 | 7707736 | 4427748 | 3184921 | 3387514 |\n",
       "\n"
      ],
      "text/plain": [
       "                     P02769       P02751       P12763       Q2UVX4     \n",
       "CoCulture_VehicleCT1 538898561926 192832712254 266866699995 58194157805\n",
       "CoCulture_VehicleCT2 426574672991 236661291179 226922143394 41975726953\n",
       "CoCulture_VehicleCT3 452873892201 309559369352 257966141127 39077093229\n",
       "CoCulture_VehicleCT4 377585752752 280968221900 268752212252 45754508862\n",
       "CoCulture_VehicleCT5 490442764835 243235784179 269048561275 48845716659\n",
       "CoCulture_VehicleCT6 531690453542 147996311810 274067244093 38698294865\n",
       "                     P98160      P12111      Q28085      Q0IIK2     \n",
       "CoCulture_VehicleCT1 25911895708 13343334999 42009983740 48896866321\n",
       "CoCulture_VehicleCT2 17433074534 20646993304 44994862767 34087017247\n",
       "CoCulture_VehicleCT3 13376022132 21879350487 40032523381 35542001665\n",
       "CoCulture_VehicleCT4 29318423154 22099871998 52084622952 29096313888\n",
       "CoCulture_VehicleCT5 27897655246 19855982381 53214032783 44080280887\n",
       "CoCulture_VehicleCT6 31243665826 10403592585 37821279684 44289266645\n",
       "                     P21333      O00468      ⋯ Q9UN86  Q6P2Q9  Q9Y263  Q01581 \n",
       "CoCulture_VehicleCT1  6602798673 22984970612 ⋯ 2979480 7632887 3333171 1305247\n",
       "CoCulture_VehicleCT2 12271326208 22302648427 ⋯ 3108705 7568973 3131544 1353655\n",
       "CoCulture_VehicleCT3  3181582406 21306092396 ⋯ 2889362 7473889 3309074 1192273\n",
       "CoCulture_VehicleCT4  7462871348 19989833968 ⋯ 2916604 7665474 3063757 1149957\n",
       "CoCulture_VehicleCT5  7406281427 22834379738 ⋯ 2943273 7626360 3244118 1071913\n",
       "CoCulture_VehicleCT6 11181943558 19513587779 ⋯ 2934662 7628901 3132602 1150902\n",
       "                     Q9BY44  Q9BZ29  O75891  Q14839  O75718  Q9H4G0 \n",
       "CoCulture_VehicleCT1 2984180 2684826 7767307 4517615 3188236 3538347\n",
       "CoCulture_VehicleCT2 3179888 2687902 7362915 4593665 3088583 3449193\n",
       "CoCulture_VehicleCT3 3000962 2785359 7212808 4540849 3179474 3724860\n",
       "CoCulture_VehicleCT4 3338971 2572250 7400557 4558134 3317135 3451760\n",
       "CoCulture_VehicleCT5 3251317 2654334 7134160 4525409 3050969 3643381\n",
       "CoCulture_VehicleCT6 3565450 2428520 7707736 4427748 3184921 3387514"
      ]
     },
     "metadata": {},
     "output_type": "display_data"
    }
   ],
   "source": [
    "# prepping dfs for PCA\n",
    "pca_prep_df = final_imputed_df %>%\n",
    "    select(-c(\"Set\", \"Treatment\", \"Treatment_Presence\")) %>%\n",
    "    pivot_wider(names_from = Protein, values_from = Value) %>%\n",
    "    column_to_rownames(var = \"ID\")\n",
    "\n",
    "head(pca_prep_df)"
   ]
  },
  {
   "cell_type": "code",
   "execution_count": 19,
   "id": "696d77c3",
   "metadata": {},
   "outputs": [
    {
     "data": {
      "image/png": "[encoded data removed]",
      "text/plain": [
       "plot without title"
      ]
     },
     "metadata": {
      "image/png": {
       "height": 300,
       "width": 600
      }
     },
     "output_type": "display_data"
    }
   ],
   "source": [
    "# running PCA\n",
    "# unable to run pca on entire dataset, each treatment included different proteins creating missing data\n",
    "pca = prcomp(pca_prep_df, scale = TRUE)\n",
    "\n",
    "# viewing scree plots to see how much of the variance was captured in first 2 eigenvectors\n",
    "options(repr.plot.width=10, repr.plot.height=5) #changing size\n",
    "fviz_eig(pca, addlabels = TRUE)"
   ]
  },
  {
   "cell_type": "code",
   "execution_count": 20,
   "id": "59ce96ce",
   "metadata": {},
   "outputs": [
    {
     "data": {
      "image/png": "[encoded data removed]",
      "text/plain": [
       "plot without title"
      ]
     },
     "metadata": {
      "image/png": {
       "height": 300,
       "width": 600
      }
     },
     "output_type": "display_data"
    }
   ],
   "source": [
    "# visualizing all data to detect outliers\n",
    "fviz_pca_ind(pca, \n",
    "             repel = TRUE) +\n",
    "theme(axis.line = element_line(colour = \"black\"), #making x and y axes black\n",
    "      legend.text = element_text(size = 8),\n",
    "      axis.title = element_text(face = \"bold\", size = rel(1.1))) #changes axis titles"
   ]
  },
  {
   "cell_type": "markdown",
   "id": "3095bbeb",
   "metadata": {},
   "source": [
    "I'll use a formula to detect outliers rather than visual inspection, since there aren't any obvious outliers. \n",
    "\n",
    "The standard way to detect outliers in genetics is the criterion of being “more than 6 standard deviations away from the mean”. [source](https://privefl.github.io/blog/detecting-outlier-samples-in-pca/)"
   ]
  },
  {
   "cell_type": "code",
   "execution_count": 21,
   "id": "7e59cdbb",
   "metadata": {},
   "outputs": [],
   "source": [
    "outlier_detection = function(pca_df){\n",
    "    # \"\"\"\n",
    "    # Creating a scoring function for to detect PCA sample outliers. \n",
    "    # :param (input): PCA df (df)\n",
    "    # :output: outlier names\n",
    "    # \"\"\"\n",
    "    \n",
    "    # getting scores\n",
    "    scores = pca_df$x\n",
    "    # identifying samples that are > 6 standard deviations away from the mean\n",
    "    outlier_indices = apply(scores, 2, function(x) which( abs(x - mean(x)) > (6 * sd(x)) )) %>%\n",
    "        Reduce(union, .)\n",
    "    # getting sample names\n",
    "    outliers = rownames(scores)[outlier_indices]\n",
    "    \n",
    "    return(outliers)\n",
    "}\n",
    "\n",
    "# calling fn\n",
    "outliers = outlier_detection(pca)                        "
   ]
  },
  {
   "cell_type": "code",
   "execution_count": 22,
   "id": "b674b1c0",
   "metadata": {},
   "outputs": [
    {
     "data": {
      "text/html": [
       "0"
      ],
      "text/latex": [
       "0"
      ],
      "text/markdown": [
       "0"
      ],
      "text/plain": [
       "[1] 0"
      ]
     },
     "metadata": {},
     "output_type": "display_data"
    }
   ],
   "source": [
    "# number of samples to be removed from this filter\n",
    "length(outliers)"
   ]
  },
  {
   "cell_type": "code",
   "execution_count": 23,
   "id": "d6d4d375",
   "metadata": {},
   "outputs": [],
   "source": [
    "# removing those outliers (even though there were none)\n",
    "`%notin%` <- Negate(`%in%`)\n",
    "\n",
    "removed_outliers_df = final_imputed_df %>%\n",
    "    filter(ID %notin% outliers)"
   ]
  },
  {
   "cell_type": "code",
   "execution_count": 24,
   "id": "a88d7cfd",
   "metadata": {},
   "outputs": [
    {
     "data": {
      "text/html": [
       "<table class=\"dataframe\">\n",
       "<caption>A tibble: 6 × 7</caption>\n",
       "<thead>\n",
       "\t<tr><th scope=col>Set</th><th scope=col>Treatment</th><th scope=col>ID</th><th scope=col>Protein</th><th scope=col>Value</th><th scope=col>Treatment_Presence</th><th scope=col>log2Value</th></tr>\n",
       "\t<tr><th scope=col>&lt;chr&gt;</th><th scope=col>&lt;chr&gt;</th><th scope=col>&lt;chr&gt;</th><th scope=col>&lt;chr&gt;</th><th scope=col>&lt;dbl&gt;</th><th scope=col>&lt;chr&gt;</th><th scope=col>&lt;dbl&gt;</th></tr>\n",
       "</thead>\n",
       "<tbody>\n",
       "\t<tr><td>Set1</td><td>CoCulture_Vehicle</td><td>CoCulture_VehicleCT1</td><td>P02769</td><td>538898561926</td><td>Both</td><td>38.97122</td></tr>\n",
       "\t<tr><td>Set1</td><td>CoCulture_Vehicle</td><td>CoCulture_VehicleCT1</td><td>P02751</td><td>192832712254</td><td>Both</td><td>37.48856</td></tr>\n",
       "\t<tr><td>Set1</td><td>CoCulture_Vehicle</td><td>CoCulture_VehicleCT1</td><td>P12763</td><td>266866699995</td><td>Both</td><td>37.95733</td></tr>\n",
       "\t<tr><td>Set1</td><td>CoCulture_Vehicle</td><td>CoCulture_VehicleCT1</td><td>Q2UVX4</td><td> 58194157805</td><td>Both</td><td>35.76016</td></tr>\n",
       "\t<tr><td>Set1</td><td>CoCulture_Vehicle</td><td>CoCulture_VehicleCT1</td><td>P98160</td><td> 25911895708</td><td>Both</td><td>34.59290</td></tr>\n",
       "\t<tr><td>Set1</td><td>CoCulture_Vehicle</td><td>CoCulture_VehicleCT1</td><td>P12111</td><td> 13343334999</td><td>Both</td><td>33.63540</td></tr>\n",
       "</tbody>\n",
       "</table>\n"
      ],
      "text/latex": [
       "A tibble: 6 × 7\n",
       "\\begin{tabular}{lllllll}\n",
       " Set & Treatment & ID & Protein & Value & Treatment\\_Presence & log2Value\\\\\n",
       " <chr> & <chr> & <chr> & <chr> & <dbl> & <chr> & <dbl>\\\\\n",
       "\\hline\n",
       "\t Set1 & CoCulture\\_Vehicle & CoCulture\\_VehicleCT1 & P02769 & 538898561926 & Both & 38.97122\\\\\n",
       "\t Set1 & CoCulture\\_Vehicle & CoCulture\\_VehicleCT1 & P02751 & 192832712254 & Both & 37.48856\\\\\n",
       "\t Set1 & CoCulture\\_Vehicle & CoCulture\\_VehicleCT1 & P12763 & 266866699995 & Both & 37.95733\\\\\n",
       "\t Set1 & CoCulture\\_Vehicle & CoCulture\\_VehicleCT1 & Q2UVX4 &  58194157805 & Both & 35.76016\\\\\n",
       "\t Set1 & CoCulture\\_Vehicle & CoCulture\\_VehicleCT1 & P98160 &  25911895708 & Both & 34.59290\\\\\n",
       "\t Set1 & CoCulture\\_Vehicle & CoCulture\\_VehicleCT1 & P12111 &  13343334999 & Both & 33.63540\\\\\n",
       "\\end{tabular}\n"
      ],
      "text/markdown": [
       "\n",
       "A tibble: 6 × 7\n",
       "\n",
       "| Set &lt;chr&gt; | Treatment &lt;chr&gt; | ID &lt;chr&gt; | Protein &lt;chr&gt; | Value &lt;dbl&gt; | Treatment_Presence &lt;chr&gt; | log2Value &lt;dbl&gt; |\n",
       "|---|---|---|---|---|---|---|\n",
       "| Set1 | CoCulture_Vehicle | CoCulture_VehicleCT1 | P02769 | 538898561926 | Both | 38.97122 |\n",
       "| Set1 | CoCulture_Vehicle | CoCulture_VehicleCT1 | P02751 | 192832712254 | Both | 37.48856 |\n",
       "| Set1 | CoCulture_Vehicle | CoCulture_VehicleCT1 | P12763 | 266866699995 | Both | 37.95733 |\n",
       "| Set1 | CoCulture_Vehicle | CoCulture_VehicleCT1 | Q2UVX4 |  58194157805 | Both | 35.76016 |\n",
       "| Set1 | CoCulture_Vehicle | CoCulture_VehicleCT1 | P98160 |  25911895708 | Both | 34.59290 |\n",
       "| Set1 | CoCulture_Vehicle | CoCulture_VehicleCT1 | P12111 |  13343334999 | Both | 33.63540 |\n",
       "\n"
      ],
      "text/plain": [
       "  Set  Treatment         ID                   Protein Value       \n",
       "1 Set1 CoCulture_Vehicle CoCulture_VehicleCT1 P02769  538898561926\n",
       "2 Set1 CoCulture_Vehicle CoCulture_VehicleCT1 P02751  192832712254\n",
       "3 Set1 CoCulture_Vehicle CoCulture_VehicleCT1 P12763  266866699995\n",
       "4 Set1 CoCulture_Vehicle CoCulture_VehicleCT1 Q2UVX4   58194157805\n",
       "5 Set1 CoCulture_Vehicle CoCulture_VehicleCT1 P98160   25911895708\n",
       "6 Set1 CoCulture_Vehicle CoCulture_VehicleCT1 P12111   13343334999\n",
       "  Treatment_Presence log2Value\n",
       "1 Both               38.97122 \n",
       "2 Both               37.48856 \n",
       "3 Both               37.95733 \n",
       "4 Both               35.76016 \n",
       "5 Both               34.59290 \n",
       "6 Both               33.63540 "
      ]
     },
     "metadata": {},
     "output_type": "display_data"
    }
   ],
   "source": [
    "# creating 1 final df with proteins that passed all filters and adding a col for log2 values\n",
    "final_df = removed_outliers_df\n",
    "final_df$log2Value = log2(final_df$Value)\n",
    "head(final_df)"
   ]
  },
  {
   "cell_type": "code",
   "execution_count": 25,
   "id": "418ea3b5",
   "metadata": {},
   "outputs": [
    {
     "data": {
      "text/html": [
       "<table class=\"dataframe\">\n",
       "<caption>A tibble: 2 × 2</caption>\n",
       "<thead>\n",
       "\t<tr><th scope=col>Treatment</th><th scope=col>Final Number of Proteins</th></tr>\n",
       "\t<tr><th scope=col>&lt;chr&gt;</th><th scope=col>&lt;int&gt;</th></tr>\n",
       "</thead>\n",
       "<tbody>\n",
       "\t<tr><td>CoCulture_Vehicle </td><td>1451</td></tr>\n",
       "\t<tr><td>TriCulture_Vehicle</td><td>1451</td></tr>\n",
       "</tbody>\n",
       "</table>\n"
      ],
      "text/latex": [
       "A tibble: 2 × 2\n",
       "\\begin{tabular}{ll}\n",
       " Treatment & Final Number of Proteins\\\\\n",
       " <chr> & <int>\\\\\n",
       "\\hline\n",
       "\t CoCulture\\_Vehicle  & 1451\\\\\n",
       "\t TriCulture\\_Vehicle & 1451\\\\\n",
       "\\end{tabular}\n"
      ],
      "text/markdown": [
       "\n",
       "A tibble: 2 × 2\n",
       "\n",
       "| Treatment &lt;chr&gt; | Final Number of Proteins &lt;int&gt; |\n",
       "|---|---|\n",
       "| CoCulture_Vehicle  | 1451 |\n",
       "| TriCulture_Vehicle | 1451 |\n",
       "\n"
      ],
      "text/plain": [
       "  Treatment          Final Number of Proteins\n",
       "1 CoCulture_Vehicle  1451                    \n",
       "2 TriCulture_Vehicle 1451                    "
      ]
     },
     "metadata": {},
     "output_type": "display_data"
    }
   ],
   "source": [
    "# final number of proteins for each treatment\n",
    "final_df %>%\n",
    "    group_by(Treatment) %>%\n",
    "    summarize(`Final Number of Proteins` = length(unique(Protein)))"
   ]
  },
  {
   "cell_type": "code",
   "execution_count": 26,
   "id": "2eb66dec",
   "metadata": {},
   "outputs": [],
   "source": [
    "#exporting results\n",
    "write.csv(final_df, paste0(Output,\"/\", cur_date, \"_Imputed_Proteomics_Data.csv\"), row.names = FALSE)"
   ]
  },
  {
   "cell_type": "code",
   "execution_count": null,
   "id": "f9daab3f",
   "metadata": {},
   "outputs": [],
   "source": []
  }
 ],
 "metadata": {
  "kernelspec": {
   "display_name": "R",
   "language": "R",
   "name": "ir"
  },
  "language_info": {
   "codemirror_mode": "r",
   "file_extension": ".r",
   "mimetype": "text/x-r-source",
   "name": "R",
   "pygments_lexer": "r",
   "version": "4.1.2"
  }
 },
 "nbformat": 4,
 "nbformat_minor": 5
}
