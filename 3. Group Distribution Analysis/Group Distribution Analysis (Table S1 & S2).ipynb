{
 "cells": [
  {
   "cell_type": "code",
   "execution_count": 1,
   "id": "2435c81d",
   "metadata": {},
   "outputs": [
    {
     "name": "stderr",
     "output_type": "stream",
     "text": [
      "── \u001b[1mAttaching packages\u001b[22m ─────────────────────────────────────── tidyverse 1.3.1 ──\n",
      "\n",
      "\u001b[32m✔\u001b[39m \u001b[34mggplot2\u001b[39m 3.3.5     \u001b[32m✔\u001b[39m \u001b[34mpurrr  \u001b[39m 0.3.4\n",
      "\u001b[32m✔\u001b[39m \u001b[34mtibble \u001b[39m 3.1.6     \u001b[32m✔\u001b[39m \u001b[34mdplyr  \u001b[39m 1.0.8\n",
      "\u001b[32m✔\u001b[39m \u001b[34mtidyr  \u001b[39m 1.2.0     \u001b[32m✔\u001b[39m \u001b[34mstringr\u001b[39m 1.4.0\n",
      "\u001b[32m✔\u001b[39m \u001b[34mreadr  \u001b[39m 2.1.2     \u001b[32m✔\u001b[39m \u001b[34mforcats\u001b[39m 0.5.1\n",
      "\n",
      "── \u001b[1mConflicts\u001b[22m ────────────────────────────────────────── tidyverse_conflicts() ──\n",
      "\u001b[31m✖\u001b[39m \u001b[34mdplyr\u001b[39m::\u001b[32mfilter()\u001b[39m masks \u001b[34mstats\u001b[39m::filter()\n",
      "\u001b[31m✖\u001b[39m \u001b[34mdplyr\u001b[39m::\u001b[32mlag()\u001b[39m    masks \u001b[34mstats\u001b[39m::lag()\n",
      "\n",
      "\n",
      "Attaching package: ‘reshape2’\n",
      "\n",
      "\n",
      "The following object is masked from ‘package:tidyr’:\n",
      "\n",
      "    smiths\n",
      "\n",
      "\n"
     ]
    }
   ],
   "source": [
    "Output = ('/Users/alexis/Library/CloudStorage/OneDrive-UniversityofNorthCarolinaatChapelHill/CEMALB_DataAnalysisPM/Projects/P1008. InVitroWildfire EVProteomics V2/P1008.3. Analyses/P1008.3.2. Group Distribution Analysis/Output')\n",
    "cur_date = \"082422\"\n",
    "\n",
    "library(readxl)\n",
    "library(tidyverse)\n",
    "library(reshape2)\n",
    "\n",
    "\n",
    "#reading in file\n",
    "proteomics_df = data.frame(read_excel(\"Input/082422_Imputed_Proteomics_Data.xlsx\"))\n",
    "protein_info_df = data.frame(read_excel(\"Input/List of Proteins Detected_041922.xlsx\")) %>%\n",
    "    rename(Protein = Accession)"
   ]
  },
  {
   "cell_type": "code",
   "execution_count": 2,
   "id": "d6772e95",
   "metadata": {},
   "outputs": [
    {
     "data": {
      "text/html": [
       "<table class=\"dataframe\">\n",
       "<caption>A data.frame: 6 × 7</caption>\n",
       "<thead>\n",
       "\t<tr><th></th><th scope=col>Set</th><th scope=col>Treatment</th><th scope=col>ID</th><th scope=col>Protein</th><th scope=col>Value</th><th scope=col>Treatment_Presence</th><th scope=col>log2Value</th></tr>\n",
       "\t<tr><th></th><th scope=col>&lt;chr&gt;</th><th scope=col>&lt;chr&gt;</th><th scope=col>&lt;chr&gt;</th><th scope=col>&lt;chr&gt;</th><th scope=col>&lt;dbl&gt;</th><th scope=col>&lt;chr&gt;</th><th scope=col>&lt;dbl&gt;</th></tr>\n",
       "</thead>\n",
       "<tbody>\n",
       "\t<tr><th scope=row>1</th><td>Set1</td><td>CoCulture_Vehicle</td><td>CoCulture_VehicleCT1</td><td>P02769</td><td>538898561926</td><td>Both</td><td>38.97122</td></tr>\n",
       "\t<tr><th scope=row>2</th><td>Set1</td><td>CoCulture_Vehicle</td><td>CoCulture_VehicleCT1</td><td>P02751</td><td>192832712254</td><td>Both</td><td>37.48856</td></tr>\n",
       "\t<tr><th scope=row>3</th><td>Set1</td><td>CoCulture_Vehicle</td><td>CoCulture_VehicleCT1</td><td>P12763</td><td>266866699995</td><td>Both</td><td>37.95733</td></tr>\n",
       "\t<tr><th scope=row>4</th><td>Set1</td><td>CoCulture_Vehicle</td><td>CoCulture_VehicleCT1</td><td>Q2UVX4</td><td> 58194157805</td><td>Both</td><td>35.76016</td></tr>\n",
       "\t<tr><th scope=row>5</th><td>Set1</td><td>CoCulture_Vehicle</td><td>CoCulture_VehicleCT1</td><td>P98160</td><td> 25911895708</td><td>Both</td><td>34.59290</td></tr>\n",
       "\t<tr><th scope=row>6</th><td>Set1</td><td>CoCulture_Vehicle</td><td>CoCulture_VehicleCT1</td><td>P12111</td><td> 13343334999</td><td>Both</td><td>33.63540</td></tr>\n",
       "</tbody>\n",
       "</table>\n"
      ],
      "text/latex": [
       "A data.frame: 6 × 7\n",
       "\\begin{tabular}{r|lllllll}\n",
       "  & Set & Treatment & ID & Protein & Value & Treatment\\_Presence & log2Value\\\\\n",
       "  & <chr> & <chr> & <chr> & <chr> & <dbl> & <chr> & <dbl>\\\\\n",
       "\\hline\n",
       "\t1 & Set1 & CoCulture\\_Vehicle & CoCulture\\_VehicleCT1 & P02769 & 538898561926 & Both & 38.97122\\\\\n",
       "\t2 & Set1 & CoCulture\\_Vehicle & CoCulture\\_VehicleCT1 & P02751 & 192832712254 & Both & 37.48856\\\\\n",
       "\t3 & Set1 & CoCulture\\_Vehicle & CoCulture\\_VehicleCT1 & P12763 & 266866699995 & Both & 37.95733\\\\\n",
       "\t4 & Set1 & CoCulture\\_Vehicle & CoCulture\\_VehicleCT1 & Q2UVX4 &  58194157805 & Both & 35.76016\\\\\n",
       "\t5 & Set1 & CoCulture\\_Vehicle & CoCulture\\_VehicleCT1 & P98160 &  25911895708 & Both & 34.59290\\\\\n",
       "\t6 & Set1 & CoCulture\\_Vehicle & CoCulture\\_VehicleCT1 & P12111 &  13343334999 & Both & 33.63540\\\\\n",
       "\\end{tabular}\n"
      ],
      "text/markdown": [
       "\n",
       "A data.frame: 6 × 7\n",
       "\n",
       "| <!--/--> | Set &lt;chr&gt; | Treatment &lt;chr&gt; | ID &lt;chr&gt; | Protein &lt;chr&gt; | Value &lt;dbl&gt; | Treatment_Presence &lt;chr&gt; | log2Value &lt;dbl&gt; |\n",
       "|---|---|---|---|---|---|---|---|\n",
       "| 1 | Set1 | CoCulture_Vehicle | CoCulture_VehicleCT1 | P02769 | 538898561926 | Both | 38.97122 |\n",
       "| 2 | Set1 | CoCulture_Vehicle | CoCulture_VehicleCT1 | P02751 | 192832712254 | Both | 37.48856 |\n",
       "| 3 | Set1 | CoCulture_Vehicle | CoCulture_VehicleCT1 | P12763 | 266866699995 | Both | 37.95733 |\n",
       "| 4 | Set1 | CoCulture_Vehicle | CoCulture_VehicleCT1 | Q2UVX4 |  58194157805 | Both | 35.76016 |\n",
       "| 5 | Set1 | CoCulture_Vehicle | CoCulture_VehicleCT1 | P98160 |  25911895708 | Both | 34.59290 |\n",
       "| 6 | Set1 | CoCulture_Vehicle | CoCulture_VehicleCT1 | P12111 |  13343334999 | Both | 33.63540 |\n",
       "\n"
      ],
      "text/plain": [
       "  Set  Treatment         ID                   Protein Value       \n",
       "1 Set1 CoCulture_Vehicle CoCulture_VehicleCT1 P02769  538898561926\n",
       "2 Set1 CoCulture_Vehicle CoCulture_VehicleCT1 P02751  192832712254\n",
       "3 Set1 CoCulture_Vehicle CoCulture_VehicleCT1 P12763  266866699995\n",
       "4 Set1 CoCulture_Vehicle CoCulture_VehicleCT1 Q2UVX4   58194157805\n",
       "5 Set1 CoCulture_Vehicle CoCulture_VehicleCT1 P98160   25911895708\n",
       "6 Set1 CoCulture_Vehicle CoCulture_VehicleCT1 P12111   13343334999\n",
       "  Treatment_Presence log2Value\n",
       "1 Both               38.97122 \n",
       "2 Both               37.48856 \n",
       "3 Both               37.95733 \n",
       "4 Both               35.76016 \n",
       "5 Both               34.59290 \n",
       "6 Both               33.63540 "
      ]
     },
     "metadata": {},
     "output_type": "display_data"
    },
    {
     "data": {
      "text/html": [
       "<table class=\"dataframe\">\n",
       "<caption>A data.frame: 6 × 5</caption>\n",
       "<thead>\n",
       "\t<tr><th></th><th scope=col>Protein</th><th scope=col>Gene.name</th><th scope=col>Description</th><th scope=col>GOCC.name</th><th scope=col>Contaminant</th></tr>\n",
       "\t<tr><th></th><th scope=col>&lt;chr&gt;</th><th scope=col>&lt;chr&gt;</th><th scope=col>&lt;chr&gt;</th><th scope=col>&lt;chr&gt;</th><th scope=col>&lt;chr&gt;</th></tr>\n",
       "</thead>\n",
       "<tbody>\n",
       "\t<tr><th scope=row>1</th><td>A0AVT1</td><td>UBA6                                               </td><td>Ubiquitin-like modifier-activating enzyme 6 OS=Homo sapiens OX=9606 GN=UBA6 PE=1 SV=1                              </td><td>cell part;cytoplasm;cytoplasmic part;cytosol;intracellular part                                                                                                                                                                                                                                                                                                                                                                           </td><td>-</td></tr>\n",
       "\t<tr><th scope=row>2</th><td>A1L4H1</td><td>SSC5D                                              </td><td>Soluble scavenger receptor cysteine-rich domain-containing protein SSC5D OS=Homo sapiens OX=9606 GN=SSC5D PE=1 SV=3</td><td>cell part;cytoplasm;extracellular matrix;extracellular region part;extracellular space;intracellular;intracellular part;membrane                                                                                                                                                                                                                                                                                                          </td><td>-</td></tr>\n",
       "\t<tr><th scope=row>3</th><td>A2I7N0</td><td>TREMBL:A2I7N0;Q28922;Q3ZEJ6 (Bos taurus) SERPINA3-4</td><td>TREMBL:A2I7N0;Q28922;Q3ZEJ6 (Bos taurus) SERPINA3-4                                                                </td><td>NA                                                                                                                                                                                                                                                                                                                                                                                                                                        </td><td>+</td></tr>\n",
       "\t<tr><th scope=row>4</th><td>A8K2U0</td><td>A2ML1                                              </td><td>Alpha-2-macroglobulin-like protein 1 OS=Homo sapiens OX=9606 GN=A2ML1 PE=1 SV=3                                    </td><td>extracellular membrane-bounded organelle;extracellular organelle;extracellular region part;extracellular space;extracellular vesicular exosome;membrane-bounded organelle;membrane-bounded vesicle;organelle;vesicle                                                                                                                                                                                                                      </td><td>-</td></tr>\n",
       "\t<tr><th scope=row>5</th><td>O00148</td><td>DDX39A                                             </td><td>ATP-dependent RNA helicase DDX39A OS=Homo sapiens OX=9606 GN=DDX39A PE=1 SV=2                                      </td><td>cell part;cytoplasm;intracellular membrane-bounded organelle;intracellular non-membrane-bounded organelle;intracellular organelle;intracellular organelle part;intracellular part;macromolecular complex;membrane;membrane-bounded organelle;non-membrane-bounded organelle;nuclear part;nucleolus;nucleus;organelle;organelle part;ribonucleoprotein complex;spliceosomal complex                                                        </td><td>-</td></tr>\n",
       "\t<tr><th scope=row>6</th><td>O00151</td><td>PDLIM1                                             </td><td>PDZ and LIM domain protein 1 OS=Homo sapiens OX=9606 GN=PDLIM1 PE=1 SV=4                                           </td><td>adherens junction;anchoring junction;cell junction;cell part;cell-substrate adherens junction;cell-substrate junction;cytoplasm;cytoskeleton;focal adhesion;intracellular non-membrane-bounded organelle;intracellular organelle;intracellular organelle part;intracellular part;macromolecular complex;non-membrane-bounded organelle;nuclear part;nucleoplasm part;organelle;organelle part;protein complex;transcription factor complex</td><td>-</td></tr>\n",
       "</tbody>\n",
       "</table>\n"
      ],
      "text/latex": [
       "A data.frame: 6 × 5\n",
       "\\begin{tabular}{r|lllll}\n",
       "  & Protein & Gene.name & Description & GOCC.name & Contaminant\\\\\n",
       "  & <chr> & <chr> & <chr> & <chr> & <chr>\\\\\n",
       "\\hline\n",
       "\t1 & A0AVT1 & UBA6                                                & Ubiquitin-like modifier-activating enzyme 6 OS=Homo sapiens OX=9606 GN=UBA6 PE=1 SV=1                               & cell part;cytoplasm;cytoplasmic part;cytosol;intracellular part                                                                                                                                                                                                                                                                                                                                                                            & -\\\\\n",
       "\t2 & A1L4H1 & SSC5D                                               & Soluble scavenger receptor cysteine-rich domain-containing protein SSC5D OS=Homo sapiens OX=9606 GN=SSC5D PE=1 SV=3 & cell part;cytoplasm;extracellular matrix;extracellular region part;extracellular space;intracellular;intracellular part;membrane                                                                                                                                                                                                                                                                                                           & -\\\\\n",
       "\t3 & A2I7N0 & TREMBL:A2I7N0;Q28922;Q3ZEJ6 (Bos taurus) SERPINA3-4 & TREMBL:A2I7N0;Q28922;Q3ZEJ6 (Bos taurus) SERPINA3-4                                                                 & NA                                                                                                                                                                                                                                                                                                                                                                                                                                         & +\\\\\n",
       "\t4 & A8K2U0 & A2ML1                                               & Alpha-2-macroglobulin-like protein 1 OS=Homo sapiens OX=9606 GN=A2ML1 PE=1 SV=3                                     & extracellular membrane-bounded organelle;extracellular organelle;extracellular region part;extracellular space;extracellular vesicular exosome;membrane-bounded organelle;membrane-bounded vesicle;organelle;vesicle                                                                                                                                                                                                                       & -\\\\\n",
       "\t5 & O00148 & DDX39A                                              & ATP-dependent RNA helicase DDX39A OS=Homo sapiens OX=9606 GN=DDX39A PE=1 SV=2                                       & cell part;cytoplasm;intracellular membrane-bounded organelle;intracellular non-membrane-bounded organelle;intracellular organelle;intracellular organelle part;intracellular part;macromolecular complex;membrane;membrane-bounded organelle;non-membrane-bounded organelle;nuclear part;nucleolus;nucleus;organelle;organelle part;ribonucleoprotein complex;spliceosomal complex                                                         & -\\\\\n",
       "\t6 & O00151 & PDLIM1                                              & PDZ and LIM domain protein 1 OS=Homo sapiens OX=9606 GN=PDLIM1 PE=1 SV=4                                            & adherens junction;anchoring junction;cell junction;cell part;cell-substrate adherens junction;cell-substrate junction;cytoplasm;cytoskeleton;focal adhesion;intracellular non-membrane-bounded organelle;intracellular organelle;intracellular organelle part;intracellular part;macromolecular complex;non-membrane-bounded organelle;nuclear part;nucleoplasm part;organelle;organelle part;protein complex;transcription factor complex & -\\\\\n",
       "\\end{tabular}\n"
      ],
      "text/markdown": [
       "\n",
       "A data.frame: 6 × 5\n",
       "\n",
       "| <!--/--> | Protein &lt;chr&gt; | Gene.name &lt;chr&gt; | Description &lt;chr&gt; | GOCC.name &lt;chr&gt; | Contaminant &lt;chr&gt; |\n",
       "|---|---|---|---|---|---|\n",
       "| 1 | A0AVT1 | UBA6                                                | Ubiquitin-like modifier-activating enzyme 6 OS=Homo sapiens OX=9606 GN=UBA6 PE=1 SV=1                               | cell part;cytoplasm;cytoplasmic part;cytosol;intracellular part                                                                                                                                                                                                                                                                                                                                                                            | - |\n",
       "| 2 | A1L4H1 | SSC5D                                               | Soluble scavenger receptor cysteine-rich domain-containing protein SSC5D OS=Homo sapiens OX=9606 GN=SSC5D PE=1 SV=3 | cell part;cytoplasm;extracellular matrix;extracellular region part;extracellular space;intracellular;intracellular part;membrane                                                                                                                                                                                                                                                                                                           | - |\n",
       "| 3 | A2I7N0 | TREMBL:A2I7N0;Q28922;Q3ZEJ6 (Bos taurus) SERPINA3-4 | TREMBL:A2I7N0;Q28922;Q3ZEJ6 (Bos taurus) SERPINA3-4                                                                 | NA                                                                                                                                                                                                                                                                                                                                                                                                                                         | + |\n",
       "| 4 | A8K2U0 | A2ML1                                               | Alpha-2-macroglobulin-like protein 1 OS=Homo sapiens OX=9606 GN=A2ML1 PE=1 SV=3                                     | extracellular membrane-bounded organelle;extracellular organelle;extracellular region part;extracellular space;extracellular vesicular exosome;membrane-bounded organelle;membrane-bounded vesicle;organelle;vesicle                                                                                                                                                                                                                       | - |\n",
       "| 5 | O00148 | DDX39A                                              | ATP-dependent RNA helicase DDX39A OS=Homo sapiens OX=9606 GN=DDX39A PE=1 SV=2                                       | cell part;cytoplasm;intracellular membrane-bounded organelle;intracellular non-membrane-bounded organelle;intracellular organelle;intracellular organelle part;intracellular part;macromolecular complex;membrane;membrane-bounded organelle;non-membrane-bounded organelle;nuclear part;nucleolus;nucleus;organelle;organelle part;ribonucleoprotein complex;spliceosomal complex                                                         | - |\n",
       "| 6 | O00151 | PDLIM1                                              | PDZ and LIM domain protein 1 OS=Homo sapiens OX=9606 GN=PDLIM1 PE=1 SV=4                                            | adherens junction;anchoring junction;cell junction;cell part;cell-substrate adherens junction;cell-substrate junction;cytoplasm;cytoskeleton;focal adhesion;intracellular non-membrane-bounded organelle;intracellular organelle;intracellular organelle part;intracellular part;macromolecular complex;non-membrane-bounded organelle;nuclear part;nucleoplasm part;organelle;organelle part;protein complex;transcription factor complex | - |\n",
       "\n"
      ],
      "text/plain": [
       "  Protein Gene.name                                          \n",
       "1 A0AVT1  UBA6                                               \n",
       "2 A1L4H1  SSC5D                                              \n",
       "3 A2I7N0  TREMBL:A2I7N0;Q28922;Q3ZEJ6 (Bos taurus) SERPINA3-4\n",
       "4 A8K2U0  A2ML1                                              \n",
       "5 O00148  DDX39A                                             \n",
       "6 O00151  PDLIM1                                             \n",
       "  Description                                                                                                        \n",
       "1 Ubiquitin-like modifier-activating enzyme 6 OS=Homo sapiens OX=9606 GN=UBA6 PE=1 SV=1                              \n",
       "2 Soluble scavenger receptor cysteine-rich domain-containing protein SSC5D OS=Homo sapiens OX=9606 GN=SSC5D PE=1 SV=3\n",
       "3 TREMBL:A2I7N0;Q28922;Q3ZEJ6 (Bos taurus) SERPINA3-4                                                                \n",
       "4 Alpha-2-macroglobulin-like protein 1 OS=Homo sapiens OX=9606 GN=A2ML1 PE=1 SV=3                                    \n",
       "5 ATP-dependent RNA helicase DDX39A OS=Homo sapiens OX=9606 GN=DDX39A PE=1 SV=2                                      \n",
       "6 PDZ and LIM domain protein 1 OS=Homo sapiens OX=9606 GN=PDLIM1 PE=1 SV=4                                           \n",
       "  GOCC.name                                                                                                                                                                                                                                                                                                                                                                                                                                 \n",
       "1 cell part;cytoplasm;cytoplasmic part;cytosol;intracellular part                                                                                                                                                                                                                                                                                                                                                                           \n",
       "2 cell part;cytoplasm;extracellular matrix;extracellular region part;extracellular space;intracellular;intracellular part;membrane                                                                                                                                                                                                                                                                                                          \n",
       "3 NA                                                                                                                                                                                                                                                                                                                                                                                                                                        \n",
       "4 extracellular membrane-bounded organelle;extracellular organelle;extracellular region part;extracellular space;extracellular vesicular exosome;membrane-bounded organelle;membrane-bounded vesicle;organelle;vesicle                                                                                                                                                                                                                      \n",
       "5 cell part;cytoplasm;intracellular membrane-bounded organelle;intracellular non-membrane-bounded organelle;intracellular organelle;intracellular organelle part;intracellular part;macromolecular complex;membrane;membrane-bounded organelle;non-membrane-bounded organelle;nuclear part;nucleolus;nucleus;organelle;organelle part;ribonucleoprotein complex;spliceosomal complex                                                        \n",
       "6 adherens junction;anchoring junction;cell junction;cell part;cell-substrate adherens junction;cell-substrate junction;cytoplasm;cytoskeleton;focal adhesion;intracellular non-membrane-bounded organelle;intracellular organelle;intracellular organelle part;intracellular part;macromolecular complex;non-membrane-bounded organelle;nuclear part;nucleoplasm part;organelle;organelle part;protein complex;transcription factor complex\n",
       "  Contaminant\n",
       "1 -          \n",
       "2 -          \n",
       "3 +          \n",
       "4 -          \n",
       "5 -          \n",
       "6 -          "
      ]
     },
     "metadata": {},
     "output_type": "display_data"
    }
   ],
   "source": [
    "head(proteomics_df)\n",
    "head(protein_info_df)"
   ]
  },
  {
   "cell_type": "code",
   "execution_count": 3,
   "id": "b609515d",
   "metadata": {},
   "outputs": [
    {
     "data": {
      "text/html": [
       "<table class=\"dataframe\">\n",
       "<caption>A data.frame: 6 × 7</caption>\n",
       "<thead>\n",
       "\t<tr><th></th><th scope=col>Set</th><th scope=col>Treatment</th><th scope=col>ID</th><th scope=col>Protein</th><th scope=col>Value</th><th scope=col>Treatment_Presence</th><th scope=col>log2Value</th></tr>\n",
       "\t<tr><th></th><th scope=col>&lt;chr&gt;</th><th scope=col>&lt;chr&gt;</th><th scope=col>&lt;chr&gt;</th><th scope=col>&lt;chr&gt;</th><th scope=col>&lt;dbl&gt;</th><th scope=col>&lt;chr&gt;</th><th scope=col>&lt;dbl&gt;</th></tr>\n",
       "</thead>\n",
       "<tbody>\n",
       "\t<tr><th scope=row>1</th><td>Set1</td><td>CoCulture</td><td>CoCulture_VehicleCT1</td><td>P02769</td><td>538898561926</td><td>Both</td><td>38.97122</td></tr>\n",
       "\t<tr><th scope=row>2</th><td>Set1</td><td>CoCulture</td><td>CoCulture_VehicleCT1</td><td>P02751</td><td>192832712254</td><td>Both</td><td>37.48856</td></tr>\n",
       "\t<tr><th scope=row>3</th><td>Set1</td><td>CoCulture</td><td>CoCulture_VehicleCT1</td><td>P12763</td><td>266866699995</td><td>Both</td><td>37.95733</td></tr>\n",
       "\t<tr><th scope=row>4</th><td>Set1</td><td>CoCulture</td><td>CoCulture_VehicleCT1</td><td>Q2UVX4</td><td> 58194157805</td><td>Both</td><td>35.76016</td></tr>\n",
       "\t<tr><th scope=row>5</th><td>Set1</td><td>CoCulture</td><td>CoCulture_VehicleCT1</td><td>P98160</td><td> 25911895708</td><td>Both</td><td>34.59290</td></tr>\n",
       "\t<tr><th scope=row>6</th><td>Set1</td><td>CoCulture</td><td>CoCulture_VehicleCT1</td><td>P12111</td><td> 13343334999</td><td>Both</td><td>33.63540</td></tr>\n",
       "</tbody>\n",
       "</table>\n"
      ],
      "text/latex": [
       "A data.frame: 6 × 7\n",
       "\\begin{tabular}{r|lllllll}\n",
       "  & Set & Treatment & ID & Protein & Value & Treatment\\_Presence & log2Value\\\\\n",
       "  & <chr> & <chr> & <chr> & <chr> & <dbl> & <chr> & <dbl>\\\\\n",
       "\\hline\n",
       "\t1 & Set1 & CoCulture & CoCulture\\_VehicleCT1 & P02769 & 538898561926 & Both & 38.97122\\\\\n",
       "\t2 & Set1 & CoCulture & CoCulture\\_VehicleCT1 & P02751 & 192832712254 & Both & 37.48856\\\\\n",
       "\t3 & Set1 & CoCulture & CoCulture\\_VehicleCT1 & P12763 & 266866699995 & Both & 37.95733\\\\\n",
       "\t4 & Set1 & CoCulture & CoCulture\\_VehicleCT1 & Q2UVX4 &  58194157805 & Both & 35.76016\\\\\n",
       "\t5 & Set1 & CoCulture & CoCulture\\_VehicleCT1 & P98160 &  25911895708 & Both & 34.59290\\\\\n",
       "\t6 & Set1 & CoCulture & CoCulture\\_VehicleCT1 & P12111 &  13343334999 & Both & 33.63540\\\\\n",
       "\\end{tabular}\n"
      ],
      "text/markdown": [
       "\n",
       "A data.frame: 6 × 7\n",
       "\n",
       "| <!--/--> | Set &lt;chr&gt; | Treatment &lt;chr&gt; | ID &lt;chr&gt; | Protein &lt;chr&gt; | Value &lt;dbl&gt; | Treatment_Presence &lt;chr&gt; | log2Value &lt;dbl&gt; |\n",
       "|---|---|---|---|---|---|---|---|\n",
       "| 1 | Set1 | CoCulture | CoCulture_VehicleCT1 | P02769 | 538898561926 | Both | 38.97122 |\n",
       "| 2 | Set1 | CoCulture | CoCulture_VehicleCT1 | P02751 | 192832712254 | Both | 37.48856 |\n",
       "| 3 | Set1 | CoCulture | CoCulture_VehicleCT1 | P12763 | 266866699995 | Both | 37.95733 |\n",
       "| 4 | Set1 | CoCulture | CoCulture_VehicleCT1 | Q2UVX4 |  58194157805 | Both | 35.76016 |\n",
       "| 5 | Set1 | CoCulture | CoCulture_VehicleCT1 | P98160 |  25911895708 | Both | 34.59290 |\n",
       "| 6 | Set1 | CoCulture | CoCulture_VehicleCT1 | P12111 |  13343334999 | Both | 33.63540 |\n",
       "\n"
      ],
      "text/plain": [
       "  Set  Treatment ID                   Protein Value        Treatment_Presence\n",
       "1 Set1 CoCulture CoCulture_VehicleCT1 P02769  538898561926 Both              \n",
       "2 Set1 CoCulture CoCulture_VehicleCT1 P02751  192832712254 Both              \n",
       "3 Set1 CoCulture CoCulture_VehicleCT1 P12763  266866699995 Both              \n",
       "4 Set1 CoCulture CoCulture_VehicleCT1 Q2UVX4   58194157805 Both              \n",
       "5 Set1 CoCulture CoCulture_VehicleCT1 P98160   25911895708 Both              \n",
       "6 Set1 CoCulture CoCulture_VehicleCT1 P12111   13343334999 Both              \n",
       "  log2Value\n",
       "1 38.97122 \n",
       "2 37.48856 \n",
       "3 37.95733 \n",
       "4 35.76016 \n",
       "5 34.59290 \n",
       "6 33.63540 "
      ]
     },
     "metadata": {},
     "output_type": "display_data"
    }
   ],
   "source": [
    "proteomics_df = proteomics_df %>%\n",
    "    # just want a column that specifies the treatment \n",
    "    separate(Treatment, c(\"Treatment\", NA), sep = \"_\") \n",
    "\n",
    "head(proteomics_df)"
   ]
  },
  {
   "cell_type": "code",
   "execution_count": 4,
   "id": "7ba8b6c7",
   "metadata": {},
   "outputs": [
    {
     "data": {
      "text/html": [
       "<table class=\"dataframe\">\n",
       "<caption>A tibble: 6 × 7</caption>\n",
       "<thead>\n",
       "\t<tr><th scope=col>Set</th><th scope=col>Treatment</th><th scope=col>ID</th><th scope=col>Protein</th><th scope=col>Value</th><th scope=col>Treatment_Presence</th><th scope=col>log2Value</th></tr>\n",
       "\t<tr><th scope=col>&lt;chr&gt;</th><th scope=col>&lt;chr&gt;</th><th scope=col>&lt;chr&gt;</th><th scope=col>&lt;chr&gt;</th><th scope=col>&lt;dbl&gt;</th><th scope=col>&lt;chr&gt;</th><th scope=col>&lt;dbl&gt;</th></tr>\n",
       "</thead>\n",
       "<tbody>\n",
       "\t<tr><td>Set1</td><td>CoCulture</td><td>CoCulture_VehicleCT1</td><td>P02769</td><td>538898561926</td><td>Both</td><td>38.97122</td></tr>\n",
       "\t<tr><td>Set1</td><td>CoCulture</td><td>CoCulture_VehicleCT1</td><td>P02751</td><td>192832712254</td><td>Both</td><td>37.48856</td></tr>\n",
       "\t<tr><td>Set1</td><td>CoCulture</td><td>CoCulture_VehicleCT1</td><td>P12763</td><td>266866699995</td><td>Both</td><td>37.95733</td></tr>\n",
       "\t<tr><td>Set1</td><td>CoCulture</td><td>CoCulture_VehicleCT1</td><td>Q2UVX4</td><td> 58194157805</td><td>Both</td><td>35.76016</td></tr>\n",
       "\t<tr><td>Set1</td><td>CoCulture</td><td>CoCulture_VehicleCT1</td><td>P98160</td><td> 25911895708</td><td>Both</td><td>34.59290</td></tr>\n",
       "\t<tr><td>Set1</td><td>CoCulture</td><td>CoCulture_VehicleCT1</td><td>P12111</td><td> 13343334999</td><td>Both</td><td>33.63540</td></tr>\n",
       "</tbody>\n",
       "</table>\n"
      ],
      "text/latex": [
       "A tibble: 6 × 7\n",
       "\\begin{tabular}{lllllll}\n",
       " Set & Treatment & ID & Protein & Value & Treatment\\_Presence & log2Value\\\\\n",
       " <chr> & <chr> & <chr> & <chr> & <dbl> & <chr> & <dbl>\\\\\n",
       "\\hline\n",
       "\t Set1 & CoCulture & CoCulture\\_VehicleCT1 & P02769 & 538898561926 & Both & 38.97122\\\\\n",
       "\t Set1 & CoCulture & CoCulture\\_VehicleCT1 & P02751 & 192832712254 & Both & 37.48856\\\\\n",
       "\t Set1 & CoCulture & CoCulture\\_VehicleCT1 & P12763 & 266866699995 & Both & 37.95733\\\\\n",
       "\t Set1 & CoCulture & CoCulture\\_VehicleCT1 & Q2UVX4 &  58194157805 & Both & 35.76016\\\\\n",
       "\t Set1 & CoCulture & CoCulture\\_VehicleCT1 & P98160 &  25911895708 & Both & 34.59290\\\\\n",
       "\t Set1 & CoCulture & CoCulture\\_VehicleCT1 & P12111 &  13343334999 & Both & 33.63540\\\\\n",
       "\\end{tabular}\n"
      ],
      "text/markdown": [
       "\n",
       "A tibble: 6 × 7\n",
       "\n",
       "| Set &lt;chr&gt; | Treatment &lt;chr&gt; | ID &lt;chr&gt; | Protein &lt;chr&gt; | Value &lt;dbl&gt; | Treatment_Presence &lt;chr&gt; | log2Value &lt;dbl&gt; |\n",
       "|---|---|---|---|---|---|---|\n",
       "| Set1 | CoCulture | CoCulture_VehicleCT1 | P02769 | 538898561926 | Both | 38.97122 |\n",
       "| Set1 | CoCulture | CoCulture_VehicleCT1 | P02751 | 192832712254 | Both | 37.48856 |\n",
       "| Set1 | CoCulture | CoCulture_VehicleCT1 | P12763 | 266866699995 | Both | 37.95733 |\n",
       "| Set1 | CoCulture | CoCulture_VehicleCT1 | Q2UVX4 |  58194157805 | Both | 35.76016 |\n",
       "| Set1 | CoCulture | CoCulture_VehicleCT1 | P98160 |  25911895708 | Both | 34.59290 |\n",
       "| Set1 | CoCulture | CoCulture_VehicleCT1 | P12111 |  13343334999 | Both | 33.63540 |\n",
       "\n"
      ],
      "text/plain": [
       "  Set  Treatment ID                   Protein Value        Treatment_Presence\n",
       "1 Set1 CoCulture CoCulture_VehicleCT1 P02769  538898561926 Both              \n",
       "2 Set1 CoCulture CoCulture_VehicleCT1 P02751  192832712254 Both              \n",
       "3 Set1 CoCulture CoCulture_VehicleCT1 P12763  266866699995 Both              \n",
       "4 Set1 CoCulture CoCulture_VehicleCT1 Q2UVX4   58194157805 Both              \n",
       "5 Set1 CoCulture CoCulture_VehicleCT1 P98160   25911895708 Both              \n",
       "6 Set1 CoCulture CoCulture_VehicleCT1 P12111   13343334999 Both              \n",
       "  log2Value\n",
       "1 38.97122 \n",
       "2 37.48856 \n",
       "3 37.95733 \n",
       "4 35.76016 \n",
       "5 34.59290 \n",
       "6 33.63540 "
      ]
     },
     "metadata": {},
     "output_type": "display_data"
    }
   ],
   "source": [
    "# splitting by Set\n",
    "proteomics_df_split = proteomics_df %>%\n",
    "    group_by(Set) %>%\n",
    "    group_split()\n",
    "\n",
    "set1_proteomics_df = proteomics_df_split[[1]]\n",
    "set2_proteomics_df = proteomics_df_split[[2]]\n",
    "\n",
    "head(set1_proteomics_df)"
   ]
  },
  {
   "cell_type": "markdown",
   "id": "e9be1db6",
   "metadata": {},
   "source": [
    "Running t tests to determine if there are statistically significant distribution differences in co-culture unexposed and tri-culture unexposed. "
   ]
  },
  {
   "cell_type": "code",
   "execution_count": 5,
   "id": "9b6930b4",
   "metadata": {},
   "outputs": [],
   "source": [
    "t_test_values = function(set1_df, set2_df){\n",
    "    # \"\"\"\n",
    "    # Running t tests after filtering for set, treatment, exposure, and protein using a loop. \n",
    "    # Ultimately using this test to compare proteins (coculture vs. triculture).\n",
    "\n",
    "    # :param: subsetted dataframe, empty dataframe\n",
    "    # :output: a dataframe containing the treatment, protein, u stat, p value, p adj\n",
    "\n",
    "    # \"\"\"\n",
    "    proteins = unique(set1_df$Protein)\n",
    "    \n",
    "    values_df = data.frame()\n",
    "    \n",
    "    # iterating through each  protein\n",
    "    for(i in 1:length(proteins)){\n",
    "            # coculture df\n",
    "            coculture_df = set1_df %>%\n",
    "                filter(Protein == proteins[i])\n",
    "\n",
    "            # triculture df\n",
    "            triculture_df = set2_df %>%\n",
    "                filter(Protein == proteins[i])\n",
    "\n",
    "            # t test\n",
    "            t_test = t.test(coculture_df$log2Value, triculture_df$log2Value)\n",
    "            \n",
    "            # calculating FC to get directionality\n",
    "            FC = log2(mean(triculture_df$Value)/mean(coculture_df$Value))\n",
    "\n",
    "            # contains smoking status compared, compartment, cytokine, u stat, and p value\n",
    "            values_vector = cbind(proteins[i], FC, t_test$statistic, t_test$p.value)\n",
    "            values_df = rbind(values_df, values_vector)\n",
    "    }\n",
    "\n",
    "    \n",
    "    # adding col names\n",
    "    colnames(values_df) = c(\"Protein\", \"log2FC\", \"Statistic\", \"P Value\")\n",
    "    \n",
    "    \n",
    "   # calculating padj values\n",
    "    values_df$`P Adj` = p.adjust(as.numeric(as.character(values_df$`P Value`)), method = \"fdr\")\n",
    "\n",
    "    \n",
    "    values_df$log2FC = as.numeric(values_df$log2FC) \n",
    "    values_df$Statistic = as.numeric(values_df$Statistic)\n",
    "    values_df$`P Value` = as.numeric(values_df$`P Value`) \n",
    "    \n",
    "    return(values_df)\n",
    "}"
   ]
  },
  {
   "cell_type": "code",
   "execution_count": 6,
   "id": "ed469849",
   "metadata": {},
   "outputs": [],
   "source": [
    "# calling fn\n",
    "t_test_df = t_test_values(set1_proteomics_df, set2_proteomics_df)"
   ]
  },
  {
   "cell_type": "code",
   "execution_count": 7,
   "id": "126ffaca",
   "metadata": {},
   "outputs": [
    {
     "name": "stderr",
     "output_type": "stream",
     "text": [
      "\u001b[1m\u001b[22mJoining, by = \"Protein\"\n",
      "\u001b[1m\u001b[22mJoining, by = \"Protein\"\n"
     ]
    },
    {
     "data": {
      "text/html": [
       "<table class=\"dataframe\">\n",
       "<caption>A data.frame: 6 × 8</caption>\n",
       "<thead>\n",
       "\t<tr><th></th><th scope=col>Protein</th><th scope=col>Gene.name</th><th scope=col>Contaminant</th><th scope=col>Treatment_Presence</th><th scope=col>log2FC</th><th scope=col>Statistic</th><th scope=col>P Value</th><th scope=col>P Adj</th></tr>\n",
       "\t<tr><th></th><th scope=col>&lt;chr&gt;</th><th scope=col>&lt;chr&gt;</th><th scope=col>&lt;chr&gt;</th><th scope=col>&lt;chr&gt;</th><th scope=col>&lt;dbl&gt;</th><th scope=col>&lt;dbl&gt;</th><th scope=col>&lt;dbl&gt;</th><th scope=col>&lt;dbl&gt;</th></tr>\n",
       "</thead>\n",
       "<tbody>\n",
       "\t<tr><th scope=row>1</th><td>P02769</td><td>SWISS-PROT:P02769 (Bos taurus) Bovine serum albumin precursor   </td><td>+</td><td>Both</td><td>-0.68187776</td><td> 6.5650003</td><td>7.964945e-05</td><td>8.196550e-04</td></tr>\n",
       "\t<tr><th scope=row>2</th><td>P02751</td><td>FN1                                                             </td><td>-</td><td>Both</td><td> 0.16166817</td><td>-0.7486083</td><td>4.713424e-01</td><td>5.054825e-01</td></tr>\n",
       "\t<tr><th scope=row>3</th><td>P12763</td><td>SWISS-PROT:P12763 (Bos taurus) Alpha-2-HS-glycoprotein precursor</td><td>+</td><td>Both</td><td>-0.79377006</td><td>11.3364956</td><td>1.149515e-06</td><td>4.169866e-05</td></tr>\n",
       "\t<tr><th scope=row>4</th><td>Q2UVX4</td><td>SWISS-PROT:Q2UVX4 (Bos taurus) Complement C3 precursor          </td><td>+</td><td>Both</td><td> 0.02791924</td><td>-0.2945614</td><td>7.747177e-01</td><td>7.955523e-01</td></tr>\n",
       "\t<tr><th scope=row>5</th><td>P98160</td><td>HSPG2                                                           </td><td>-</td><td>Both</td><td>-0.25431560</td><td> 0.9260638</td><td>3.783462e-01</td><td>4.133888e-01</td></tr>\n",
       "\t<tr><th scope=row>6</th><td>P12111</td><td>COL6A3                                                          </td><td>-</td><td>Both</td><td> 0.01175825</td><td> 0.1011767</td><td>9.215868e-01</td><td>9.292720e-01</td></tr>\n",
       "</tbody>\n",
       "</table>\n"
      ],
      "text/latex": [
       "A data.frame: 6 × 8\n",
       "\\begin{tabular}{r|llllllll}\n",
       "  & Protein & Gene.name & Contaminant & Treatment\\_Presence & log2FC & Statistic & P Value & P Adj\\\\\n",
       "  & <chr> & <chr> & <chr> & <chr> & <dbl> & <dbl> & <dbl> & <dbl>\\\\\n",
       "\\hline\n",
       "\t1 & P02769 & SWISS-PROT:P02769 (Bos taurus) Bovine serum albumin precursor    & + & Both & -0.68187776 &  6.5650003 & 7.964945e-05 & 8.196550e-04\\\\\n",
       "\t2 & P02751 & FN1                                                              & - & Both &  0.16166817 & -0.7486083 & 4.713424e-01 & 5.054825e-01\\\\\n",
       "\t3 & P12763 & SWISS-PROT:P12763 (Bos taurus) Alpha-2-HS-glycoprotein precursor & + & Both & -0.79377006 & 11.3364956 & 1.149515e-06 & 4.169866e-05\\\\\n",
       "\t4 & Q2UVX4 & SWISS-PROT:Q2UVX4 (Bos taurus) Complement C3 precursor           & + & Both &  0.02791924 & -0.2945614 & 7.747177e-01 & 7.955523e-01\\\\\n",
       "\t5 & P98160 & HSPG2                                                            & - & Both & -0.25431560 &  0.9260638 & 3.783462e-01 & 4.133888e-01\\\\\n",
       "\t6 & P12111 & COL6A3                                                           & - & Both &  0.01175825 &  0.1011767 & 9.215868e-01 & 9.292720e-01\\\\\n",
       "\\end{tabular}\n"
      ],
      "text/markdown": [
       "\n",
       "A data.frame: 6 × 8\n",
       "\n",
       "| <!--/--> | Protein &lt;chr&gt; | Gene.name &lt;chr&gt; | Contaminant &lt;chr&gt; | Treatment_Presence &lt;chr&gt; | log2FC &lt;dbl&gt; | Statistic &lt;dbl&gt; | P Value &lt;dbl&gt; | P Adj &lt;dbl&gt; |\n",
       "|---|---|---|---|---|---|---|---|---|\n",
       "| 1 | P02769 | SWISS-PROT:P02769 (Bos taurus) Bovine serum albumin precursor    | + | Both | -0.68187776 |  6.5650003 | 7.964945e-05 | 8.196550e-04 |\n",
       "| 2 | P02751 | FN1                                                              | - | Both |  0.16166817 | -0.7486083 | 4.713424e-01 | 5.054825e-01 |\n",
       "| 3 | P12763 | SWISS-PROT:P12763 (Bos taurus) Alpha-2-HS-glycoprotein precursor | + | Both | -0.79377006 | 11.3364956 | 1.149515e-06 | 4.169866e-05 |\n",
       "| 4 | Q2UVX4 | SWISS-PROT:Q2UVX4 (Bos taurus) Complement C3 precursor           | + | Both |  0.02791924 | -0.2945614 | 7.747177e-01 | 7.955523e-01 |\n",
       "| 5 | P98160 | HSPG2                                                            | - | Both | -0.25431560 |  0.9260638 | 3.783462e-01 | 4.133888e-01 |\n",
       "| 6 | P12111 | COL6A3                                                           | - | Both |  0.01175825 |  0.1011767 | 9.215868e-01 | 9.292720e-01 |\n",
       "\n"
      ],
      "text/plain": [
       "  Protein Gene.name                                                       \n",
       "1 P02769  SWISS-PROT:P02769 (Bos taurus) Bovine serum albumin precursor   \n",
       "2 P02751  FN1                                                             \n",
       "3 P12763  SWISS-PROT:P12763 (Bos taurus) Alpha-2-HS-glycoprotein precursor\n",
       "4 Q2UVX4  SWISS-PROT:Q2UVX4 (Bos taurus) Complement C3 precursor          \n",
       "5 P98160  HSPG2                                                           \n",
       "6 P12111  COL6A3                                                          \n",
       "  Contaminant Treatment_Presence log2FC      Statistic  P Value     \n",
       "1 +           Both               -0.68187776  6.5650003 7.964945e-05\n",
       "2 -           Both                0.16166817 -0.7486083 4.713424e-01\n",
       "3 +           Both               -0.79377006 11.3364956 1.149515e-06\n",
       "4 +           Both                0.02791924 -0.2945614 7.747177e-01\n",
       "5 -           Both               -0.25431560  0.9260638 3.783462e-01\n",
       "6 -           Both                0.01175825  0.1011767 9.215868e-01\n",
       "  P Adj       \n",
       "1 8.196550e-04\n",
       "2 5.054825e-01\n",
       "3 4.169866e-05\n",
       "4 7.955523e-01\n",
       "5 4.133888e-01\n",
       "6 9.292720e-01"
      ]
     },
     "metadata": {},
     "output_type": "display_data"
    }
   ],
   "source": [
    "# adding in gene names and filtering contaminants\n",
    "final_t_test_df = left_join(t_test_df, protein_info_df %>%\n",
    "                                select(c(\"Protein\", \"Gene.name\", \"Contaminant\"))) #%>%\n",
    "    # this contaminant filter takes the number of proteins from 1451 to 1336\n",
    "#      filter(Contaminant == \"-\") %>%\n",
    "#      select(-Contaminant)\n",
    "final_t_test_df = inner_join(final_t_test_df, proteomics_df %>%\n",
    "                                 select(Treatment_Presence, Protein) %>%\n",
    "                            unique())\n",
    "final_t_test_df = final_t_test_df[, c(1,6,7,8,2,3,4,5)]\n",
    "head(final_t_test_df)"
   ]
  },
  {
   "cell_type": "code",
   "execution_count": 8,
   "id": "304c9cd6",
   "metadata": {},
   "outputs": [],
   "source": [
    "# exporting t test results for volcano plot\n",
    "write.csv(final_t_test_df, paste0(Output,\"/\", cur_date, \"_Statistical_Results_Only.csv\"), row.names = FALSE)"
   ]
  },
  {
   "cell_type": "code",
   "execution_count": 9,
   "id": "dc459342",
   "metadata": {},
   "outputs": [
    {
     "data": {
      "text/html": [
       "<table class=\"dataframe\">\n",
       "<caption>A tibble: 6 × 2</caption>\n",
       "<thead>\n",
       "\t<tr><th scope=col>Protein</th><th scope=col>Avg_Abundance</th></tr>\n",
       "\t<tr><th scope=col>&lt;chr&gt;</th><th scope=col>&lt;dbl&gt;</th></tr>\n",
       "</thead>\n",
       "<tbody>\n",
       "\t<tr><td>A0AVT1                    </td><td>23.43233</td></tr>\n",
       "\t<tr><td>A1L4H1                    </td><td>26.02273</td></tr>\n",
       "\t<tr><td>A2I7N0                    </td><td>25.56098</td></tr>\n",
       "\t<tr><td>A8K2U0                    </td><td>13.42852</td></tr>\n",
       "\t<tr><td>ENSEMBL:ENSBTAP00000006074</td><td>29.07431</td></tr>\n",
       "\t<tr><td>ENSEMBL:ENSBTAP00000007350</td><td>32.53581</td></tr>\n",
       "</tbody>\n",
       "</table>\n"
      ],
      "text/latex": [
       "A tibble: 6 × 2\n",
       "\\begin{tabular}{ll}\n",
       " Protein & Avg\\_Abundance\\\\\n",
       " <chr> & <dbl>\\\\\n",
       "\\hline\n",
       "\t A0AVT1                     & 23.43233\\\\\n",
       "\t A1L4H1                     & 26.02273\\\\\n",
       "\t A2I7N0                     & 25.56098\\\\\n",
       "\t A8K2U0                     & 13.42852\\\\\n",
       "\t ENSEMBL:ENSBTAP00000006074 & 29.07431\\\\\n",
       "\t ENSEMBL:ENSBTAP00000007350 & 32.53581\\\\\n",
       "\\end{tabular}\n"
      ],
      "text/markdown": [
       "\n",
       "A tibble: 6 × 2\n",
       "\n",
       "| Protein &lt;chr&gt; | Avg_Abundance &lt;dbl&gt; |\n",
       "|---|---|\n",
       "| A0AVT1                     | 23.43233 |\n",
       "| A1L4H1                     | 26.02273 |\n",
       "| A2I7N0                     | 25.56098 |\n",
       "| A8K2U0                     | 13.42852 |\n",
       "| ENSEMBL:ENSBTAP00000006074 | 29.07431 |\n",
       "| ENSEMBL:ENSBTAP00000007350 | 32.53581 |\n",
       "\n"
      ],
      "text/plain": [
       "  Protein                    Avg_Abundance\n",
       "1 A0AVT1                     23.43233     \n",
       "2 A1L4H1                     26.02273     \n",
       "3 A2I7N0                     25.56098     \n",
       "4 A8K2U0                     13.42852     \n",
       "5 ENSEMBL:ENSBTAP00000006074 29.07431     \n",
       "6 ENSEMBL:ENSBTAP00000007350 32.53581     "
      ]
     },
     "metadata": {},
     "output_type": "display_data"
    },
    {
     "data": {
      "text/html": [
       "<table class=\"dataframe\">\n",
       "<caption>A grouped_df: 6 × 4</caption>\n",
       "<thead>\n",
       "\t<tr><th scope=col>Treatment</th><th scope=col>Protein</th><th scope=col>log2Value</th><th scope=col>Avg_Abundance_stratified</th></tr>\n",
       "\t<tr><th scope=col>&lt;chr&gt;</th><th scope=col>&lt;chr&gt;</th><th scope=col>&lt;dbl&gt;</th><th scope=col>&lt;dbl&gt;</th></tr>\n",
       "</thead>\n",
       "<tbody>\n",
       "\t<tr><td>CoCulture</td><td>P02769</td><td>38.97122</td><td>38.76178</td></tr>\n",
       "\t<tr><td>CoCulture</td><td>P02751</td><td>37.48856</td><td>37.73433</td></tr>\n",
       "\t<tr><td>CoCulture</td><td>P12763</td><td>37.95733</td><td>37.92024</td></tr>\n",
       "\t<tr><td>CoCulture</td><td>Q2UVX4</td><td>35.76016</td><td>35.38781</td></tr>\n",
       "\t<tr><td>CoCulture</td><td>P98160</td><td>34.59290</td><td>34.43105</td></tr>\n",
       "\t<tr><td>CoCulture</td><td>P12111</td><td>33.63540</td><td>34.01633</td></tr>\n",
       "</tbody>\n",
       "</table>\n"
      ],
      "text/latex": [
       "A grouped\\_df: 6 × 4\n",
       "\\begin{tabular}{llll}\n",
       " Treatment & Protein & log2Value & Avg\\_Abundance\\_stratified\\\\\n",
       " <chr> & <chr> & <dbl> & <dbl>\\\\\n",
       "\\hline\n",
       "\t CoCulture & P02769 & 38.97122 & 38.76178\\\\\n",
       "\t CoCulture & P02751 & 37.48856 & 37.73433\\\\\n",
       "\t CoCulture & P12763 & 37.95733 & 37.92024\\\\\n",
       "\t CoCulture & Q2UVX4 & 35.76016 & 35.38781\\\\\n",
       "\t CoCulture & P98160 & 34.59290 & 34.43105\\\\\n",
       "\t CoCulture & P12111 & 33.63540 & 34.01633\\\\\n",
       "\\end{tabular}\n"
      ],
      "text/markdown": [
       "\n",
       "A grouped_df: 6 × 4\n",
       "\n",
       "| Treatment &lt;chr&gt; | Protein &lt;chr&gt; | log2Value &lt;dbl&gt; | Avg_Abundance_stratified &lt;dbl&gt; |\n",
       "|---|---|---|---|\n",
       "| CoCulture | P02769 | 38.97122 | 38.76178 |\n",
       "| CoCulture | P02751 | 37.48856 | 37.73433 |\n",
       "| CoCulture | P12763 | 37.95733 | 37.92024 |\n",
       "| CoCulture | Q2UVX4 | 35.76016 | 35.38781 |\n",
       "| CoCulture | P98160 | 34.59290 | 34.43105 |\n",
       "| CoCulture | P12111 | 33.63540 | 34.01633 |\n",
       "\n"
      ],
      "text/plain": [
       "  Treatment Protein log2Value Avg_Abundance_stratified\n",
       "1 CoCulture P02769  38.97122  38.76178                \n",
       "2 CoCulture P02751  37.48856  37.73433                \n",
       "3 CoCulture P12763  37.95733  37.92024                \n",
       "4 CoCulture Q2UVX4  35.76016  35.38781                \n",
       "5 CoCulture P98160  34.59290  34.43105                \n",
       "6 CoCulture P12111  33.63540  34.01633                "
      ]
     },
     "metadata": {},
     "output_type": "display_data"
    }
   ],
   "source": [
    "# calculating overall avg. abundance and within smoking groups\n",
    "avg_abundance_df = proteomics_df %>%\n",
    "    group_by(Protein) %>%\n",
    "    summarize(Avg_Abundance = mean(log2Value))\n",
    "\n",
    "# stratified by treatment \n",
    "avg_abundance_df_stratified = proteomics_df %>%\n",
    "    group_by(Treatment, Protein) %>%\n",
    "    mutate(Avg_Abundance_stratified = mean(log2Value)) %>%\n",
    "    select(-c(\"Set\", \"ID\", \"Value\", \"Treatment_Presence\"))\n",
    "\n",
    "head(avg_abundance_df)\n",
    "head(avg_abundance_df_stratified)"
   ]
  },
  {
   "cell_type": "code",
   "execution_count": 10,
   "id": "efdc892f",
   "metadata": {},
   "outputs": [
    {
     "data": {
      "text/html": [
       "<table class=\"dataframe\">\n",
       "<caption>A tibble: 6 × 2</caption>\n",
       "<thead>\n",
       "\t<tr><th scope=col>Protein</th><th scope=col>Coculture_Vehicle.Avg_Abundance</th></tr>\n",
       "\t<tr><th scope=col>&lt;chr&gt;</th><th scope=col>&lt;dbl&gt;</th></tr>\n",
       "</thead>\n",
       "<tbody>\n",
       "\t<tr><td>P02769</td><td>38.76178</td></tr>\n",
       "\t<tr><td>P02751</td><td>37.73433</td></tr>\n",
       "\t<tr><td>P12763</td><td>37.92024</td></tr>\n",
       "\t<tr><td>Q2UVX4</td><td>35.38781</td></tr>\n",
       "\t<tr><td>P98160</td><td>34.43105</td></tr>\n",
       "\t<tr><td>P12111</td><td>34.01633</td></tr>\n",
       "</tbody>\n",
       "</table>\n"
      ],
      "text/latex": [
       "A tibble: 6 × 2\n",
       "\\begin{tabular}{ll}\n",
       " Protein & Coculture\\_Vehicle.Avg\\_Abundance\\\\\n",
       " <chr> & <dbl>\\\\\n",
       "\\hline\n",
       "\t P02769 & 38.76178\\\\\n",
       "\t P02751 & 37.73433\\\\\n",
       "\t P12763 & 37.92024\\\\\n",
       "\t Q2UVX4 & 35.38781\\\\\n",
       "\t P98160 & 34.43105\\\\\n",
       "\t P12111 & 34.01633\\\\\n",
       "\\end{tabular}\n"
      ],
      "text/markdown": [
       "\n",
       "A tibble: 6 × 2\n",
       "\n",
       "| Protein &lt;chr&gt; | Coculture_Vehicle.Avg_Abundance &lt;dbl&gt; |\n",
       "|---|---|\n",
       "| P02769 | 38.76178 |\n",
       "| P02751 | 37.73433 |\n",
       "| P12763 | 37.92024 |\n",
       "| Q2UVX4 | 35.38781 |\n",
       "| P98160 | 34.43105 |\n",
       "| P12111 | 34.01633 |\n",
       "\n"
      ],
      "text/plain": [
       "  Protein Coculture_Vehicle.Avg_Abundance\n",
       "1 P02769  38.76178                       \n",
       "2 P02751  37.73433                       \n",
       "3 P12763  37.92024                       \n",
       "4 Q2UVX4  35.38781                       \n",
       "5 P98160  34.43105                       \n",
       "6 P12111  34.01633                       "
      ]
     },
     "metadata": {},
     "output_type": "display_data"
    }
   ],
   "source": [
    "# changing the stratified dfs to making combining easier\n",
    "# first splitting dfs\n",
    "split_avg_abundance_stratified = avg_abundance_df_stratified %>%\n",
    "    group_by(Treatment) %>%\n",
    "    group_split()\n",
    "\n",
    "# adding treatment to the title\n",
    "coculture_vehicle_avg_abundance = split_avg_abundance_stratified[[1]] %>%\n",
    "    select(-c(\"Treatment\", \"log2Value\")) %>%\n",
    "    rename(Coculture_Vehicle.Avg_Abundance = Avg_Abundance_stratified)\n",
    "triculture_vehicle_avg_abundance = split_avg_abundance_stratified[[2]] %>%\n",
    "    select(-c(\"Treatment\", \"log2Value\")) %>%\n",
    "    rename(Triculture_Vehicle.Avg_Abundance = Avg_Abundance_stratified)\n",
    "\n",
    "head(coculture_vehicle_avg_abundance)"
   ]
  },
  {
   "cell_type": "code",
   "execution_count": 11,
   "id": "54169c00",
   "metadata": {},
   "outputs": [
    {
     "name": "stderr",
     "output_type": "stream",
     "text": [
      "\u001b[1m\u001b[22mJoining, by = \"Protein\"\n",
      "\u001b[1m\u001b[22mJoining, by = \"Protein\"\n"
     ]
    },
    {
     "data": {
      "text/html": [
       "<table class=\"dataframe\">\n",
       "<caption>A tibble: 6 × 4</caption>\n",
       "<thead>\n",
       "\t<tr><th scope=col>Protein</th><th scope=col>Avg_Abundance</th><th scope=col>Coculture_Vehicle.Avg_Abundance</th><th scope=col>Triculture_Vehicle.Avg_Abundance</th></tr>\n",
       "\t<tr><th scope=col>&lt;chr&gt;</th><th scope=col>&lt;dbl&gt;</th><th scope=col>&lt;dbl&gt;</th><th scope=col>&lt;dbl&gt;</th></tr>\n",
       "</thead>\n",
       "<tbody>\n",
       "\t<tr><td>A0AVT1                    </td><td>23.43233</td><td>23.24957</td><td>23.61509</td></tr>\n",
       "\t<tr><td>A1L4H1                    </td><td>26.02273</td><td>24.21714</td><td>27.82831</td></tr>\n",
       "\t<tr><td>A2I7N0                    </td><td>25.56098</td><td>25.68058</td><td>25.44138</td></tr>\n",
       "\t<tr><td>A8K2U0                    </td><td>13.42852</td><td>11.37168</td><td>15.48536</td></tr>\n",
       "\t<tr><td>ENSEMBL:ENSBTAP00000006074</td><td>29.07431</td><td>29.43404</td><td>28.71457</td></tr>\n",
       "\t<tr><td>ENSEMBL:ENSBTAP00000007350</td><td>32.53581</td><td>32.59401</td><td>32.47762</td></tr>\n",
       "</tbody>\n",
       "</table>\n"
      ],
      "text/latex": [
       "A tibble: 6 × 4\n",
       "\\begin{tabular}{llll}\n",
       " Protein & Avg\\_Abundance & Coculture\\_Vehicle.Avg\\_Abundance & Triculture\\_Vehicle.Avg\\_Abundance\\\\\n",
       " <chr> & <dbl> & <dbl> & <dbl>\\\\\n",
       "\\hline\n",
       "\t A0AVT1                     & 23.43233 & 23.24957 & 23.61509\\\\\n",
       "\t A1L4H1                     & 26.02273 & 24.21714 & 27.82831\\\\\n",
       "\t A2I7N0                     & 25.56098 & 25.68058 & 25.44138\\\\\n",
       "\t A8K2U0                     & 13.42852 & 11.37168 & 15.48536\\\\\n",
       "\t ENSEMBL:ENSBTAP00000006074 & 29.07431 & 29.43404 & 28.71457\\\\\n",
       "\t ENSEMBL:ENSBTAP00000007350 & 32.53581 & 32.59401 & 32.47762\\\\\n",
       "\\end{tabular}\n"
      ],
      "text/markdown": [
       "\n",
       "A tibble: 6 × 4\n",
       "\n",
       "| Protein &lt;chr&gt; | Avg_Abundance &lt;dbl&gt; | Coculture_Vehicle.Avg_Abundance &lt;dbl&gt; | Triculture_Vehicle.Avg_Abundance &lt;dbl&gt; |\n",
       "|---|---|---|---|\n",
       "| A0AVT1                     | 23.43233 | 23.24957 | 23.61509 |\n",
       "| A1L4H1                     | 26.02273 | 24.21714 | 27.82831 |\n",
       "| A2I7N0                     | 25.56098 | 25.68058 | 25.44138 |\n",
       "| A8K2U0                     | 13.42852 | 11.37168 | 15.48536 |\n",
       "| ENSEMBL:ENSBTAP00000006074 | 29.07431 | 29.43404 | 28.71457 |\n",
       "| ENSEMBL:ENSBTAP00000007350 | 32.53581 | 32.59401 | 32.47762 |\n",
       "\n"
      ],
      "text/plain": [
       "  Protein                    Avg_Abundance Coculture_Vehicle.Avg_Abundance\n",
       "1 A0AVT1                     23.43233      23.24957                       \n",
       "2 A1L4H1                     26.02273      24.21714                       \n",
       "3 A2I7N0                     25.56098      25.68058                       \n",
       "4 A8K2U0                     13.42852      11.37168                       \n",
       "5 ENSEMBL:ENSBTAP00000006074 29.07431      29.43404                       \n",
       "6 ENSEMBL:ENSBTAP00000007350 32.53581      32.59401                       \n",
       "  Triculture_Vehicle.Avg_Abundance\n",
       "1 23.61509                        \n",
       "2 27.82831                        \n",
       "3 25.44138                        \n",
       "4 15.48536                        \n",
       "5 28.71457                        \n",
       "6 32.47762                        "
      ]
     },
     "metadata": {},
     "output_type": "display_data"
    }
   ],
   "source": [
    "# combining into 1 abundance df\n",
    "stratified_abundance_df = inner_join(coculture_vehicle_avg_abundance, triculture_vehicle_avg_abundance) %>% unique()\n",
    "abundance_df = full_join(avg_abundance_df, stratified_abundance_df)\n",
    "\n",
    "head(abundance_df)"
   ]
  },
  {
   "cell_type": "code",
   "execution_count": 12,
   "id": "838aa80d",
   "metadata": {},
   "outputs": [
    {
     "name": "stderr",
     "output_type": "stream",
     "text": [
      "\u001b[1m\u001b[22mJoining, by = \"Protein\"\n",
      "\u001b[1m\u001b[22mJoining, by = c(\"Protein\", \"Gene.name\", \"Contaminant\")\n"
     ]
    },
    {
     "data": {
      "text/html": [
       "<table class=\"dataframe\">\n",
       "<caption>A data.frame: 6 × 13</caption>\n",
       "<thead>\n",
       "\t<tr><th></th><th scope=col>Protein</th><th scope=col>Gene.name</th><th scope=col>Description</th><th scope=col>GOCC.name</th><th scope=col>Contaminant</th><th scope=col>Treatment_Presence</th><th scope=col>log2FC</th><th scope=col>Statistic</th><th scope=col>P Value</th><th scope=col>P Adj</th><th scope=col>Avg_Abundance</th><th scope=col>Coculture_Vehicle.Avg_Abundance</th><th scope=col>Triculture_Vehicle.Avg_Abundance</th></tr>\n",
       "\t<tr><th></th><th scope=col>&lt;chr&gt;</th><th scope=col>&lt;chr&gt;</th><th scope=col>&lt;chr&gt;</th><th scope=col>&lt;chr&gt;</th><th scope=col>&lt;chr&gt;</th><th scope=col>&lt;chr&gt;</th><th scope=col>&lt;dbl&gt;</th><th scope=col>&lt;dbl&gt;</th><th scope=col>&lt;dbl&gt;</th><th scope=col>&lt;dbl&gt;</th><th scope=col>&lt;dbl&gt;</th><th scope=col>&lt;dbl&gt;</th><th scope=col>&lt;dbl&gt;</th></tr>\n",
       "</thead>\n",
       "<tbody>\n",
       "\t<tr><th scope=row>1</th><td>P02769</td><td>SWISS-PROT:P02769 (Bos taurus) Bovine serum albumin precursor   </td><td>SWISS-PROT:P02769 (Bos taurus) Bovine serum albumin precursor                                                  </td><td>NA                                                                                                                                                                                                                                                                                                                                                                                                                                                                                                                                                                                                                                                                                                                                                                                                                                          </td><td>+</td><td>Both</td><td>-0.68187776</td><td> 6.5650003</td><td>7.964945e-05</td><td>8.196550e-04</td><td>38.42279</td><td>38.76178</td><td>38.08381</td></tr>\n",
       "\t<tr><th scope=row>2</th><td>P02751</td><td>FN1                                                             </td><td>Fibronectin OS=Homo sapiens OX=9606 GN=FN1 PE=1 SV=5                                                           </td><td>apical plasma membrane;basal lamina;blood microparticle;cell part;cytoplasmic membrane-bounded vesicle lumen;cytoplasmic part;cytoplasmic vesicle part;endoplasmic reticulum-Golgi intermediate compartment;extracellular matrix;extracellular matrix part;extracellular membrane-bounded organelle;extracellular organelle;extracellular region;extracellular region part;extracellular space;extracellular vesicular exosome;fibrinogen complex;intracellular membrane-bounded organelle;intracellular organelle;intracellular organelle part;intracellular part;macromolecular complex;membrane part;membrane-bounded organelle;membrane-bounded vesicle;membrane-enclosed lumen;organelle;organelle lumen;organelle part;plasma membrane part;platelet alpha granule lumen;protein complex;secretory granule lumen;vesicle;vesicle lumen</td><td>-</td><td>Both</td><td> 0.16166817</td><td>-0.7486083</td><td>4.713424e-01</td><td>5.054825e-01</td><td>37.81678</td><td>37.73433</td><td>37.89923</td></tr>\n",
       "\t<tr><th scope=row>3</th><td>P12763</td><td>SWISS-PROT:P12763 (Bos taurus) Alpha-2-HS-glycoprotein precursor</td><td>SWISS-PROT:P12763 (Bos taurus) Alpha-2-HS-glycoprotein precursor                                               </td><td>NA                                                                                                                                                                                                                                                                                                                                                                                                                                                                                                                                                                                                                                                                                                                                                                                                                                          </td><td>+</td><td>Both</td><td>-0.79377006</td><td>11.3364956</td><td>1.149515e-06</td><td>4.169866e-05</td><td>37.52200</td><td>37.92024</td><td>37.12376</td></tr>\n",
       "\t<tr><th scope=row>4</th><td>Q2UVX4</td><td>SWISS-PROT:Q2UVX4 (Bos taurus) Complement C3 precursor          </td><td>SWISS-PROT:Q2UVX4 (Bos taurus) Complement C3 precursor                                                         </td><td>NA                                                                                                                                                                                                                                                                                                                                                                                                                                                                                                                                                                                                                                                                                                                                                                                                                                          </td><td>+</td><td>Both</td><td> 0.02791924</td><td>-0.2945614</td><td>7.747177e-01</td><td>7.955523e-01</td><td>35.40486</td><td>35.38781</td><td>35.42192</td></tr>\n",
       "\t<tr><th scope=row>5</th><td>P98160</td><td>HSPG2                                                           </td><td>Basement membrane-specific heparan sulfate proteoglycan core protein OS=Homo sapiens OX=9606 GN=HSPG2 PE=1 SV=4</td><td>adherens junction;anchoring junction;basal lamina;cell junction;cell part;cell-substrate adherens junction;cell-substrate junction;cytoplasmic part;extracellular matrix;extracellular matrix part;extracellular membrane-bounded organelle;extracellular organelle;extracellular region;extracellular region part;extracellular space;extracellular vesicular exosome;focal adhesion;Golgi apparatus part;Golgi lumen;intracellular organelle lumen;intracellular organelle part;intracellular part;lysosomal lumen;membrane;membrane-bounded organelle;membrane-bounded vesicle;membrane-enclosed lumen;organelle;organelle lumen;organelle part;plasma membrane;vacuolar lumen;vacuolar part;vesicle                                                                                                                                     </td><td>-</td><td>Both</td><td>-0.25431560</td><td> 0.9260638</td><td>3.783462e-01</td><td>4.133888e-01</td><td>34.31711</td><td>34.43105</td><td>34.20317</td></tr>\n",
       "\t<tr><th scope=row>6</th><td>P12111</td><td>COL6A3                                                          </td><td>Collagen alpha-3(VI) chain OS=Homo sapiens OX=9606 GN=COL6A3 PE=1 SV=5                                         </td><td>anchoring collagen;cell part;collagen;collagen type VI;cytoplasmic part;endoplasmic reticulum lumen;endoplasmic reticulum part;extracellular matrix;extracellular matrix part;extracellular membrane-bounded organelle;extracellular organelle;extracellular region;extracellular region part;extracellular space;extracellular vesicular exosome;intracellular organelle lumen;intracellular organelle part;intracellular part;membrane;membrane-bounded organelle;membrane-bounded vesicle;membrane-enclosed lumen;organelle;organelle lumen;organelle part;plasma membrane;proteinaceous extracellular matrix;sarcolemma;vesicle                                                                                                                                                                                                         </td><td>-</td><td>Both</td><td> 0.01175825</td><td> 0.1011767</td><td>9.215868e-01</td><td>9.292720e-01</td><td>34.00055</td><td>34.01633</td><td>33.98476</td></tr>\n",
       "</tbody>\n",
       "</table>\n"
      ],
      "text/latex": [
       "A data.frame: 6 × 13\n",
       "\\begin{tabular}{r|lllllllllllll}\n",
       "  & Protein & Gene.name & Description & GOCC.name & Contaminant & Treatment\\_Presence & log2FC & Statistic & P Value & P Adj & Avg\\_Abundance & Coculture\\_Vehicle.Avg\\_Abundance & Triculture\\_Vehicle.Avg\\_Abundance\\\\\n",
       "  & <chr> & <chr> & <chr> & <chr> & <chr> & <chr> & <dbl> & <dbl> & <dbl> & <dbl> & <dbl> & <dbl> & <dbl>\\\\\n",
       "\\hline\n",
       "\t1 & P02769 & SWISS-PROT:P02769 (Bos taurus) Bovine serum albumin precursor    & SWISS-PROT:P02769 (Bos taurus) Bovine serum albumin precursor                                                   & NA                                                                                                                                                                                                                                                                                                                                                                                                                                                                                                                                                                                                                                                                                                                                                                                                                                           & + & Both & -0.68187776 &  6.5650003 & 7.964945e-05 & 8.196550e-04 & 38.42279 & 38.76178 & 38.08381\\\\\n",
       "\t2 & P02751 & FN1                                                              & Fibronectin OS=Homo sapiens OX=9606 GN=FN1 PE=1 SV=5                                                            & apical plasma membrane;basal lamina;blood microparticle;cell part;cytoplasmic membrane-bounded vesicle lumen;cytoplasmic part;cytoplasmic vesicle part;endoplasmic reticulum-Golgi intermediate compartment;extracellular matrix;extracellular matrix part;extracellular membrane-bounded organelle;extracellular organelle;extracellular region;extracellular region part;extracellular space;extracellular vesicular exosome;fibrinogen complex;intracellular membrane-bounded organelle;intracellular organelle;intracellular organelle part;intracellular part;macromolecular complex;membrane part;membrane-bounded organelle;membrane-bounded vesicle;membrane-enclosed lumen;organelle;organelle lumen;organelle part;plasma membrane part;platelet alpha granule lumen;protein complex;secretory granule lumen;vesicle;vesicle lumen & - & Both &  0.16166817 & -0.7486083 & 4.713424e-01 & 5.054825e-01 & 37.81678 & 37.73433 & 37.89923\\\\\n",
       "\t3 & P12763 & SWISS-PROT:P12763 (Bos taurus) Alpha-2-HS-glycoprotein precursor & SWISS-PROT:P12763 (Bos taurus) Alpha-2-HS-glycoprotein precursor                                                & NA                                                                                                                                                                                                                                                                                                                                                                                                                                                                                                                                                                                                                                                                                                                                                                                                                                           & + & Both & -0.79377006 & 11.3364956 & 1.149515e-06 & 4.169866e-05 & 37.52200 & 37.92024 & 37.12376\\\\\n",
       "\t4 & Q2UVX4 & SWISS-PROT:Q2UVX4 (Bos taurus) Complement C3 precursor           & SWISS-PROT:Q2UVX4 (Bos taurus) Complement C3 precursor                                                          & NA                                                                                                                                                                                                                                                                                                                                                                                                                                                                                                                                                                                                                                                                                                                                                                                                                                           & + & Both &  0.02791924 & -0.2945614 & 7.747177e-01 & 7.955523e-01 & 35.40486 & 35.38781 & 35.42192\\\\\n",
       "\t5 & P98160 & HSPG2                                                            & Basement membrane-specific heparan sulfate proteoglycan core protein OS=Homo sapiens OX=9606 GN=HSPG2 PE=1 SV=4 & adherens junction;anchoring junction;basal lamina;cell junction;cell part;cell-substrate adherens junction;cell-substrate junction;cytoplasmic part;extracellular matrix;extracellular matrix part;extracellular membrane-bounded organelle;extracellular organelle;extracellular region;extracellular region part;extracellular space;extracellular vesicular exosome;focal adhesion;Golgi apparatus part;Golgi lumen;intracellular organelle lumen;intracellular organelle part;intracellular part;lysosomal lumen;membrane;membrane-bounded organelle;membrane-bounded vesicle;membrane-enclosed lumen;organelle;organelle lumen;organelle part;plasma membrane;vacuolar lumen;vacuolar part;vesicle                                                                                                                                      & - & Both & -0.25431560 &  0.9260638 & 3.783462e-01 & 4.133888e-01 & 34.31711 & 34.43105 & 34.20317\\\\\n",
       "\t6 & P12111 & COL6A3                                                           & Collagen alpha-3(VI) chain OS=Homo sapiens OX=9606 GN=COL6A3 PE=1 SV=5                                          & anchoring collagen;cell part;collagen;collagen type VI;cytoplasmic part;endoplasmic reticulum lumen;endoplasmic reticulum part;extracellular matrix;extracellular matrix part;extracellular membrane-bounded organelle;extracellular organelle;extracellular region;extracellular region part;extracellular space;extracellular vesicular exosome;intracellular organelle lumen;intracellular organelle part;intracellular part;membrane;membrane-bounded organelle;membrane-bounded vesicle;membrane-enclosed lumen;organelle;organelle lumen;organelle part;plasma membrane;proteinaceous extracellular matrix;sarcolemma;vesicle                                                                                                                                                                                                          & - & Both &  0.01175825 &  0.1011767 & 9.215868e-01 & 9.292720e-01 & 34.00055 & 34.01633 & 33.98476\\\\\n",
       "\\end{tabular}\n"
      ],
      "text/markdown": [
       "\n",
       "A data.frame: 6 × 13\n",
       "\n",
       "| <!--/--> | Protein &lt;chr&gt; | Gene.name &lt;chr&gt; | Description &lt;chr&gt; | GOCC.name &lt;chr&gt; | Contaminant &lt;chr&gt; | Treatment_Presence &lt;chr&gt; | log2FC &lt;dbl&gt; | Statistic &lt;dbl&gt; | P Value &lt;dbl&gt; | P Adj &lt;dbl&gt; | Avg_Abundance &lt;dbl&gt; | Coculture_Vehicle.Avg_Abundance &lt;dbl&gt; | Triculture_Vehicle.Avg_Abundance &lt;dbl&gt; |\n",
       "|---|---|---|---|---|---|---|---|---|---|---|---|---|---|\n",
       "| 1 | P02769 | SWISS-PROT:P02769 (Bos taurus) Bovine serum albumin precursor    | SWISS-PROT:P02769 (Bos taurus) Bovine serum albumin precursor                                                   | NA                                                                                                                                                                                                                                                                                                                                                                                                                                                                                                                                                                                                                                                                                                                                                                                                                                           | + | Both | -0.68187776 |  6.5650003 | 7.964945e-05 | 8.196550e-04 | 38.42279 | 38.76178 | 38.08381 |\n",
       "| 2 | P02751 | FN1                                                              | Fibronectin OS=Homo sapiens OX=9606 GN=FN1 PE=1 SV=5                                                            | apical plasma membrane;basal lamina;blood microparticle;cell part;cytoplasmic membrane-bounded vesicle lumen;cytoplasmic part;cytoplasmic vesicle part;endoplasmic reticulum-Golgi intermediate compartment;extracellular matrix;extracellular matrix part;extracellular membrane-bounded organelle;extracellular organelle;extracellular region;extracellular region part;extracellular space;extracellular vesicular exosome;fibrinogen complex;intracellular membrane-bounded organelle;intracellular organelle;intracellular organelle part;intracellular part;macromolecular complex;membrane part;membrane-bounded organelle;membrane-bounded vesicle;membrane-enclosed lumen;organelle;organelle lumen;organelle part;plasma membrane part;platelet alpha granule lumen;protein complex;secretory granule lumen;vesicle;vesicle lumen | - | Both |  0.16166817 | -0.7486083 | 4.713424e-01 | 5.054825e-01 | 37.81678 | 37.73433 | 37.89923 |\n",
       "| 3 | P12763 | SWISS-PROT:P12763 (Bos taurus) Alpha-2-HS-glycoprotein precursor | SWISS-PROT:P12763 (Bos taurus) Alpha-2-HS-glycoprotein precursor                                                | NA                                                                                                                                                                                                                                                                                                                                                                                                                                                                                                                                                                                                                                                                                                                                                                                                                                           | + | Both | -0.79377006 | 11.3364956 | 1.149515e-06 | 4.169866e-05 | 37.52200 | 37.92024 | 37.12376 |\n",
       "| 4 | Q2UVX4 | SWISS-PROT:Q2UVX4 (Bos taurus) Complement C3 precursor           | SWISS-PROT:Q2UVX4 (Bos taurus) Complement C3 precursor                                                          | NA                                                                                                                                                                                                                                                                                                                                                                                                                                                                                                                                                                                                                                                                                                                                                                                                                                           | + | Both |  0.02791924 | -0.2945614 | 7.747177e-01 | 7.955523e-01 | 35.40486 | 35.38781 | 35.42192 |\n",
       "| 5 | P98160 | HSPG2                                                            | Basement membrane-specific heparan sulfate proteoglycan core protein OS=Homo sapiens OX=9606 GN=HSPG2 PE=1 SV=4 | adherens junction;anchoring junction;basal lamina;cell junction;cell part;cell-substrate adherens junction;cell-substrate junction;cytoplasmic part;extracellular matrix;extracellular matrix part;extracellular membrane-bounded organelle;extracellular organelle;extracellular region;extracellular region part;extracellular space;extracellular vesicular exosome;focal adhesion;Golgi apparatus part;Golgi lumen;intracellular organelle lumen;intracellular organelle part;intracellular part;lysosomal lumen;membrane;membrane-bounded organelle;membrane-bounded vesicle;membrane-enclosed lumen;organelle;organelle lumen;organelle part;plasma membrane;vacuolar lumen;vacuolar part;vesicle                                                                                                                                      | - | Both | -0.25431560 |  0.9260638 | 3.783462e-01 | 4.133888e-01 | 34.31711 | 34.43105 | 34.20317 |\n",
       "| 6 | P12111 | COL6A3                                                           | Collagen alpha-3(VI) chain OS=Homo sapiens OX=9606 GN=COL6A3 PE=1 SV=5                                          | anchoring collagen;cell part;collagen;collagen type VI;cytoplasmic part;endoplasmic reticulum lumen;endoplasmic reticulum part;extracellular matrix;extracellular matrix part;extracellular membrane-bounded organelle;extracellular organelle;extracellular region;extracellular region part;extracellular space;extracellular vesicular exosome;intracellular organelle lumen;intracellular organelle part;intracellular part;membrane;membrane-bounded organelle;membrane-bounded vesicle;membrane-enclosed lumen;organelle;organelle lumen;organelle part;plasma membrane;proteinaceous extracellular matrix;sarcolemma;vesicle                                                                                                                                                                                                          | - | Both |  0.01175825 |  0.1011767 | 9.215868e-01 | 9.292720e-01 | 34.00055 | 34.01633 | 33.98476 |\n",
       "\n"
      ],
      "text/plain": [
       "  Protein Gene.name                                                       \n",
       "1 P02769  SWISS-PROT:P02769 (Bos taurus) Bovine serum albumin precursor   \n",
       "2 P02751  FN1                                                             \n",
       "3 P12763  SWISS-PROT:P12763 (Bos taurus) Alpha-2-HS-glycoprotein precursor\n",
       "4 Q2UVX4  SWISS-PROT:Q2UVX4 (Bos taurus) Complement C3 precursor          \n",
       "5 P98160  HSPG2                                                           \n",
       "6 P12111  COL6A3                                                          \n",
       "  Description                                                                                                    \n",
       "1 SWISS-PROT:P02769 (Bos taurus) Bovine serum albumin precursor                                                  \n",
       "2 Fibronectin OS=Homo sapiens OX=9606 GN=FN1 PE=1 SV=5                                                           \n",
       "3 SWISS-PROT:P12763 (Bos taurus) Alpha-2-HS-glycoprotein precursor                                               \n",
       "4 SWISS-PROT:Q2UVX4 (Bos taurus) Complement C3 precursor                                                         \n",
       "5 Basement membrane-specific heparan sulfate proteoglycan core protein OS=Homo sapiens OX=9606 GN=HSPG2 PE=1 SV=4\n",
       "6 Collagen alpha-3(VI) chain OS=Homo sapiens OX=9606 GN=COL6A3 PE=1 SV=5                                         \n",
       "  GOCC.name                                                                                                                                                                                                                                                                                                                                                                                                                                                                                                                                                                                                                                                                                                                                                                                                                                   \n",
       "1 NA                                                                                                                                                                                                                                                                                                                                                                                                                                                                                                                                                                                                                                                                                                                                                                                                                                          \n",
       "2 apical plasma membrane;basal lamina;blood microparticle;cell part;cytoplasmic membrane-bounded vesicle lumen;cytoplasmic part;cytoplasmic vesicle part;endoplasmic reticulum-Golgi intermediate compartment;extracellular matrix;extracellular matrix part;extracellular membrane-bounded organelle;extracellular organelle;extracellular region;extracellular region part;extracellular space;extracellular vesicular exosome;fibrinogen complex;intracellular membrane-bounded organelle;intracellular organelle;intracellular organelle part;intracellular part;macromolecular complex;membrane part;membrane-bounded organelle;membrane-bounded vesicle;membrane-enclosed lumen;organelle;organelle lumen;organelle part;plasma membrane part;platelet alpha granule lumen;protein complex;secretory granule lumen;vesicle;vesicle lumen\n",
       "3 NA                                                                                                                                                                                                                                                                                                                                                                                                                                                                                                                                                                                                                                                                                                                                                                                                                                          \n",
       "4 NA                                                                                                                                                                                                                                                                                                                                                                                                                                                                                                                                                                                                                                                                                                                                                                                                                                          \n",
       "5 adherens junction;anchoring junction;basal lamina;cell junction;cell part;cell-substrate adherens junction;cell-substrate junction;cytoplasmic part;extracellular matrix;extracellular matrix part;extracellular membrane-bounded organelle;extracellular organelle;extracellular region;extracellular region part;extracellular space;extracellular vesicular exosome;focal adhesion;Golgi apparatus part;Golgi lumen;intracellular organelle lumen;intracellular organelle part;intracellular part;lysosomal lumen;membrane;membrane-bounded organelle;membrane-bounded vesicle;membrane-enclosed lumen;organelle;organelle lumen;organelle part;plasma membrane;vacuolar lumen;vacuolar part;vesicle                                                                                                                                     \n",
       "6 anchoring collagen;cell part;collagen;collagen type VI;cytoplasmic part;endoplasmic reticulum lumen;endoplasmic reticulum part;extracellular matrix;extracellular matrix part;extracellular membrane-bounded organelle;extracellular organelle;extracellular region;extracellular region part;extracellular space;extracellular vesicular exosome;intracellular organelle lumen;intracellular organelle part;intracellular part;membrane;membrane-bounded organelle;membrane-bounded vesicle;membrane-enclosed lumen;organelle;organelle lumen;organelle part;plasma membrane;proteinaceous extracellular matrix;sarcolemma;vesicle                                                                                                                                                                                                         \n",
       "  Contaminant Treatment_Presence log2FC      Statistic  P Value     \n",
       "1 +           Both               -0.68187776  6.5650003 7.964945e-05\n",
       "2 -           Both                0.16166817 -0.7486083 4.713424e-01\n",
       "3 +           Both               -0.79377006 11.3364956 1.149515e-06\n",
       "4 +           Both                0.02791924 -0.2945614 7.747177e-01\n",
       "5 -           Both               -0.25431560  0.9260638 3.783462e-01\n",
       "6 -           Both                0.01175825  0.1011767 9.215868e-01\n",
       "  P Adj        Avg_Abundance Coculture_Vehicle.Avg_Abundance\n",
       "1 8.196550e-04 38.42279      38.76178                       \n",
       "2 5.054825e-01 37.81678      37.73433                       \n",
       "3 4.169866e-05 37.52200      37.92024                       \n",
       "4 7.955523e-01 35.40486      35.38781                       \n",
       "5 4.133888e-01 34.31711      34.43105                       \n",
       "6 9.292720e-01 34.00055      34.01633                       \n",
       "  Triculture_Vehicle.Avg_Abundance\n",
       "1 38.08381                        \n",
       "2 37.89923                        \n",
       "3 37.12376                        \n",
       "4 35.42192                        \n",
       "5 34.20317                        \n",
       "6 33.98476                        "
      ]
     },
     "metadata": {},
     "output_type": "display_data"
    }
   ],
   "source": [
    "# combining the abundances with the t test data and adding back in some protein info\n",
    "t_test_abundance_df = left_join(inner_join(final_t_test_df, abundance_df),\n",
    "                                 protein_info_df)\n",
    "# rearranging cols\n",
    "t_test_abundance_df = t_test_abundance_df[,c(1,2,12,13,3:11)]\n",
    "\n",
    "head(t_test_abundance_df)"
   ]
  },
  {
   "cell_type": "code",
   "execution_count": 13,
   "id": "eed4e477",
   "metadata": {},
   "outputs": [],
   "source": [
    "# exporting t test results and avg abundances for manuscript\n",
    "write.csv(t_test_abundance_df, paste0(Output,\"/\", cur_date, \"_t_test_abundance_data.csv\"), row.names = FALSE)"
   ]
  },
  {
   "cell_type": "code",
   "execution_count": 14,
   "id": "9fcacb51",
   "metadata": {},
   "outputs": [
    {
     "data": {
      "text/html": [
       "<table class=\"dataframe\">\n",
       "<caption>A tibble: 6 × 13</caption>\n",
       "<thead>\n",
       "\t<tr><th scope=col>Protein</th><th scope=col>CoCulture_VehicleCT1</th><th scope=col>CoCulture_VehicleCT2</th><th scope=col>CoCulture_VehicleCT3</th><th scope=col>CoCulture_VehicleCT4</th><th scope=col>CoCulture_VehicleCT5</th><th scope=col>CoCulture_VehicleCT6</th><th scope=col>TriCulture_VehicleCT1</th><th scope=col>TriCulture_VehicleCT2</th><th scope=col>TriCulture_VehicleCT3</th><th scope=col>TriCulture_VehicleCT4</th><th scope=col>TriCulture_VehicleCT5</th><th scope=col>TriCulture_VehicleCT6</th></tr>\n",
       "\t<tr><th scope=col>&lt;chr&gt;</th><th scope=col>&lt;dbl&gt;</th><th scope=col>&lt;dbl&gt;</th><th scope=col>&lt;dbl&gt;</th><th scope=col>&lt;dbl&gt;</th><th scope=col>&lt;dbl&gt;</th><th scope=col>&lt;dbl&gt;</th><th scope=col>&lt;dbl&gt;</th><th scope=col>&lt;dbl&gt;</th><th scope=col>&lt;dbl&gt;</th><th scope=col>&lt;dbl&gt;</th><th scope=col>&lt;dbl&gt;</th><th scope=col>&lt;dbl&gt;</th></tr>\n",
       "</thead>\n",
       "<tbody>\n",
       "\t<tr><td>P02769</td><td>38.97122</td><td>38.63401</td><td>38.72032</td><td>38.45801</td><td>38.83529</td><td>38.95180</td><td>37.90851</td><td>37.92551</td><td>38.01679</td><td>38.15023</td><td>38.20787</td><td>38.29395</td></tr>\n",
       "\t<tr><td>P02751</td><td>37.48856</td><td>37.78403</td><td>38.17143</td><td>38.03162</td><td>37.82356</td><td>37.10677</td><td>37.81898</td><td>37.89484</td><td>38.12960</td><td>38.07699</td><td>38.27044</td><td>37.20452</td></tr>\n",
       "\t<tr><td>P12763</td><td>37.95733</td><td>37.72341</td><td>37.90839</td><td>37.96749</td><td>37.96908</td><td>37.99574</td><td>36.95784</td><td>37.16690</td><td>37.20668</td><td>37.26361</td><td>37.20922</td><td>36.93834</td></tr>\n",
       "\t<tr><td>Q2UVX4</td><td>35.76016</td><td>35.28884</td><td>35.18560</td><td>35.41319</td><td>35.50751</td><td>35.17155</td><td>35.43632</td><td>35.15575</td><td>35.36407</td><td>35.69178</td><td>35.48188</td><td>35.40171</td></tr>\n",
       "\t<tr><td>P98160</td><td>34.59290</td><td>34.02111</td><td>33.63893</td><td>34.77109</td><td>34.69942</td><td>34.86284</td><td>33.97759</td><td>33.76428</td><td>34.02191</td><td>34.74922</td><td>34.37800</td><td>34.32804</td></tr>\n",
       "\t<tr><td>P12111</td><td>33.63540</td><td>34.26521</td><td>34.34885</td><td>34.36332</td><td>34.20885</td><td>33.27636</td><td>33.90665</td><td>34.22111</td><td>34.07497</td><td>34.10731</td><td>34.73323</td><td>32.86530</td></tr>\n",
       "</tbody>\n",
       "</table>\n"
      ],
      "text/latex": [
       "A tibble: 6 × 13\n",
       "\\begin{tabular}{lllllllllllll}\n",
       " Protein & CoCulture\\_VehicleCT1 & CoCulture\\_VehicleCT2 & CoCulture\\_VehicleCT3 & CoCulture\\_VehicleCT4 & CoCulture\\_VehicleCT5 & CoCulture\\_VehicleCT6 & TriCulture\\_VehicleCT1 & TriCulture\\_VehicleCT2 & TriCulture\\_VehicleCT3 & TriCulture\\_VehicleCT4 & TriCulture\\_VehicleCT5 & TriCulture\\_VehicleCT6\\\\\n",
       " <chr> & <dbl> & <dbl> & <dbl> & <dbl> & <dbl> & <dbl> & <dbl> & <dbl> & <dbl> & <dbl> & <dbl> & <dbl>\\\\\n",
       "\\hline\n",
       "\t P02769 & 38.97122 & 38.63401 & 38.72032 & 38.45801 & 38.83529 & 38.95180 & 37.90851 & 37.92551 & 38.01679 & 38.15023 & 38.20787 & 38.29395\\\\\n",
       "\t P02751 & 37.48856 & 37.78403 & 38.17143 & 38.03162 & 37.82356 & 37.10677 & 37.81898 & 37.89484 & 38.12960 & 38.07699 & 38.27044 & 37.20452\\\\\n",
       "\t P12763 & 37.95733 & 37.72341 & 37.90839 & 37.96749 & 37.96908 & 37.99574 & 36.95784 & 37.16690 & 37.20668 & 37.26361 & 37.20922 & 36.93834\\\\\n",
       "\t Q2UVX4 & 35.76016 & 35.28884 & 35.18560 & 35.41319 & 35.50751 & 35.17155 & 35.43632 & 35.15575 & 35.36407 & 35.69178 & 35.48188 & 35.40171\\\\\n",
       "\t P98160 & 34.59290 & 34.02111 & 33.63893 & 34.77109 & 34.69942 & 34.86284 & 33.97759 & 33.76428 & 34.02191 & 34.74922 & 34.37800 & 34.32804\\\\\n",
       "\t P12111 & 33.63540 & 34.26521 & 34.34885 & 34.36332 & 34.20885 & 33.27636 & 33.90665 & 34.22111 & 34.07497 & 34.10731 & 34.73323 & 32.86530\\\\\n",
       "\\end{tabular}\n"
      ],
      "text/markdown": [
       "\n",
       "A tibble: 6 × 13\n",
       "\n",
       "| Protein &lt;chr&gt; | CoCulture_VehicleCT1 &lt;dbl&gt; | CoCulture_VehicleCT2 &lt;dbl&gt; | CoCulture_VehicleCT3 &lt;dbl&gt; | CoCulture_VehicleCT4 &lt;dbl&gt; | CoCulture_VehicleCT5 &lt;dbl&gt; | CoCulture_VehicleCT6 &lt;dbl&gt; | TriCulture_VehicleCT1 &lt;dbl&gt; | TriCulture_VehicleCT2 &lt;dbl&gt; | TriCulture_VehicleCT3 &lt;dbl&gt; | TriCulture_VehicleCT4 &lt;dbl&gt; | TriCulture_VehicleCT5 &lt;dbl&gt; | TriCulture_VehicleCT6 &lt;dbl&gt; |\n",
       "|---|---|---|---|---|---|---|---|---|---|---|---|---|\n",
       "| P02769 | 38.97122 | 38.63401 | 38.72032 | 38.45801 | 38.83529 | 38.95180 | 37.90851 | 37.92551 | 38.01679 | 38.15023 | 38.20787 | 38.29395 |\n",
       "| P02751 | 37.48856 | 37.78403 | 38.17143 | 38.03162 | 37.82356 | 37.10677 | 37.81898 | 37.89484 | 38.12960 | 38.07699 | 38.27044 | 37.20452 |\n",
       "| P12763 | 37.95733 | 37.72341 | 37.90839 | 37.96749 | 37.96908 | 37.99574 | 36.95784 | 37.16690 | 37.20668 | 37.26361 | 37.20922 | 36.93834 |\n",
       "| Q2UVX4 | 35.76016 | 35.28884 | 35.18560 | 35.41319 | 35.50751 | 35.17155 | 35.43632 | 35.15575 | 35.36407 | 35.69178 | 35.48188 | 35.40171 |\n",
       "| P98160 | 34.59290 | 34.02111 | 33.63893 | 34.77109 | 34.69942 | 34.86284 | 33.97759 | 33.76428 | 34.02191 | 34.74922 | 34.37800 | 34.32804 |\n",
       "| P12111 | 33.63540 | 34.26521 | 34.34885 | 34.36332 | 34.20885 | 33.27636 | 33.90665 | 34.22111 | 34.07497 | 34.10731 | 34.73323 | 32.86530 |\n",
       "\n"
      ],
      "text/plain": [
       "  Protein CoCulture_VehicleCT1 CoCulture_VehicleCT2 CoCulture_VehicleCT3\n",
       "1 P02769  38.97122             38.63401             38.72032            \n",
       "2 P02751  37.48856             37.78403             38.17143            \n",
       "3 P12763  37.95733             37.72341             37.90839            \n",
       "4 Q2UVX4  35.76016             35.28884             35.18560            \n",
       "5 P98160  34.59290             34.02111             33.63893            \n",
       "6 P12111  33.63540             34.26521             34.34885            \n",
       "  CoCulture_VehicleCT4 CoCulture_VehicleCT5 CoCulture_VehicleCT6\n",
       "1 38.45801             38.83529             38.95180            \n",
       "2 38.03162             37.82356             37.10677            \n",
       "3 37.96749             37.96908             37.99574            \n",
       "4 35.41319             35.50751             35.17155            \n",
       "5 34.77109             34.69942             34.86284            \n",
       "6 34.36332             34.20885             33.27636            \n",
       "  TriCulture_VehicleCT1 TriCulture_VehicleCT2 TriCulture_VehicleCT3\n",
       "1 37.90851              37.92551              38.01679             \n",
       "2 37.81898              37.89484              38.12960             \n",
       "3 36.95784              37.16690              37.20668             \n",
       "4 35.43632              35.15575              35.36407             \n",
       "5 33.97759              33.76428              34.02191             \n",
       "6 33.90665              34.22111              34.07497             \n",
       "  TriCulture_VehicleCT4 TriCulture_VehicleCT5 TriCulture_VehicleCT6\n",
       "1 38.15023              38.20787              38.29395             \n",
       "2 38.07699              38.27044              37.20452             \n",
       "3 37.26361              37.20922              36.93834             \n",
       "4 35.69178              35.48188              35.40171             \n",
       "5 34.74922              34.37800              34.32804             \n",
       "6 34.10731              34.73323              32.86530             "
      ]
     },
     "metadata": {},
     "output_type": "display_data"
    }
   ],
   "source": [
    "# now creating a df with individual protein abundances\n",
    "protein_abundance = proteomics_df %>%\n",
    "    select(-c(\"Treatment\", \"Value\", \"Set\", \"Treatment_Presence\")) %>%\n",
    "    pivot_wider(names_from = ID, values_from = log2Value) \n",
    "\n",
    "head(protein_abundance)"
   ]
  },
  {
   "cell_type": "code",
   "execution_count": 15,
   "id": "eeb1e543",
   "metadata": {},
   "outputs": [],
   "source": [
    "# exporting indvidual protein abundances\n",
    "write.csv(protein_abundance, paste0(Output,\"/\", cur_date, \"_individual_abundance_data.csv\"), row.names = FALSE)"
   ]
  },
  {
   "cell_type": "code",
   "execution_count": null,
   "id": "5e6afcb4",
   "metadata": {},
   "outputs": [],
   "source": []
  }
 ],
 "metadata": {
  "kernelspec": {
   "display_name": "R",
   "language": "R",
   "name": "ir"
  },
  "language_info": {
   "codemirror_mode": "r",
   "file_extension": ".r",
   "mimetype": "text/x-r-source",
   "name": "R",
   "pygments_lexer": "r",
   "version": "4.1.2"
  }
 },
 "nbformat": 4,
 "nbformat_minor": 5
}
