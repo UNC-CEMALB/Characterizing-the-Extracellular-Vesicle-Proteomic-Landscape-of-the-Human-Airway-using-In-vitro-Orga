{
 "cells": [
  {
   "cell_type": "code",
   "execution_count": 1,
   "id": "2435c81d",
   "metadata": {},
   "outputs": [
    {
     "name": "stderr",
     "output_type": "stream",
     "text": [
      "── \u001b[1mAttaching packages\u001b[22m ─────────────────────────────────────── tidyverse 1.3.1 ──\n",
      "\n",
      "\u001b[32m✔\u001b[39m \u001b[34mggplot2\u001b[39m 3.3.5     \u001b[32m✔\u001b[39m \u001b[34mpurrr  \u001b[39m 0.3.4\n",
      "\u001b[32m✔\u001b[39m \u001b[34mtibble \u001b[39m 3.1.6     \u001b[32m✔\u001b[39m \u001b[34mdplyr  \u001b[39m 1.0.8\n",
      "\u001b[32m✔\u001b[39m \u001b[34mtidyr  \u001b[39m 1.2.0     \u001b[32m✔\u001b[39m \u001b[34mstringr\u001b[39m 1.4.0\n",
      "\u001b[32m✔\u001b[39m \u001b[34mreadr  \u001b[39m 2.1.2     \u001b[32m✔\u001b[39m \u001b[34mforcats\u001b[39m 0.5.1\n",
      "\n",
      "── \u001b[1mConflicts\u001b[22m ────────────────────────────────────────── tidyverse_conflicts() ──\n",
      "\u001b[31m✖\u001b[39m \u001b[34mdplyr\u001b[39m::\u001b[32mfilter()\u001b[39m masks \u001b[34mstats\u001b[39m::filter()\n",
      "\u001b[31m✖\u001b[39m \u001b[34mdplyr\u001b[39m::\u001b[32mlag()\u001b[39m    masks \u001b[34mstats\u001b[39m::lag()\n",
      "\n",
      "\n",
      "Attaching package: ‘reshape2’\n",
      "\n",
      "\n",
      "The following object is masked from ‘package:tidyr’:\n",
      "\n",
      "    smiths\n",
      "\n",
      "\n"
     ]
    }
   ],
   "source": [
    "Output = ('/Users/alexis/Library/CloudStorage/OneDrive-UniversityofNorthCarolinaatChapelHill/CEMALB_DataAnalysisPM/Projects/P1008. InVitroWildfire EVProteomics V2/P1008.3. Analyses/P1008.3.2. Group Distribution Analysis/Output')\n",
    "cur_date = \"071822\"\n",
    "\n",
    "library(readxl)\n",
    "library(tidyverse)\n",
    "library(reshape2)\n",
    "\n",
    "\n",
    "#reading in file\n",
    "proteomics_df = data.frame(read_excel(\"Input/071522_Imputed_Proteomics_Data.xlsx\"))\n",
    "protein_info_df = data.frame(read_excel(\"Input/List of Proteins Detected_041922.xlsx\")) %>%\n",
    "    rename(Protein = Accession)"
   ]
  },
  {
   "cell_type": "code",
   "execution_count": 2,
   "id": "d6772e95",
   "metadata": {},
   "outputs": [
    {
     "data": {
      "text/html": [
       "<table class=\"dataframe\">\n",
       "<caption>A data.frame: 6 × 6</caption>\n",
       "<thead>\n",
       "\t<tr><th></th><th scope=col>Set</th><th scope=col>Treatment</th><th scope=col>ID</th><th scope=col>Protein</th><th scope=col>Value</th><th scope=col>log2Value</th></tr>\n",
       "\t<tr><th></th><th scope=col>&lt;chr&gt;</th><th scope=col>&lt;chr&gt;</th><th scope=col>&lt;chr&gt;</th><th scope=col>&lt;chr&gt;</th><th scope=col>&lt;dbl&gt;</th><th scope=col>&lt;dbl&gt;</th></tr>\n",
       "</thead>\n",
       "<tbody>\n",
       "\t<tr><th scope=row>1</th><td>Set1</td><td>CoCulture_Vehicle</td><td>CoCulture_VehicleCT1</td><td>P02769</td><td>542807252301</td><td>38.98165</td></tr>\n",
       "\t<tr><th scope=row>2</th><td>Set1</td><td>CoCulture_Vehicle</td><td>CoCulture_VehicleCT1</td><td>P02751</td><td>194231349065</td><td>37.49899</td></tr>\n",
       "\t<tr><th scope=row>3</th><td>Set1</td><td>CoCulture_Vehicle</td><td>CoCulture_VehicleCT1</td><td>P12763</td><td>268802313439</td><td>37.96775</td></tr>\n",
       "\t<tr><th scope=row>4</th><td>Set1</td><td>CoCulture_Vehicle</td><td>CoCulture_VehicleCT1</td><td>Q2UVX4</td><td> 58616246414</td><td>35.77058</td></tr>\n",
       "\t<tr><th scope=row>5</th><td>Set1</td><td>CoCulture_Vehicle</td><td>CoCulture_VehicleCT1</td><td>P98160</td><td> 26099837530</td><td>34.60332</td></tr>\n",
       "\t<tr><th scope=row>6</th><td>Set1</td><td>CoCulture_Vehicle</td><td>CoCulture_VehicleCT1</td><td>P12111</td><td> 13440115671</td><td>33.64583</td></tr>\n",
       "</tbody>\n",
       "</table>\n"
      ],
      "text/latex": [
       "A data.frame: 6 × 6\n",
       "\\begin{tabular}{r|llllll}\n",
       "  & Set & Treatment & ID & Protein & Value & log2Value\\\\\n",
       "  & <chr> & <chr> & <chr> & <chr> & <dbl> & <dbl>\\\\\n",
       "\\hline\n",
       "\t1 & Set1 & CoCulture\\_Vehicle & CoCulture\\_VehicleCT1 & P02769 & 542807252301 & 38.98165\\\\\n",
       "\t2 & Set1 & CoCulture\\_Vehicle & CoCulture\\_VehicleCT1 & P02751 & 194231349065 & 37.49899\\\\\n",
       "\t3 & Set1 & CoCulture\\_Vehicle & CoCulture\\_VehicleCT1 & P12763 & 268802313439 & 37.96775\\\\\n",
       "\t4 & Set1 & CoCulture\\_Vehicle & CoCulture\\_VehicleCT1 & Q2UVX4 &  58616246414 & 35.77058\\\\\n",
       "\t5 & Set1 & CoCulture\\_Vehicle & CoCulture\\_VehicleCT1 & P98160 &  26099837530 & 34.60332\\\\\n",
       "\t6 & Set1 & CoCulture\\_Vehicle & CoCulture\\_VehicleCT1 & P12111 &  13440115671 & 33.64583\\\\\n",
       "\\end{tabular}\n"
      ],
      "text/markdown": [
       "\n",
       "A data.frame: 6 × 6\n",
       "\n",
       "| <!--/--> | Set &lt;chr&gt; | Treatment &lt;chr&gt; | ID &lt;chr&gt; | Protein &lt;chr&gt; | Value &lt;dbl&gt; | log2Value &lt;dbl&gt; |\n",
       "|---|---|---|---|---|---|---|\n",
       "| 1 | Set1 | CoCulture_Vehicle | CoCulture_VehicleCT1 | P02769 | 542807252301 | 38.98165 |\n",
       "| 2 | Set1 | CoCulture_Vehicle | CoCulture_VehicleCT1 | P02751 | 194231349065 | 37.49899 |\n",
       "| 3 | Set1 | CoCulture_Vehicle | CoCulture_VehicleCT1 | P12763 | 268802313439 | 37.96775 |\n",
       "| 4 | Set1 | CoCulture_Vehicle | CoCulture_VehicleCT1 | Q2UVX4 |  58616246414 | 35.77058 |\n",
       "| 5 | Set1 | CoCulture_Vehicle | CoCulture_VehicleCT1 | P98160 |  26099837530 | 34.60332 |\n",
       "| 6 | Set1 | CoCulture_Vehicle | CoCulture_VehicleCT1 | P12111 |  13440115671 | 33.64583 |\n",
       "\n"
      ],
      "text/plain": [
       "  Set  Treatment         ID                   Protein Value        log2Value\n",
       "1 Set1 CoCulture_Vehicle CoCulture_VehicleCT1 P02769  542807252301 38.98165 \n",
       "2 Set1 CoCulture_Vehicle CoCulture_VehicleCT1 P02751  194231349065 37.49899 \n",
       "3 Set1 CoCulture_Vehicle CoCulture_VehicleCT1 P12763  268802313439 37.96775 \n",
       "4 Set1 CoCulture_Vehicle CoCulture_VehicleCT1 Q2UVX4   58616246414 35.77058 \n",
       "5 Set1 CoCulture_Vehicle CoCulture_VehicleCT1 P98160   26099837530 34.60332 \n",
       "6 Set1 CoCulture_Vehicle CoCulture_VehicleCT1 P12111   13440115671 33.64583 "
      ]
     },
     "metadata": {},
     "output_type": "display_data"
    },
    {
     "data": {
      "text/html": [
       "<table class=\"dataframe\">\n",
       "<caption>A data.frame: 6 × 5</caption>\n",
       "<thead>\n",
       "\t<tr><th></th><th scope=col>Protein</th><th scope=col>Gene.name</th><th scope=col>Description</th><th scope=col>GOCC.name</th><th scope=col>Contaminant</th></tr>\n",
       "\t<tr><th></th><th scope=col>&lt;chr&gt;</th><th scope=col>&lt;chr&gt;</th><th scope=col>&lt;chr&gt;</th><th scope=col>&lt;chr&gt;</th><th scope=col>&lt;chr&gt;</th></tr>\n",
       "</thead>\n",
       "<tbody>\n",
       "\t<tr><th scope=row>1</th><td>A0AVT1</td><td>UBA6                                               </td><td>Ubiquitin-like modifier-activating enzyme 6 OS=Homo sapiens OX=9606 GN=UBA6 PE=1 SV=1                              </td><td>cell part;cytoplasm;cytoplasmic part;cytosol;intracellular part                                                                                                                                                                                                                                                                                                                                                                           </td><td>-</td></tr>\n",
       "\t<tr><th scope=row>2</th><td>A1L4H1</td><td>SSC5D                                              </td><td>Soluble scavenger receptor cysteine-rich domain-containing protein SSC5D OS=Homo sapiens OX=9606 GN=SSC5D PE=1 SV=3</td><td>cell part;cytoplasm;extracellular matrix;extracellular region part;extracellular space;intracellular;intracellular part;membrane                                                                                                                                                                                                                                                                                                          </td><td>-</td></tr>\n",
       "\t<tr><th scope=row>3</th><td>A2I7N0</td><td>TREMBL:A2I7N0;Q28922;Q3ZEJ6 (Bos taurus) SERPINA3-4</td><td>TREMBL:A2I7N0;Q28922;Q3ZEJ6 (Bos taurus) SERPINA3-4                                                                </td><td>NA                                                                                                                                                                                                                                                                                                                                                                                                                                        </td><td>+</td></tr>\n",
       "\t<tr><th scope=row>4</th><td>A8K2U0</td><td>A2ML1                                              </td><td>Alpha-2-macroglobulin-like protein 1 OS=Homo sapiens OX=9606 GN=A2ML1 PE=1 SV=3                                    </td><td>extracellular membrane-bounded organelle;extracellular organelle;extracellular region part;extracellular space;extracellular vesicular exosome;membrane-bounded organelle;membrane-bounded vesicle;organelle;vesicle                                                                                                                                                                                                                      </td><td>-</td></tr>\n",
       "\t<tr><th scope=row>5</th><td>O00148</td><td>DDX39A                                             </td><td>ATP-dependent RNA helicase DDX39A OS=Homo sapiens OX=9606 GN=DDX39A PE=1 SV=2                                      </td><td>cell part;cytoplasm;intracellular membrane-bounded organelle;intracellular non-membrane-bounded organelle;intracellular organelle;intracellular organelle part;intracellular part;macromolecular complex;membrane;membrane-bounded organelle;non-membrane-bounded organelle;nuclear part;nucleolus;nucleus;organelle;organelle part;ribonucleoprotein complex;spliceosomal complex                                                        </td><td>-</td></tr>\n",
       "\t<tr><th scope=row>6</th><td>O00151</td><td>PDLIM1                                             </td><td>PDZ and LIM domain protein 1 OS=Homo sapiens OX=9606 GN=PDLIM1 PE=1 SV=4                                           </td><td>adherens junction;anchoring junction;cell junction;cell part;cell-substrate adherens junction;cell-substrate junction;cytoplasm;cytoskeleton;focal adhesion;intracellular non-membrane-bounded organelle;intracellular organelle;intracellular organelle part;intracellular part;macromolecular complex;non-membrane-bounded organelle;nuclear part;nucleoplasm part;organelle;organelle part;protein complex;transcription factor complex</td><td>-</td></tr>\n",
       "</tbody>\n",
       "</table>\n"
      ],
      "text/latex": [
       "A data.frame: 6 × 5\n",
       "\\begin{tabular}{r|lllll}\n",
       "  & Protein & Gene.name & Description & GOCC.name & Contaminant\\\\\n",
       "  & <chr> & <chr> & <chr> & <chr> & <chr>\\\\\n",
       "\\hline\n",
       "\t1 & A0AVT1 & UBA6                                                & Ubiquitin-like modifier-activating enzyme 6 OS=Homo sapiens OX=9606 GN=UBA6 PE=1 SV=1                               & cell part;cytoplasm;cytoplasmic part;cytosol;intracellular part                                                                                                                                                                                                                                                                                                                                                                            & -\\\\\n",
       "\t2 & A1L4H1 & SSC5D                                               & Soluble scavenger receptor cysteine-rich domain-containing protein SSC5D OS=Homo sapiens OX=9606 GN=SSC5D PE=1 SV=3 & cell part;cytoplasm;extracellular matrix;extracellular region part;extracellular space;intracellular;intracellular part;membrane                                                                                                                                                                                                                                                                                                           & -\\\\\n",
       "\t3 & A2I7N0 & TREMBL:A2I7N0;Q28922;Q3ZEJ6 (Bos taurus) SERPINA3-4 & TREMBL:A2I7N0;Q28922;Q3ZEJ6 (Bos taurus) SERPINA3-4                                                                 & NA                                                                                                                                                                                                                                                                                                                                                                                                                                         & +\\\\\n",
       "\t4 & A8K2U0 & A2ML1                                               & Alpha-2-macroglobulin-like protein 1 OS=Homo sapiens OX=9606 GN=A2ML1 PE=1 SV=3                                     & extracellular membrane-bounded organelle;extracellular organelle;extracellular region part;extracellular space;extracellular vesicular exosome;membrane-bounded organelle;membrane-bounded vesicle;organelle;vesicle                                                                                                                                                                                                                       & -\\\\\n",
       "\t5 & O00148 & DDX39A                                              & ATP-dependent RNA helicase DDX39A OS=Homo sapiens OX=9606 GN=DDX39A PE=1 SV=2                                       & cell part;cytoplasm;intracellular membrane-bounded organelle;intracellular non-membrane-bounded organelle;intracellular organelle;intracellular organelle part;intracellular part;macromolecular complex;membrane;membrane-bounded organelle;non-membrane-bounded organelle;nuclear part;nucleolus;nucleus;organelle;organelle part;ribonucleoprotein complex;spliceosomal complex                                                         & -\\\\\n",
       "\t6 & O00151 & PDLIM1                                              & PDZ and LIM domain protein 1 OS=Homo sapiens OX=9606 GN=PDLIM1 PE=1 SV=4                                            & adherens junction;anchoring junction;cell junction;cell part;cell-substrate adherens junction;cell-substrate junction;cytoplasm;cytoskeleton;focal adhesion;intracellular non-membrane-bounded organelle;intracellular organelle;intracellular organelle part;intracellular part;macromolecular complex;non-membrane-bounded organelle;nuclear part;nucleoplasm part;organelle;organelle part;protein complex;transcription factor complex & -\\\\\n",
       "\\end{tabular}\n"
      ],
      "text/markdown": [
       "\n",
       "A data.frame: 6 × 5\n",
       "\n",
       "| <!--/--> | Protein &lt;chr&gt; | Gene.name &lt;chr&gt; | Description &lt;chr&gt; | GOCC.name &lt;chr&gt; | Contaminant &lt;chr&gt; |\n",
       "|---|---|---|---|---|---|\n",
       "| 1 | A0AVT1 | UBA6                                                | Ubiquitin-like modifier-activating enzyme 6 OS=Homo sapiens OX=9606 GN=UBA6 PE=1 SV=1                               | cell part;cytoplasm;cytoplasmic part;cytosol;intracellular part                                                                                                                                                                                                                                                                                                                                                                            | - |\n",
       "| 2 | A1L4H1 | SSC5D                                               | Soluble scavenger receptor cysteine-rich domain-containing protein SSC5D OS=Homo sapiens OX=9606 GN=SSC5D PE=1 SV=3 | cell part;cytoplasm;extracellular matrix;extracellular region part;extracellular space;intracellular;intracellular part;membrane                                                                                                                                                                                                                                                                                                           | - |\n",
       "| 3 | A2I7N0 | TREMBL:A2I7N0;Q28922;Q3ZEJ6 (Bos taurus) SERPINA3-4 | TREMBL:A2I7N0;Q28922;Q3ZEJ6 (Bos taurus) SERPINA3-4                                                                 | NA                                                                                                                                                                                                                                                                                                                                                                                                                                         | + |\n",
       "| 4 | A8K2U0 | A2ML1                                               | Alpha-2-macroglobulin-like protein 1 OS=Homo sapiens OX=9606 GN=A2ML1 PE=1 SV=3                                     | extracellular membrane-bounded organelle;extracellular organelle;extracellular region part;extracellular space;extracellular vesicular exosome;membrane-bounded organelle;membrane-bounded vesicle;organelle;vesicle                                                                                                                                                                                                                       | - |\n",
       "| 5 | O00148 | DDX39A                                              | ATP-dependent RNA helicase DDX39A OS=Homo sapiens OX=9606 GN=DDX39A PE=1 SV=2                                       | cell part;cytoplasm;intracellular membrane-bounded organelle;intracellular non-membrane-bounded organelle;intracellular organelle;intracellular organelle part;intracellular part;macromolecular complex;membrane;membrane-bounded organelle;non-membrane-bounded organelle;nuclear part;nucleolus;nucleus;organelle;organelle part;ribonucleoprotein complex;spliceosomal complex                                                         | - |\n",
       "| 6 | O00151 | PDLIM1                                              | PDZ and LIM domain protein 1 OS=Homo sapiens OX=9606 GN=PDLIM1 PE=1 SV=4                                            | adherens junction;anchoring junction;cell junction;cell part;cell-substrate adherens junction;cell-substrate junction;cytoplasm;cytoskeleton;focal adhesion;intracellular non-membrane-bounded organelle;intracellular organelle;intracellular organelle part;intracellular part;macromolecular complex;non-membrane-bounded organelle;nuclear part;nucleoplasm part;organelle;organelle part;protein complex;transcription factor complex | - |\n",
       "\n"
      ],
      "text/plain": [
       "  Protein Gene.name                                          \n",
       "1 A0AVT1  UBA6                                               \n",
       "2 A1L4H1  SSC5D                                              \n",
       "3 A2I7N0  TREMBL:A2I7N0;Q28922;Q3ZEJ6 (Bos taurus) SERPINA3-4\n",
       "4 A8K2U0  A2ML1                                              \n",
       "5 O00148  DDX39A                                             \n",
       "6 O00151  PDLIM1                                             \n",
       "  Description                                                                                                        \n",
       "1 Ubiquitin-like modifier-activating enzyme 6 OS=Homo sapiens OX=9606 GN=UBA6 PE=1 SV=1                              \n",
       "2 Soluble scavenger receptor cysteine-rich domain-containing protein SSC5D OS=Homo sapiens OX=9606 GN=SSC5D PE=1 SV=3\n",
       "3 TREMBL:A2I7N0;Q28922;Q3ZEJ6 (Bos taurus) SERPINA3-4                                                                \n",
       "4 Alpha-2-macroglobulin-like protein 1 OS=Homo sapiens OX=9606 GN=A2ML1 PE=1 SV=3                                    \n",
       "5 ATP-dependent RNA helicase DDX39A OS=Homo sapiens OX=9606 GN=DDX39A PE=1 SV=2                                      \n",
       "6 PDZ and LIM domain protein 1 OS=Homo sapiens OX=9606 GN=PDLIM1 PE=1 SV=4                                           \n",
       "  GOCC.name                                                                                                                                                                                                                                                                                                                                                                                                                                 \n",
       "1 cell part;cytoplasm;cytoplasmic part;cytosol;intracellular part                                                                                                                                                                                                                                                                                                                                                                           \n",
       "2 cell part;cytoplasm;extracellular matrix;extracellular region part;extracellular space;intracellular;intracellular part;membrane                                                                                                                                                                                                                                                                                                          \n",
       "3 NA                                                                                                                                                                                                                                                                                                                                                                                                                                        \n",
       "4 extracellular membrane-bounded organelle;extracellular organelle;extracellular region part;extracellular space;extracellular vesicular exosome;membrane-bounded organelle;membrane-bounded vesicle;organelle;vesicle                                                                                                                                                                                                                      \n",
       "5 cell part;cytoplasm;intracellular membrane-bounded organelle;intracellular non-membrane-bounded organelle;intracellular organelle;intracellular organelle part;intracellular part;macromolecular complex;membrane;membrane-bounded organelle;non-membrane-bounded organelle;nuclear part;nucleolus;nucleus;organelle;organelle part;ribonucleoprotein complex;spliceosomal complex                                                        \n",
       "6 adherens junction;anchoring junction;cell junction;cell part;cell-substrate adherens junction;cell-substrate junction;cytoplasm;cytoskeleton;focal adhesion;intracellular non-membrane-bounded organelle;intracellular organelle;intracellular organelle part;intracellular part;macromolecular complex;non-membrane-bounded organelle;nuclear part;nucleoplasm part;organelle;organelle part;protein complex;transcription factor complex\n",
       "  Contaminant\n",
       "1 -          \n",
       "2 -          \n",
       "3 +          \n",
       "4 -          \n",
       "5 -          \n",
       "6 -          "
      ]
     },
     "metadata": {},
     "output_type": "display_data"
    }
   ],
   "source": [
    "head(proteomics_df)\n",
    "head(protein_info_df)"
   ]
  },
  {
   "cell_type": "code",
   "execution_count": 3,
   "id": "b609515d",
   "metadata": {},
   "outputs": [
    {
     "data": {
      "text/html": [
       "<table class=\"dataframe\">\n",
       "<caption>A data.frame: 6 × 6</caption>\n",
       "<thead>\n",
       "\t<tr><th></th><th scope=col>Set</th><th scope=col>Treatment</th><th scope=col>ID</th><th scope=col>Protein</th><th scope=col>Value</th><th scope=col>log2Value</th></tr>\n",
       "\t<tr><th></th><th scope=col>&lt;chr&gt;</th><th scope=col>&lt;chr&gt;</th><th scope=col>&lt;chr&gt;</th><th scope=col>&lt;chr&gt;</th><th scope=col>&lt;dbl&gt;</th><th scope=col>&lt;dbl&gt;</th></tr>\n",
       "</thead>\n",
       "<tbody>\n",
       "\t<tr><th scope=row>1</th><td>Set1</td><td>CoCulture</td><td>CoCulture_VehicleCT1</td><td>P02769</td><td>542807252301</td><td>38.98165</td></tr>\n",
       "\t<tr><th scope=row>2</th><td>Set1</td><td>CoCulture</td><td>CoCulture_VehicleCT1</td><td>P02751</td><td>194231349065</td><td>37.49899</td></tr>\n",
       "\t<tr><th scope=row>3</th><td>Set1</td><td>CoCulture</td><td>CoCulture_VehicleCT1</td><td>P12763</td><td>268802313439</td><td>37.96775</td></tr>\n",
       "\t<tr><th scope=row>4</th><td>Set1</td><td>CoCulture</td><td>CoCulture_VehicleCT1</td><td>Q2UVX4</td><td> 58616246414</td><td>35.77058</td></tr>\n",
       "\t<tr><th scope=row>5</th><td>Set1</td><td>CoCulture</td><td>CoCulture_VehicleCT1</td><td>P98160</td><td> 26099837530</td><td>34.60332</td></tr>\n",
       "\t<tr><th scope=row>6</th><td>Set1</td><td>CoCulture</td><td>CoCulture_VehicleCT1</td><td>P12111</td><td> 13440115671</td><td>33.64583</td></tr>\n",
       "</tbody>\n",
       "</table>\n"
      ],
      "text/latex": [
       "A data.frame: 6 × 6\n",
       "\\begin{tabular}{r|llllll}\n",
       "  & Set & Treatment & ID & Protein & Value & log2Value\\\\\n",
       "  & <chr> & <chr> & <chr> & <chr> & <dbl> & <dbl>\\\\\n",
       "\\hline\n",
       "\t1 & Set1 & CoCulture & CoCulture\\_VehicleCT1 & P02769 & 542807252301 & 38.98165\\\\\n",
       "\t2 & Set1 & CoCulture & CoCulture\\_VehicleCT1 & P02751 & 194231349065 & 37.49899\\\\\n",
       "\t3 & Set1 & CoCulture & CoCulture\\_VehicleCT1 & P12763 & 268802313439 & 37.96775\\\\\n",
       "\t4 & Set1 & CoCulture & CoCulture\\_VehicleCT1 & Q2UVX4 &  58616246414 & 35.77058\\\\\n",
       "\t5 & Set1 & CoCulture & CoCulture\\_VehicleCT1 & P98160 &  26099837530 & 34.60332\\\\\n",
       "\t6 & Set1 & CoCulture & CoCulture\\_VehicleCT1 & P12111 &  13440115671 & 33.64583\\\\\n",
       "\\end{tabular}\n"
      ],
      "text/markdown": [
       "\n",
       "A data.frame: 6 × 6\n",
       "\n",
       "| <!--/--> | Set &lt;chr&gt; | Treatment &lt;chr&gt; | ID &lt;chr&gt; | Protein &lt;chr&gt; | Value &lt;dbl&gt; | log2Value &lt;dbl&gt; |\n",
       "|---|---|---|---|---|---|---|\n",
       "| 1 | Set1 | CoCulture | CoCulture_VehicleCT1 | P02769 | 542807252301 | 38.98165 |\n",
       "| 2 | Set1 | CoCulture | CoCulture_VehicleCT1 | P02751 | 194231349065 | 37.49899 |\n",
       "| 3 | Set1 | CoCulture | CoCulture_VehicleCT1 | P12763 | 268802313439 | 37.96775 |\n",
       "| 4 | Set1 | CoCulture | CoCulture_VehicleCT1 | Q2UVX4 |  58616246414 | 35.77058 |\n",
       "| 5 | Set1 | CoCulture | CoCulture_VehicleCT1 | P98160 |  26099837530 | 34.60332 |\n",
       "| 6 | Set1 | CoCulture | CoCulture_VehicleCT1 | P12111 |  13440115671 | 33.64583 |\n",
       "\n"
      ],
      "text/plain": [
       "  Set  Treatment ID                   Protein Value        log2Value\n",
       "1 Set1 CoCulture CoCulture_VehicleCT1 P02769  542807252301 38.98165 \n",
       "2 Set1 CoCulture CoCulture_VehicleCT1 P02751  194231349065 37.49899 \n",
       "3 Set1 CoCulture CoCulture_VehicleCT1 P12763  268802313439 37.96775 \n",
       "4 Set1 CoCulture CoCulture_VehicleCT1 Q2UVX4   58616246414 35.77058 \n",
       "5 Set1 CoCulture CoCulture_VehicleCT1 P98160   26099837530 34.60332 \n",
       "6 Set1 CoCulture CoCulture_VehicleCT1 P12111   13440115671 33.64583 "
      ]
     },
     "metadata": {},
     "output_type": "display_data"
    }
   ],
   "source": [
    "proteomics_df = proteomics_df %>%\n",
    "    # just want a column that specifies the treatment \n",
    "    separate(Treatment, c(\"Treatment\", NA), sep = \"_\") \n",
    "\n",
    "head(proteomics_df)"
   ]
  },
  {
   "cell_type": "code",
   "execution_count": 4,
   "id": "e9e81f3a",
   "metadata": {},
   "outputs": [
    {
     "data": {
      "text/html": [
       "<table class=\"dataframe\">\n",
       "<caption>A tibble: 6 × 6</caption>\n",
       "<thead>\n",
       "\t<tr><th scope=col>Set</th><th scope=col>Treatment</th><th scope=col>ID</th><th scope=col>Protein</th><th scope=col>Value</th><th scope=col>log2Value</th></tr>\n",
       "\t<tr><th scope=col>&lt;chr&gt;</th><th scope=col>&lt;chr&gt;</th><th scope=col>&lt;chr&gt;</th><th scope=col>&lt;chr&gt;</th><th scope=col>&lt;dbl&gt;</th><th scope=col>&lt;dbl&gt;</th></tr>\n",
       "</thead>\n",
       "<tbody>\n",
       "\t<tr><td>Set1</td><td>CoCulture</td><td>CoCulture_VehicleCT1</td><td>P02769</td><td>542807252301</td><td>38.98165</td></tr>\n",
       "\t<tr><td>Set1</td><td>CoCulture</td><td>CoCulture_VehicleCT1</td><td>P02751</td><td>194231349065</td><td>37.49899</td></tr>\n",
       "\t<tr><td>Set1</td><td>CoCulture</td><td>CoCulture_VehicleCT1</td><td>P12763</td><td>268802313439</td><td>37.96775</td></tr>\n",
       "\t<tr><td>Set1</td><td>CoCulture</td><td>CoCulture_VehicleCT1</td><td>Q2UVX4</td><td> 58616246414</td><td>35.77058</td></tr>\n",
       "\t<tr><td>Set1</td><td>CoCulture</td><td>CoCulture_VehicleCT1</td><td>P98160</td><td> 26099837530</td><td>34.60332</td></tr>\n",
       "\t<tr><td>Set1</td><td>CoCulture</td><td>CoCulture_VehicleCT1</td><td>P12111</td><td> 13440115671</td><td>33.64583</td></tr>\n",
       "</tbody>\n",
       "</table>\n"
      ],
      "text/latex": [
       "A tibble: 6 × 6\n",
       "\\begin{tabular}{llllll}\n",
       " Set & Treatment & ID & Protein & Value & log2Value\\\\\n",
       " <chr> & <chr> & <chr> & <chr> & <dbl> & <dbl>\\\\\n",
       "\\hline\n",
       "\t Set1 & CoCulture & CoCulture\\_VehicleCT1 & P02769 & 542807252301 & 38.98165\\\\\n",
       "\t Set1 & CoCulture & CoCulture\\_VehicleCT1 & P02751 & 194231349065 & 37.49899\\\\\n",
       "\t Set1 & CoCulture & CoCulture\\_VehicleCT1 & P12763 & 268802313439 & 37.96775\\\\\n",
       "\t Set1 & CoCulture & CoCulture\\_VehicleCT1 & Q2UVX4 &  58616246414 & 35.77058\\\\\n",
       "\t Set1 & CoCulture & CoCulture\\_VehicleCT1 & P98160 &  26099837530 & 34.60332\\\\\n",
       "\t Set1 & CoCulture & CoCulture\\_VehicleCT1 & P12111 &  13440115671 & 33.64583\\\\\n",
       "\\end{tabular}\n"
      ],
      "text/markdown": [
       "\n",
       "A tibble: 6 × 6\n",
       "\n",
       "| Set &lt;chr&gt; | Treatment &lt;chr&gt; | ID &lt;chr&gt; | Protein &lt;chr&gt; | Value &lt;dbl&gt; | log2Value &lt;dbl&gt; |\n",
       "|---|---|---|---|---|---|\n",
       "| Set1 | CoCulture | CoCulture_VehicleCT1 | P02769 | 542807252301 | 38.98165 |\n",
       "| Set1 | CoCulture | CoCulture_VehicleCT1 | P02751 | 194231349065 | 37.49899 |\n",
       "| Set1 | CoCulture | CoCulture_VehicleCT1 | P12763 | 268802313439 | 37.96775 |\n",
       "| Set1 | CoCulture | CoCulture_VehicleCT1 | Q2UVX4 |  58616246414 | 35.77058 |\n",
       "| Set1 | CoCulture | CoCulture_VehicleCT1 | P98160 |  26099837530 | 34.60332 |\n",
       "| Set1 | CoCulture | CoCulture_VehicleCT1 | P12111 |  13440115671 | 33.64583 |\n",
       "\n"
      ],
      "text/plain": [
       "  Set  Treatment ID                   Protein Value        log2Value\n",
       "1 Set1 CoCulture CoCulture_VehicleCT1 P02769  542807252301 38.98165 \n",
       "2 Set1 CoCulture CoCulture_VehicleCT1 P02751  194231349065 37.49899 \n",
       "3 Set1 CoCulture CoCulture_VehicleCT1 P12763  268802313439 37.96775 \n",
       "4 Set1 CoCulture CoCulture_VehicleCT1 Q2UVX4   58616246414 35.77058 \n",
       "5 Set1 CoCulture CoCulture_VehicleCT1 P98160   26099837530 34.60332 \n",
       "6 Set1 CoCulture CoCulture_VehicleCT1 P12111   13440115671 33.64583 "
      ]
     },
     "metadata": {},
     "output_type": "display_data"
    }
   ],
   "source": [
    "# splitting by Set\n",
    "proteomics_df_split = proteomics_df %>%\n",
    "    group_by(Set) %>%\n",
    "    group_split()\n",
    "\n",
    "set1_proteomics_df = proteomics_df_split[[1]]\n",
    "set2_proteomics_df = proteomics_df_split[[2]]\n",
    "\n",
    "head(set1_proteomics_df)"
   ]
  },
  {
   "cell_type": "markdown",
   "id": "e9be1db6",
   "metadata": {},
   "source": [
    "Running t tests to determine if there are statistically significant distribution differences in co-culture unexposed vs. exposed and tri-culture unexposed vs. exposed. "
   ]
  },
  {
   "cell_type": "code",
   "execution_count": 5,
   "id": "9b6930b4",
   "metadata": {},
   "outputs": [],
   "source": [
    "t_test_values = function(set1_df, set2_df){\n",
    "    # \"\"\"\n",
    "    # Running t tests after filtering for set, treatment, exposure, and protein using a loop. \n",
    "    # Ultimately using this test to compare proteins (coculture vs. triculture).\n",
    "\n",
    "    # :param: subsetted dataframe, empty dataframe\n",
    "    # :output: a dataframe containing the treatment, protein, u stat, p value, p adj\n",
    "\n",
    "    # \"\"\"\n",
    "    proteins = unique(set1_df$Protein)\n",
    "    \n",
    "    values_df = data.frame()\n",
    "    \n",
    "    # iterating through each  protein\n",
    "    for(i in 1:length(proteins)){\n",
    "            # coculture df\n",
    "            coculture_df = set1_df %>%\n",
    "                filter(Protein == proteins[i])\n",
    "            # triculture df\n",
    "            triculture_df = set2_df %>%\n",
    "                filter(Protein == proteins[i])\n",
    "\n",
    "            # t test\n",
    "            t_test = t.test(coculture_df$log2Value, triculture_df$log2Value)\n",
    "            \n",
    "            # calculating FC to get directionality\n",
    "            FC = log2(mean(triculture_df$Value)/mean(coculture_df$Value))\n",
    "\n",
    "            # contains smoking status compared, compartment, cytokine, u stat, and p value\n",
    "            values_vector = cbind(proteins[i], FC, t_test$statistic, t_test$p.value)\n",
    "            values_df = rbind(values_df, values_vector)\n",
    "    }\n",
    "\n",
    "    \n",
    "    # adding col names\n",
    "    colnames(values_df) = c(\"Protein\", \"log2FC\", \"Statistic\", \"P Value\")\n",
    "    \n",
    "    \n",
    "   # calculating padj values\n",
    "    values_df$`P Adj` = p.adjust(as.numeric(as.character(values_df$`P Value`)), method = \"fdr\")\n",
    "\n",
    "    \n",
    "    values_df$log2FC = as.numeric(values_df$log2FC) \n",
    "    values_df$Statistic = as.numeric(values_df$Statistic)\n",
    "    values_df$`P Value` = as.numeric(values_df$`P Value`) \n",
    "    \n",
    "    return(values_df)\n",
    "}"
   ]
  },
  {
   "cell_type": "code",
   "execution_count": 6,
   "id": "ed469849",
   "metadata": {},
   "outputs": [],
   "source": [
    "# calling fn\n",
    "t_test_df = t_test_values(set1_proteomics_df, set2_proteomics_df)"
   ]
  },
  {
   "cell_type": "code",
   "execution_count": 7,
   "id": "126ffaca",
   "metadata": {},
   "outputs": [
    {
     "name": "stderr",
     "output_type": "stream",
     "text": [
      "\u001b[1m\u001b[22mJoining, by = \"Protein\"\n"
     ]
    },
    {
     "data": {
      "text/html": [
       "<table class=\"dataframe\">\n",
       "<caption>A data.frame: 6 × 6</caption>\n",
       "<thead>\n",
       "\t<tr><th></th><th scope=col>Protein</th><th scope=col>Gene.name</th><th scope=col>log2FC</th><th scope=col>Statistic</th><th scope=col>P Value</th><th scope=col>P Adj</th></tr>\n",
       "\t<tr><th></th><th scope=col>&lt;chr&gt;</th><th scope=col>&lt;chr&gt;</th><th scope=col>&lt;dbl&gt;</th><th scope=col>&lt;dbl&gt;</th><th scope=col>&lt;dbl&gt;</th><th scope=col>&lt;dbl&gt;</th></tr>\n",
       "</thead>\n",
       "<tbody>\n",
       "\t<tr><th scope=row>1</th><td>P02751</td><td>FN1   </td><td> 0.15124191</td><td>-0.7012756</td><td>0.49913274</td><td>0.55267499</td></tr>\n",
       "\t<tr><th scope=row>2</th><td>P98160</td><td>HSPG2 </td><td>-0.26474186</td><td> 0.9684351</td><td>0.35788953</td><td>0.41404654</td></tr>\n",
       "\t<tr><th scope=row>3</th><td>P12111</td><td>COL6A3</td><td> 0.00133199</td><td> 0.1345893</td><td>0.89584285</td><td>0.90855678</td></tr>\n",
       "\t<tr><th scope=row>4</th><td>P21333</td><td>FLNA  </td><td> 0.40181862</td><td>-0.7809744</td><td>0.45351199</td><td>0.50821790</td></tr>\n",
       "\t<tr><th scope=row>5</th><td>O00468</td><td>AGRN  </td><td>-0.39882494</td><td> 3.0168593</td><td>0.02400685</td><td>0.04093245</td></tr>\n",
       "\t<tr><th scope=row>6</th><td>P35555</td><td>FBN1  </td><td> 0.16569919</td><td>-0.8028367</td><td>0.44216722</td><td>0.49851134</td></tr>\n",
       "</tbody>\n",
       "</table>\n"
      ],
      "text/latex": [
       "A data.frame: 6 × 6\n",
       "\\begin{tabular}{r|llllll}\n",
       "  & Protein & Gene.name & log2FC & Statistic & P Value & P Adj\\\\\n",
       "  & <chr> & <chr> & <dbl> & <dbl> & <dbl> & <dbl>\\\\\n",
       "\\hline\n",
       "\t1 & P02751 & FN1    &  0.15124191 & -0.7012756 & 0.49913274 & 0.55267499\\\\\n",
       "\t2 & P98160 & HSPG2  & -0.26474186 &  0.9684351 & 0.35788953 & 0.41404654\\\\\n",
       "\t3 & P12111 & COL6A3 &  0.00133199 &  0.1345893 & 0.89584285 & 0.90855678\\\\\n",
       "\t4 & P21333 & FLNA   &  0.40181862 & -0.7809744 & 0.45351199 & 0.50821790\\\\\n",
       "\t5 & O00468 & AGRN   & -0.39882494 &  3.0168593 & 0.02400685 & 0.04093245\\\\\n",
       "\t6 & P35555 & FBN1   &  0.16569919 & -0.8028367 & 0.44216722 & 0.49851134\\\\\n",
       "\\end{tabular}\n"
      ],
      "text/markdown": [
       "\n",
       "A data.frame: 6 × 6\n",
       "\n",
       "| <!--/--> | Protein &lt;chr&gt; | Gene.name &lt;chr&gt; | log2FC &lt;dbl&gt; | Statistic &lt;dbl&gt; | P Value &lt;dbl&gt; | P Adj &lt;dbl&gt; |\n",
       "|---|---|---|---|---|---|---|\n",
       "| 1 | P02751 | FN1    |  0.15124191 | -0.7012756 | 0.49913274 | 0.55267499 |\n",
       "| 2 | P98160 | HSPG2  | -0.26474186 |  0.9684351 | 0.35788953 | 0.41404654 |\n",
       "| 3 | P12111 | COL6A3 |  0.00133199 |  0.1345893 | 0.89584285 | 0.90855678 |\n",
       "| 4 | P21333 | FLNA   |  0.40181862 | -0.7809744 | 0.45351199 | 0.50821790 |\n",
       "| 5 | O00468 | AGRN   | -0.39882494 |  3.0168593 | 0.02400685 | 0.04093245 |\n",
       "| 6 | P35555 | FBN1   |  0.16569919 | -0.8028367 | 0.44216722 | 0.49851134 |\n",
       "\n"
      ],
      "text/plain": [
       "  Protein Gene.name log2FC      Statistic  P Value    P Adj     \n",
       "1 P02751  FN1        0.15124191 -0.7012756 0.49913274 0.55267499\n",
       "2 P98160  HSPG2     -0.26474186  0.9684351 0.35788953 0.41404654\n",
       "3 P12111  COL6A3     0.00133199  0.1345893 0.89584285 0.90855678\n",
       "4 P21333  FLNA       0.40181862 -0.7809744 0.45351199 0.50821790\n",
       "5 O00468  AGRN      -0.39882494  3.0168593 0.02400685 0.04093245\n",
       "6 P35555  FBN1       0.16569919 -0.8028367 0.44216722 0.49851134"
      ]
     },
     "metadata": {},
     "output_type": "display_data"
    }
   ],
   "source": [
    "# adding in gene names and filtering contaminants\n",
    "final_t_test_df = left_join(t_test_df, protein_info_df %>%\n",
    "                                select(c(\"Protein\", \"Gene.name\", \"Contaminant\"))) %>%\n",
    "    # this contaminant filter takes the number of proteins from 929 to 822\n",
    "     filter(Contaminant == \"-\") %>%\n",
    "     select(-Contaminant)\n",
    "final_t_test_df = final_t_test_df[, c(1,6,2,3,4,5)]\n",
    "head(final_t_test_df)"
   ]
  },
  {
   "cell_type": "code",
   "execution_count": 8,
   "id": "304c9cd6",
   "metadata": {},
   "outputs": [],
   "source": [
    "# exporting t test results for volcano plot\n",
    "write.csv(final_t_test_df, paste0(Output,\"/\", cur_date, \"_Statistical_Results_Only.csv\"), row.names = FALSE)"
   ]
  },
  {
   "cell_type": "code",
   "execution_count": 9,
   "id": "dc459342",
   "metadata": {},
   "outputs": [
    {
     "data": {
      "text/html": [
       "<table class=\"dataframe\">\n",
       "<caption>A tibble: 6 × 2</caption>\n",
       "<thead>\n",
       "\t<tr><th scope=col>Protein</th><th scope=col>Avg_Abundance</th></tr>\n",
       "\t<tr><th scope=col>&lt;chr&gt;</th><th scope=col>&lt;dbl&gt;</th></tr>\n",
       "</thead>\n",
       "<tbody>\n",
       "\t<tr><td>A1L4H1                    </td><td>26.02794</td></tr>\n",
       "\t<tr><td>ENSEMBL.ENSBTAP00000006074</td><td>29.07952</td></tr>\n",
       "\t<tr><td>ENSEMBL.ENSBTAP00000007350</td><td>32.54102</td></tr>\n",
       "\t<tr><td>ENSEMBL.ENSBTAP00000011227</td><td>25.26543</td></tr>\n",
       "\t<tr><td>ENSEMBL.ENSBTAP00000013050</td><td>28.19639</td></tr>\n",
       "\t<tr><td>ENSEMBL.ENSBTAP00000014147</td><td>27.24561</td></tr>\n",
       "</tbody>\n",
       "</table>\n"
      ],
      "text/latex": [
       "A tibble: 6 × 2\n",
       "\\begin{tabular}{ll}\n",
       " Protein & Avg\\_Abundance\\\\\n",
       " <chr> & <dbl>\\\\\n",
       "\\hline\n",
       "\t A1L4H1                     & 26.02794\\\\\n",
       "\t ENSEMBL.ENSBTAP00000006074 & 29.07952\\\\\n",
       "\t ENSEMBL.ENSBTAP00000007350 & 32.54102\\\\\n",
       "\t ENSEMBL.ENSBTAP00000011227 & 25.26543\\\\\n",
       "\t ENSEMBL.ENSBTAP00000013050 & 28.19639\\\\\n",
       "\t ENSEMBL.ENSBTAP00000014147 & 27.24561\\\\\n",
       "\\end{tabular}\n"
      ],
      "text/markdown": [
       "\n",
       "A tibble: 6 × 2\n",
       "\n",
       "| Protein &lt;chr&gt; | Avg_Abundance &lt;dbl&gt; |\n",
       "|---|---|\n",
       "| A1L4H1                     | 26.02794 |\n",
       "| ENSEMBL.ENSBTAP00000006074 | 29.07952 |\n",
       "| ENSEMBL.ENSBTAP00000007350 | 32.54102 |\n",
       "| ENSEMBL.ENSBTAP00000011227 | 25.26543 |\n",
       "| ENSEMBL.ENSBTAP00000013050 | 28.19639 |\n",
       "| ENSEMBL.ENSBTAP00000014147 | 27.24561 |\n",
       "\n"
      ],
      "text/plain": [
       "  Protein                    Avg_Abundance\n",
       "1 A1L4H1                     26.02794     \n",
       "2 ENSEMBL.ENSBTAP00000006074 29.07952     \n",
       "3 ENSEMBL.ENSBTAP00000007350 32.54102     \n",
       "4 ENSEMBL.ENSBTAP00000011227 25.26543     \n",
       "5 ENSEMBL.ENSBTAP00000013050 28.19639     \n",
       "6 ENSEMBL.ENSBTAP00000014147 27.24561     "
      ]
     },
     "metadata": {},
     "output_type": "display_data"
    },
    {
     "data": {
      "text/html": [
       "<table class=\"dataframe\">\n",
       "<caption>A grouped_df: 6 × 4</caption>\n",
       "<thead>\n",
       "\t<tr><th scope=col>Treatment</th><th scope=col>Protein</th><th scope=col>log2Value</th><th scope=col>Avg_Abundance_stratified</th></tr>\n",
       "\t<tr><th scope=col>&lt;chr&gt;</th><th scope=col>&lt;chr&gt;</th><th scope=col>&lt;dbl&gt;</th><th scope=col>&lt;dbl&gt;</th></tr>\n",
       "</thead>\n",
       "<tbody>\n",
       "\t<tr><td>CoCulture</td><td>P02769</td><td>38.98165</td><td>38.77220</td></tr>\n",
       "\t<tr><td>CoCulture</td><td>P02751</td><td>37.49899</td><td>37.74475</td></tr>\n",
       "\t<tr><td>CoCulture</td><td>P12763</td><td>37.96775</td><td>37.93066</td></tr>\n",
       "\t<tr><td>CoCulture</td><td>Q2UVX4</td><td>35.77058</td><td>35.39824</td></tr>\n",
       "\t<tr><td>CoCulture</td><td>P98160</td><td>34.60332</td><td>34.44147</td></tr>\n",
       "\t<tr><td>CoCulture</td><td>P12111</td><td>33.64583</td><td>34.02676</td></tr>\n",
       "</tbody>\n",
       "</table>\n"
      ],
      "text/latex": [
       "A grouped\\_df: 6 × 4\n",
       "\\begin{tabular}{llll}\n",
       " Treatment & Protein & log2Value & Avg\\_Abundance\\_stratified\\\\\n",
       " <chr> & <chr> & <dbl> & <dbl>\\\\\n",
       "\\hline\n",
       "\t CoCulture & P02769 & 38.98165 & 38.77220\\\\\n",
       "\t CoCulture & P02751 & 37.49899 & 37.74475\\\\\n",
       "\t CoCulture & P12763 & 37.96775 & 37.93066\\\\\n",
       "\t CoCulture & Q2UVX4 & 35.77058 & 35.39824\\\\\n",
       "\t CoCulture & P98160 & 34.60332 & 34.44147\\\\\n",
       "\t CoCulture & P12111 & 33.64583 & 34.02676\\\\\n",
       "\\end{tabular}\n"
      ],
      "text/markdown": [
       "\n",
       "A grouped_df: 6 × 4\n",
       "\n",
       "| Treatment &lt;chr&gt; | Protein &lt;chr&gt; | log2Value &lt;dbl&gt; | Avg_Abundance_stratified &lt;dbl&gt; |\n",
       "|---|---|---|---|\n",
       "| CoCulture | P02769 | 38.98165 | 38.77220 |\n",
       "| CoCulture | P02751 | 37.49899 | 37.74475 |\n",
       "| CoCulture | P12763 | 37.96775 | 37.93066 |\n",
       "| CoCulture | Q2UVX4 | 35.77058 | 35.39824 |\n",
       "| CoCulture | P98160 | 34.60332 | 34.44147 |\n",
       "| CoCulture | P12111 | 33.64583 | 34.02676 |\n",
       "\n"
      ],
      "text/plain": [
       "  Treatment Protein log2Value Avg_Abundance_stratified\n",
       "1 CoCulture P02769  38.98165  38.77220                \n",
       "2 CoCulture P02751  37.49899  37.74475                \n",
       "3 CoCulture P12763  37.96775  37.93066                \n",
       "4 CoCulture Q2UVX4  35.77058  35.39824                \n",
       "5 CoCulture P98160  34.60332  34.44147                \n",
       "6 CoCulture P12111  33.64583  34.02676                "
      ]
     },
     "metadata": {},
     "output_type": "display_data"
    }
   ],
   "source": [
    "# calculating overall avg. abundance and within smoking groups\n",
    "avg_abundance_df = proteomics_df %>%\n",
    "    group_by(Protein) %>%\n",
    "    summarize(Avg_Abundance = mean(log2Value))\n",
    "\n",
    "# stratified by treatment \n",
    "avg_abundance_df_stratified = proteomics_df %>%\n",
    "    group_by(Treatment, Protein) %>%\n",
    "    mutate(Avg_Abundance_stratified = mean(log2Value)) %>%\n",
    "    select(-c(\"Set\", \"ID\", \"Value\"))\n",
    "\n",
    "head(avg_abundance_df)\n",
    "head(avg_abundance_df_stratified)"
   ]
  },
  {
   "cell_type": "code",
   "execution_count": 10,
   "id": "efdc892f",
   "metadata": {},
   "outputs": [
    {
     "data": {
      "text/html": [
       "<table class=\"dataframe\">\n",
       "<caption>A tibble: 6 × 2</caption>\n",
       "<thead>\n",
       "\t<tr><th scope=col>Protein</th><th scope=col>Coculture_Vehicle.Avg_Abundance</th></tr>\n",
       "\t<tr><th scope=col>&lt;chr&gt;</th><th scope=col>&lt;dbl&gt;</th></tr>\n",
       "</thead>\n",
       "<tbody>\n",
       "\t<tr><td>P02769</td><td>38.77220</td></tr>\n",
       "\t<tr><td>P02751</td><td>37.74475</td></tr>\n",
       "\t<tr><td>P12763</td><td>37.93066</td></tr>\n",
       "\t<tr><td>Q2UVX4</td><td>35.39824</td></tr>\n",
       "\t<tr><td>P98160</td><td>34.44147</td></tr>\n",
       "\t<tr><td>P12111</td><td>34.02676</td></tr>\n",
       "</tbody>\n",
       "</table>\n"
      ],
      "text/latex": [
       "A tibble: 6 × 2\n",
       "\\begin{tabular}{ll}\n",
       " Protein & Coculture\\_Vehicle.Avg\\_Abundance\\\\\n",
       " <chr> & <dbl>\\\\\n",
       "\\hline\n",
       "\t P02769 & 38.77220\\\\\n",
       "\t P02751 & 37.74475\\\\\n",
       "\t P12763 & 37.93066\\\\\n",
       "\t Q2UVX4 & 35.39824\\\\\n",
       "\t P98160 & 34.44147\\\\\n",
       "\t P12111 & 34.02676\\\\\n",
       "\\end{tabular}\n"
      ],
      "text/markdown": [
       "\n",
       "A tibble: 6 × 2\n",
       "\n",
       "| Protein &lt;chr&gt; | Coculture_Vehicle.Avg_Abundance &lt;dbl&gt; |\n",
       "|---|---|\n",
       "| P02769 | 38.77220 |\n",
       "| P02751 | 37.74475 |\n",
       "| P12763 | 37.93066 |\n",
       "| Q2UVX4 | 35.39824 |\n",
       "| P98160 | 34.44147 |\n",
       "| P12111 | 34.02676 |\n",
       "\n"
      ],
      "text/plain": [
       "  Protein Coculture_Vehicle.Avg_Abundance\n",
       "1 P02769  38.77220                       \n",
       "2 P02751  37.74475                       \n",
       "3 P12763  37.93066                       \n",
       "4 Q2UVX4  35.39824                       \n",
       "5 P98160  34.44147                       \n",
       "6 P12111  34.02676                       "
      ]
     },
     "metadata": {},
     "output_type": "display_data"
    }
   ],
   "source": [
    "# changing the stratified dfs to making combining easier\n",
    "# first splitting dfs\n",
    "split_avg_abundance_stratified = avg_abundance_df_stratified %>%\n",
    "    group_by(Treatment) %>%\n",
    "    group_split()\n",
    "\n",
    "# adding treatment to the title\n",
    "coculture_vehicle_avg_abundance = split_avg_abundance_stratified[[1]] %>%\n",
    "    select(-c(\"Treatment\", \"log2Value\")) %>%\n",
    "    rename(Coculture_Vehicle.Avg_Abundance = Avg_Abundance_stratified)\n",
    "triculture_vehicle_avg_abundance = split_avg_abundance_stratified[[2]] %>%\n",
    "    select(-c(\"Treatment\", \"log2Value\")) %>%\n",
    "    rename(Triculture_Vehicle.Avg_Abundance = Avg_Abundance_stratified)\n",
    "\n",
    "head(coculture_vehicle_avg_abundance)"
   ]
  },
  {
   "cell_type": "code",
   "execution_count": 11,
   "id": "54169c00",
   "metadata": {},
   "outputs": [
    {
     "name": "stderr",
     "output_type": "stream",
     "text": [
      "\u001b[1m\u001b[22mJoining, by = \"Protein\"\n",
      "\u001b[1m\u001b[22mJoining, by = \"Protein\"\n"
     ]
    },
    {
     "data": {
      "text/html": [
       "<table class=\"dataframe\">\n",
       "<caption>A tibble: 6 × 4</caption>\n",
       "<thead>\n",
       "\t<tr><th scope=col>Protein</th><th scope=col>Avg_Abundance</th><th scope=col>Coculture_Vehicle.Avg_Abundance</th><th scope=col>Triculture_Vehicle.Avg_Abundance</th></tr>\n",
       "\t<tr><th scope=col>&lt;chr&gt;</th><th scope=col>&lt;dbl&gt;</th><th scope=col>&lt;dbl&gt;</th><th scope=col>&lt;dbl&gt;</th></tr>\n",
       "</thead>\n",
       "<tbody>\n",
       "\t<tr><td>A1L4H1                    </td><td>26.02794</td><td>24.22757</td><td>27.82831</td></tr>\n",
       "\t<tr><td>ENSEMBL.ENSBTAP00000006074</td><td>29.07952</td><td>29.44447</td><td>28.71457</td></tr>\n",
       "\t<tr><td>ENSEMBL.ENSBTAP00000007350</td><td>32.54102</td><td>32.60443</td><td>32.47762</td></tr>\n",
       "\t<tr><td>ENSEMBL.ENSBTAP00000011227</td><td>25.26543</td><td>25.34254</td><td>25.18833</td></tr>\n",
       "\t<tr><td>ENSEMBL.ENSBTAP00000013050</td><td>28.19639</td><td>28.32202</td><td>28.07075</td></tr>\n",
       "\t<tr><td>ENSEMBL.ENSBTAP00000014147</td><td>27.24561</td><td>27.25750</td><td>27.23372</td></tr>\n",
       "</tbody>\n",
       "</table>\n"
      ],
      "text/latex": [
       "A tibble: 6 × 4\n",
       "\\begin{tabular}{llll}\n",
       " Protein & Avg\\_Abundance & Coculture\\_Vehicle.Avg\\_Abundance & Triculture\\_Vehicle.Avg\\_Abundance\\\\\n",
       " <chr> & <dbl> & <dbl> & <dbl>\\\\\n",
       "\\hline\n",
       "\t A1L4H1                     & 26.02794 & 24.22757 & 27.82831\\\\\n",
       "\t ENSEMBL.ENSBTAP00000006074 & 29.07952 & 29.44447 & 28.71457\\\\\n",
       "\t ENSEMBL.ENSBTAP00000007350 & 32.54102 & 32.60443 & 32.47762\\\\\n",
       "\t ENSEMBL.ENSBTAP00000011227 & 25.26543 & 25.34254 & 25.18833\\\\\n",
       "\t ENSEMBL.ENSBTAP00000013050 & 28.19639 & 28.32202 & 28.07075\\\\\n",
       "\t ENSEMBL.ENSBTAP00000014147 & 27.24561 & 27.25750 & 27.23372\\\\\n",
       "\\end{tabular}\n"
      ],
      "text/markdown": [
       "\n",
       "A tibble: 6 × 4\n",
       "\n",
       "| Protein &lt;chr&gt; | Avg_Abundance &lt;dbl&gt; | Coculture_Vehicle.Avg_Abundance &lt;dbl&gt; | Triculture_Vehicle.Avg_Abundance &lt;dbl&gt; |\n",
       "|---|---|---|---|\n",
       "| A1L4H1                     | 26.02794 | 24.22757 | 27.82831 |\n",
       "| ENSEMBL.ENSBTAP00000006074 | 29.07952 | 29.44447 | 28.71457 |\n",
       "| ENSEMBL.ENSBTAP00000007350 | 32.54102 | 32.60443 | 32.47762 |\n",
       "| ENSEMBL.ENSBTAP00000011227 | 25.26543 | 25.34254 | 25.18833 |\n",
       "| ENSEMBL.ENSBTAP00000013050 | 28.19639 | 28.32202 | 28.07075 |\n",
       "| ENSEMBL.ENSBTAP00000014147 | 27.24561 | 27.25750 | 27.23372 |\n",
       "\n"
      ],
      "text/plain": [
       "  Protein                    Avg_Abundance Coculture_Vehicle.Avg_Abundance\n",
       "1 A1L4H1                     26.02794      24.22757                       \n",
       "2 ENSEMBL.ENSBTAP00000006074 29.07952      29.44447                       \n",
       "3 ENSEMBL.ENSBTAP00000007350 32.54102      32.60443                       \n",
       "4 ENSEMBL.ENSBTAP00000011227 25.26543      25.34254                       \n",
       "5 ENSEMBL.ENSBTAP00000013050 28.19639      28.32202                       \n",
       "6 ENSEMBL.ENSBTAP00000014147 27.24561      27.25750                       \n",
       "  Triculture_Vehicle.Avg_Abundance\n",
       "1 27.82831                        \n",
       "2 28.71457                        \n",
       "3 32.47762                        \n",
       "4 25.18833                        \n",
       "5 28.07075                        \n",
       "6 27.23372                        "
      ]
     },
     "metadata": {},
     "output_type": "display_data"
    }
   ],
   "source": [
    "# combining into 1 abundance df\n",
    "stratified_abundance_df = inner_join(coculture_vehicle_avg_abundance, triculture_vehicle_avg_abundance) %>% unique()\n",
    "abundance_df = full_join(avg_abundance_df, stratified_abundance_df)\n",
    "\n",
    "head(abundance_df)"
   ]
  },
  {
   "cell_type": "code",
   "execution_count": 12,
   "id": "838aa80d",
   "metadata": {},
   "outputs": [
    {
     "name": "stderr",
     "output_type": "stream",
     "text": [
      "\u001b[1m\u001b[22mJoining, by = \"Protein\"\n",
      "\u001b[1m\u001b[22mJoining, by = c(\"Protein\", \"Gene.name\")\n"
     ]
    },
    {
     "data": {
      "text/html": [
       "<table class=\"dataframe\">\n",
       "<caption>A data.frame: 6 × 12</caption>\n",
       "<thead>\n",
       "\t<tr><th></th><th scope=col>Protein</th><th scope=col>Gene.name</th><th scope=col>Description</th><th scope=col>GOCC.name</th><th scope=col>Contaminant</th><th scope=col>log2FC</th><th scope=col>Statistic</th><th scope=col>P Value</th><th scope=col>P Adj</th><th scope=col>Avg_Abundance</th><th scope=col>Coculture_Vehicle.Avg_Abundance</th><th scope=col>Triculture_Vehicle.Avg_Abundance</th></tr>\n",
       "\t<tr><th></th><th scope=col>&lt;chr&gt;</th><th scope=col>&lt;chr&gt;</th><th scope=col>&lt;chr&gt;</th><th scope=col>&lt;chr&gt;</th><th scope=col>&lt;chr&gt;</th><th scope=col>&lt;dbl&gt;</th><th scope=col>&lt;dbl&gt;</th><th scope=col>&lt;dbl&gt;</th><th scope=col>&lt;dbl&gt;</th><th scope=col>&lt;dbl&gt;</th><th scope=col>&lt;dbl&gt;</th><th scope=col>&lt;dbl&gt;</th></tr>\n",
       "</thead>\n",
       "<tbody>\n",
       "\t<tr><th scope=row>1</th><td>P02751</td><td>FN1   </td><td>Fibronectin OS=Homo sapiens OX=9606 GN=FN1 PE=1 SV=5                                                           </td><td>apical plasma membrane;basal lamina;blood microparticle;cell part;cytoplasmic membrane-bounded vesicle lumen;cytoplasmic part;cytoplasmic vesicle part;endoplasmic reticulum-Golgi intermediate compartment;extracellular matrix;extracellular matrix part;extracellular membrane-bounded organelle;extracellular organelle;extracellular region;extracellular region part;extracellular space;extracellular vesicular exosome;fibrinogen complex;intracellular membrane-bounded organelle;intracellular organelle;intracellular organelle part;intracellular part;macromolecular complex;membrane part;membrane-bounded organelle;membrane-bounded vesicle;membrane-enclosed lumen;organelle;organelle lumen;organelle part;plasma membrane part;platelet alpha granule lumen;protein complex;secretory granule lumen;vesicle;vesicle lumen                                                                                                                                                 </td><td>-</td><td> 0.15124191</td><td>-0.7012756</td><td>0.49913274</td><td>0.55267499</td><td>37.82199</td><td>37.74475</td><td>37.89923</td></tr>\n",
       "\t<tr><th scope=row>2</th><td>P98160</td><td>HSPG2 </td><td>Basement membrane-specific heparan sulfate proteoglycan core protein OS=Homo sapiens OX=9606 GN=HSPG2 PE=1 SV=4</td><td>adherens junction;anchoring junction;basal lamina;cell junction;cell part;cell-substrate adherens junction;cell-substrate junction;cytoplasmic part;extracellular matrix;extracellular matrix part;extracellular membrane-bounded organelle;extracellular organelle;extracellular region;extracellular region part;extracellular space;extracellular vesicular exosome;focal adhesion;Golgi apparatus part;Golgi lumen;intracellular organelle lumen;intracellular organelle part;intracellular part;lysosomal lumen;membrane;membrane-bounded organelle;membrane-bounded vesicle;membrane-enclosed lumen;organelle;organelle lumen;organelle part;plasma membrane;vacuolar lumen;vacuolar part;vesicle                                                                                                                                                                                                                                                                                      </td><td>-</td><td>-0.26474186</td><td> 0.9684351</td><td>0.35788953</td><td>0.41404654</td><td>34.32232</td><td>34.44147</td><td>34.20317</td></tr>\n",
       "\t<tr><th scope=row>3</th><td>P12111</td><td>COL6A3</td><td>Collagen alpha-3(VI) chain OS=Homo sapiens OX=9606 GN=COL6A3 PE=1 SV=5                                         </td><td>anchoring collagen;cell part;collagen;collagen type VI;cytoplasmic part;endoplasmic reticulum lumen;endoplasmic reticulum part;extracellular matrix;extracellular matrix part;extracellular membrane-bounded organelle;extracellular organelle;extracellular region;extracellular region part;extracellular space;extracellular vesicular exosome;intracellular organelle lumen;intracellular organelle part;intracellular part;membrane;membrane-bounded organelle;membrane-bounded vesicle;membrane-enclosed lumen;organelle;organelle lumen;organelle part;plasma membrane;proteinaceous extracellular matrix;sarcolemma;vesicle                                                                                                                                                                                                                                                                                                                                                          </td><td>-</td><td> 0.00133199</td><td> 0.1345893</td><td>0.89584285</td><td>0.90855678</td><td>34.00576</td><td>34.02676</td><td>33.98476</td></tr>\n",
       "\t<tr><th scope=row>4</th><td>P21333</td><td>FLNA  </td><td>Filamin-A OS=Homo sapiens OX=9606 GN=FLNA PE=1 SV=4                                                            </td><td>actin cytoskeleton;actin filament;adherens junction;anchoring junction;cell body;cell cortex part;cell junction;cell part;cell projection part;cell-substrate adherens junction;cell-substrate junction;chromosomal part;cortical cytoskeleton;cytoplasm;cytoplasmic part;cytoskeletal part;cytoskeleton;cytosol;dendritic shaft;extracellular membrane-bounded organelle;extracellular organelle;extracellular region;extracellular region part;extracellular vesicular exosome;focal adhesion;Golgi apparatus part;intracellular membrane-bounded organelle;intracellular non-membrane-bounded organelle;intracellular organelle;intracellular organelle part;intracellular part;macromolecular complex;membrane;membrane-bounded organelle;membrane-bounded vesicle;Myb complex;neuronal cell body;non-membrane-bounded organelle;nuclear part;nucleolar part;nucleus;organelle;organelle part;perinuclear region of cytoplasm;plasma membrane;protein complex;trans-Golgi network;vesicle</td><td>-</td><td> 0.40181862</td><td>-0.7809744</td><td>0.45351199</td><td>0.50821790</td><td>32.96093</td><td>32.78805</td><td>33.13381</td></tr>\n",
       "\t<tr><th scope=row>5</th><td>O00468</td><td>AGRN  </td><td>Agrin OS=Homo sapiens OX=9606 GN=AGRN PE=1 SV=6                                                                </td><td>basal lamina;cell junction;cell part;cell surface;cytoplasm;cytoplasmic part;extracellular matrix;extracellular matrix part;extracellular membrane-bounded organelle;extracellular organelle;extracellular region;extracellular region part;extracellular space;extracellular vesicular exosome;Golgi apparatus part;Golgi lumen;integral to membrane;intracellular organelle lumen;intracellular organelle part;intracellular part;intrinsic to membrane;lysosomal lumen;membrane;membrane part;membrane-bounded organelle;membrane-bounded vesicle;membrane-enclosed lumen;organelle;organelle lumen;organelle part;plasma membrane;synapse;vacuolar lumen;vacuolar part;vesicle                                                                                                                                                                                                                                                                                                           </td><td>-</td><td>-0.39882494</td><td> 3.0168593</td><td>0.02400685</td><td>0.04093245</td><td>34.11575</td><td>34.33039</td><td>33.90110</td></tr>\n",
       "\t<tr><th scope=row>6</th><td>P35555</td><td>FBN1  </td><td>Fibrillin-1 OS=Homo sapiens OX=9606 GN=FBN1 PE=1 SV=4                                                          </td><td>basement membrane;extracellular matrix;extracellular matrix part;extracellular membrane-bounded organelle;extracellular organelle;extracellular region;extracellular region part;extracellular space;extracellular vesicular exosome;fibril;membrane-bounded organelle;membrane-bounded vesicle;microfibril;organelle;proteinaceous extracellular matrix;vesicle                                                                                                                                                                                                                                                                                                                                                                                                                                                                                                                                                                                                                             </td><td>-</td><td> 0.16569919</td><td>-0.8028367</td><td>0.44216722</td><td>0.49851134</td><td>33.24363</td><td>33.14424</td><td>33.34303</td></tr>\n",
       "</tbody>\n",
       "</table>\n"
      ],
      "text/latex": [
       "A data.frame: 6 × 12\n",
       "\\begin{tabular}{r|llllllllllll}\n",
       "  & Protein & Gene.name & Description & GOCC.name & Contaminant & log2FC & Statistic & P Value & P Adj & Avg\\_Abundance & Coculture\\_Vehicle.Avg\\_Abundance & Triculture\\_Vehicle.Avg\\_Abundance\\\\\n",
       "  & <chr> & <chr> & <chr> & <chr> & <chr> & <dbl> & <dbl> & <dbl> & <dbl> & <dbl> & <dbl> & <dbl>\\\\\n",
       "\\hline\n",
       "\t1 & P02751 & FN1    & Fibronectin OS=Homo sapiens OX=9606 GN=FN1 PE=1 SV=5                                                            & apical plasma membrane;basal lamina;blood microparticle;cell part;cytoplasmic membrane-bounded vesicle lumen;cytoplasmic part;cytoplasmic vesicle part;endoplasmic reticulum-Golgi intermediate compartment;extracellular matrix;extracellular matrix part;extracellular membrane-bounded organelle;extracellular organelle;extracellular region;extracellular region part;extracellular space;extracellular vesicular exosome;fibrinogen complex;intracellular membrane-bounded organelle;intracellular organelle;intracellular organelle part;intracellular part;macromolecular complex;membrane part;membrane-bounded organelle;membrane-bounded vesicle;membrane-enclosed lumen;organelle;organelle lumen;organelle part;plasma membrane part;platelet alpha granule lumen;protein complex;secretory granule lumen;vesicle;vesicle lumen                                                                                                                                                  & - &  0.15124191 & -0.7012756 & 0.49913274 & 0.55267499 & 37.82199 & 37.74475 & 37.89923\\\\\n",
       "\t2 & P98160 & HSPG2  & Basement membrane-specific heparan sulfate proteoglycan core protein OS=Homo sapiens OX=9606 GN=HSPG2 PE=1 SV=4 & adherens junction;anchoring junction;basal lamina;cell junction;cell part;cell-substrate adherens junction;cell-substrate junction;cytoplasmic part;extracellular matrix;extracellular matrix part;extracellular membrane-bounded organelle;extracellular organelle;extracellular region;extracellular region part;extracellular space;extracellular vesicular exosome;focal adhesion;Golgi apparatus part;Golgi lumen;intracellular organelle lumen;intracellular organelle part;intracellular part;lysosomal lumen;membrane;membrane-bounded organelle;membrane-bounded vesicle;membrane-enclosed lumen;organelle;organelle lumen;organelle part;plasma membrane;vacuolar lumen;vacuolar part;vesicle                                                                                                                                                                                                                                                                                       & - & -0.26474186 &  0.9684351 & 0.35788953 & 0.41404654 & 34.32232 & 34.44147 & 34.20317\\\\\n",
       "\t3 & P12111 & COL6A3 & Collagen alpha-3(VI) chain OS=Homo sapiens OX=9606 GN=COL6A3 PE=1 SV=5                                          & anchoring collagen;cell part;collagen;collagen type VI;cytoplasmic part;endoplasmic reticulum lumen;endoplasmic reticulum part;extracellular matrix;extracellular matrix part;extracellular membrane-bounded organelle;extracellular organelle;extracellular region;extracellular region part;extracellular space;extracellular vesicular exosome;intracellular organelle lumen;intracellular organelle part;intracellular part;membrane;membrane-bounded organelle;membrane-bounded vesicle;membrane-enclosed lumen;organelle;organelle lumen;organelle part;plasma membrane;proteinaceous extracellular matrix;sarcolemma;vesicle                                                                                                                                                                                                                                                                                                                                                           & - &  0.00133199 &  0.1345893 & 0.89584285 & 0.90855678 & 34.00576 & 34.02676 & 33.98476\\\\\n",
       "\t4 & P21333 & FLNA   & Filamin-A OS=Homo sapiens OX=9606 GN=FLNA PE=1 SV=4                                                             & actin cytoskeleton;actin filament;adherens junction;anchoring junction;cell body;cell cortex part;cell junction;cell part;cell projection part;cell-substrate adherens junction;cell-substrate junction;chromosomal part;cortical cytoskeleton;cytoplasm;cytoplasmic part;cytoskeletal part;cytoskeleton;cytosol;dendritic shaft;extracellular membrane-bounded organelle;extracellular organelle;extracellular region;extracellular region part;extracellular vesicular exosome;focal adhesion;Golgi apparatus part;intracellular membrane-bounded organelle;intracellular non-membrane-bounded organelle;intracellular organelle;intracellular organelle part;intracellular part;macromolecular complex;membrane;membrane-bounded organelle;membrane-bounded vesicle;Myb complex;neuronal cell body;non-membrane-bounded organelle;nuclear part;nucleolar part;nucleus;organelle;organelle part;perinuclear region of cytoplasm;plasma membrane;protein complex;trans-Golgi network;vesicle & - &  0.40181862 & -0.7809744 & 0.45351199 & 0.50821790 & 32.96093 & 32.78805 & 33.13381\\\\\n",
       "\t5 & O00468 & AGRN   & Agrin OS=Homo sapiens OX=9606 GN=AGRN PE=1 SV=6                                                                 & basal lamina;cell junction;cell part;cell surface;cytoplasm;cytoplasmic part;extracellular matrix;extracellular matrix part;extracellular membrane-bounded organelle;extracellular organelle;extracellular region;extracellular region part;extracellular space;extracellular vesicular exosome;Golgi apparatus part;Golgi lumen;integral to membrane;intracellular organelle lumen;intracellular organelle part;intracellular part;intrinsic to membrane;lysosomal lumen;membrane;membrane part;membrane-bounded organelle;membrane-bounded vesicle;membrane-enclosed lumen;organelle;organelle lumen;organelle part;plasma membrane;synapse;vacuolar lumen;vacuolar part;vesicle                                                                                                                                                                                                                                                                                                            & - & -0.39882494 &  3.0168593 & 0.02400685 & 0.04093245 & 34.11575 & 34.33039 & 33.90110\\\\\n",
       "\t6 & P35555 & FBN1   & Fibrillin-1 OS=Homo sapiens OX=9606 GN=FBN1 PE=1 SV=4                                                           & basement membrane;extracellular matrix;extracellular matrix part;extracellular membrane-bounded organelle;extracellular organelle;extracellular region;extracellular region part;extracellular space;extracellular vesicular exosome;fibril;membrane-bounded organelle;membrane-bounded vesicle;microfibril;organelle;proteinaceous extracellular matrix;vesicle                                                                                                                                                                                                                                                                                                                                                                                                                                                                                                                                                                                                                              & - &  0.16569919 & -0.8028367 & 0.44216722 & 0.49851134 & 33.24363 & 33.14424 & 33.34303\\\\\n",
       "\\end{tabular}\n"
      ],
      "text/markdown": [
       "\n",
       "A data.frame: 6 × 12\n",
       "\n",
       "| <!--/--> | Protein &lt;chr&gt; | Gene.name &lt;chr&gt; | Description &lt;chr&gt; | GOCC.name &lt;chr&gt; | Contaminant &lt;chr&gt; | log2FC &lt;dbl&gt; | Statistic &lt;dbl&gt; | P Value &lt;dbl&gt; | P Adj &lt;dbl&gt; | Avg_Abundance &lt;dbl&gt; | Coculture_Vehicle.Avg_Abundance &lt;dbl&gt; | Triculture_Vehicle.Avg_Abundance &lt;dbl&gt; |\n",
       "|---|---|---|---|---|---|---|---|---|---|---|---|---|\n",
       "| 1 | P02751 | FN1    | Fibronectin OS=Homo sapiens OX=9606 GN=FN1 PE=1 SV=5                                                            | apical plasma membrane;basal lamina;blood microparticle;cell part;cytoplasmic membrane-bounded vesicle lumen;cytoplasmic part;cytoplasmic vesicle part;endoplasmic reticulum-Golgi intermediate compartment;extracellular matrix;extracellular matrix part;extracellular membrane-bounded organelle;extracellular organelle;extracellular region;extracellular region part;extracellular space;extracellular vesicular exosome;fibrinogen complex;intracellular membrane-bounded organelle;intracellular organelle;intracellular organelle part;intracellular part;macromolecular complex;membrane part;membrane-bounded organelle;membrane-bounded vesicle;membrane-enclosed lumen;organelle;organelle lumen;organelle part;plasma membrane part;platelet alpha granule lumen;protein complex;secretory granule lumen;vesicle;vesicle lumen                                                                                                                                                  | - |  0.15124191 | -0.7012756 | 0.49913274 | 0.55267499 | 37.82199 | 37.74475 | 37.89923 |\n",
       "| 2 | P98160 | HSPG2  | Basement membrane-specific heparan sulfate proteoglycan core protein OS=Homo sapiens OX=9606 GN=HSPG2 PE=1 SV=4 | adherens junction;anchoring junction;basal lamina;cell junction;cell part;cell-substrate adherens junction;cell-substrate junction;cytoplasmic part;extracellular matrix;extracellular matrix part;extracellular membrane-bounded organelle;extracellular organelle;extracellular region;extracellular region part;extracellular space;extracellular vesicular exosome;focal adhesion;Golgi apparatus part;Golgi lumen;intracellular organelle lumen;intracellular organelle part;intracellular part;lysosomal lumen;membrane;membrane-bounded organelle;membrane-bounded vesicle;membrane-enclosed lumen;organelle;organelle lumen;organelle part;plasma membrane;vacuolar lumen;vacuolar part;vesicle                                                                                                                                                                                                                                                                                       | - | -0.26474186 |  0.9684351 | 0.35788953 | 0.41404654 | 34.32232 | 34.44147 | 34.20317 |\n",
       "| 3 | P12111 | COL6A3 | Collagen alpha-3(VI) chain OS=Homo sapiens OX=9606 GN=COL6A3 PE=1 SV=5                                          | anchoring collagen;cell part;collagen;collagen type VI;cytoplasmic part;endoplasmic reticulum lumen;endoplasmic reticulum part;extracellular matrix;extracellular matrix part;extracellular membrane-bounded organelle;extracellular organelle;extracellular region;extracellular region part;extracellular space;extracellular vesicular exosome;intracellular organelle lumen;intracellular organelle part;intracellular part;membrane;membrane-bounded organelle;membrane-bounded vesicle;membrane-enclosed lumen;organelle;organelle lumen;organelle part;plasma membrane;proteinaceous extracellular matrix;sarcolemma;vesicle                                                                                                                                                                                                                                                                                                                                                           | - |  0.00133199 |  0.1345893 | 0.89584285 | 0.90855678 | 34.00576 | 34.02676 | 33.98476 |\n",
       "| 4 | P21333 | FLNA   | Filamin-A OS=Homo sapiens OX=9606 GN=FLNA PE=1 SV=4                                                             | actin cytoskeleton;actin filament;adherens junction;anchoring junction;cell body;cell cortex part;cell junction;cell part;cell projection part;cell-substrate adherens junction;cell-substrate junction;chromosomal part;cortical cytoskeleton;cytoplasm;cytoplasmic part;cytoskeletal part;cytoskeleton;cytosol;dendritic shaft;extracellular membrane-bounded organelle;extracellular organelle;extracellular region;extracellular region part;extracellular vesicular exosome;focal adhesion;Golgi apparatus part;intracellular membrane-bounded organelle;intracellular non-membrane-bounded organelle;intracellular organelle;intracellular organelle part;intracellular part;macromolecular complex;membrane;membrane-bounded organelle;membrane-bounded vesicle;Myb complex;neuronal cell body;non-membrane-bounded organelle;nuclear part;nucleolar part;nucleus;organelle;organelle part;perinuclear region of cytoplasm;plasma membrane;protein complex;trans-Golgi network;vesicle | - |  0.40181862 | -0.7809744 | 0.45351199 | 0.50821790 | 32.96093 | 32.78805 | 33.13381 |\n",
       "| 5 | O00468 | AGRN   | Agrin OS=Homo sapiens OX=9606 GN=AGRN PE=1 SV=6                                                                 | basal lamina;cell junction;cell part;cell surface;cytoplasm;cytoplasmic part;extracellular matrix;extracellular matrix part;extracellular membrane-bounded organelle;extracellular organelle;extracellular region;extracellular region part;extracellular space;extracellular vesicular exosome;Golgi apparatus part;Golgi lumen;integral to membrane;intracellular organelle lumen;intracellular organelle part;intracellular part;intrinsic to membrane;lysosomal lumen;membrane;membrane part;membrane-bounded organelle;membrane-bounded vesicle;membrane-enclosed lumen;organelle;organelle lumen;organelle part;plasma membrane;synapse;vacuolar lumen;vacuolar part;vesicle                                                                                                                                                                                                                                                                                                            | - | -0.39882494 |  3.0168593 | 0.02400685 | 0.04093245 | 34.11575 | 34.33039 | 33.90110 |\n",
       "| 6 | P35555 | FBN1   | Fibrillin-1 OS=Homo sapiens OX=9606 GN=FBN1 PE=1 SV=4                                                           | basement membrane;extracellular matrix;extracellular matrix part;extracellular membrane-bounded organelle;extracellular organelle;extracellular region;extracellular region part;extracellular space;extracellular vesicular exosome;fibril;membrane-bounded organelle;membrane-bounded vesicle;microfibril;organelle;proteinaceous extracellular matrix;vesicle                                                                                                                                                                                                                                                                                                                                                                                                                                                                                                                                                                                                                              | - |  0.16569919 | -0.8028367 | 0.44216722 | 0.49851134 | 33.24363 | 33.14424 | 33.34303 |\n",
       "\n"
      ],
      "text/plain": [
       "  Protein Gene.name\n",
       "1 P02751  FN1      \n",
       "2 P98160  HSPG2    \n",
       "3 P12111  COL6A3   \n",
       "4 P21333  FLNA     \n",
       "5 O00468  AGRN     \n",
       "6 P35555  FBN1     \n",
       "  Description                                                                                                    \n",
       "1 Fibronectin OS=Homo sapiens OX=9606 GN=FN1 PE=1 SV=5                                                           \n",
       "2 Basement membrane-specific heparan sulfate proteoglycan core protein OS=Homo sapiens OX=9606 GN=HSPG2 PE=1 SV=4\n",
       "3 Collagen alpha-3(VI) chain OS=Homo sapiens OX=9606 GN=COL6A3 PE=1 SV=5                                         \n",
       "4 Filamin-A OS=Homo sapiens OX=9606 GN=FLNA PE=1 SV=4                                                            \n",
       "5 Agrin OS=Homo sapiens OX=9606 GN=AGRN PE=1 SV=6                                                                \n",
       "6 Fibrillin-1 OS=Homo sapiens OX=9606 GN=FBN1 PE=1 SV=4                                                          \n",
       "  GOCC.name                                                                                                                                                                                                                                                                                                                                                                                                                                                                                                                                                                                                                                                                                                                                                                                                                                                                                                                                                                                    \n",
       "1 apical plasma membrane;basal lamina;blood microparticle;cell part;cytoplasmic membrane-bounded vesicle lumen;cytoplasmic part;cytoplasmic vesicle part;endoplasmic reticulum-Golgi intermediate compartment;extracellular matrix;extracellular matrix part;extracellular membrane-bounded organelle;extracellular organelle;extracellular region;extracellular region part;extracellular space;extracellular vesicular exosome;fibrinogen complex;intracellular membrane-bounded organelle;intracellular organelle;intracellular organelle part;intracellular part;macromolecular complex;membrane part;membrane-bounded organelle;membrane-bounded vesicle;membrane-enclosed lumen;organelle;organelle lumen;organelle part;plasma membrane part;platelet alpha granule lumen;protein complex;secretory granule lumen;vesicle;vesicle lumen                                                                                                                                                 \n",
       "2 adherens junction;anchoring junction;basal lamina;cell junction;cell part;cell-substrate adherens junction;cell-substrate junction;cytoplasmic part;extracellular matrix;extracellular matrix part;extracellular membrane-bounded organelle;extracellular organelle;extracellular region;extracellular region part;extracellular space;extracellular vesicular exosome;focal adhesion;Golgi apparatus part;Golgi lumen;intracellular organelle lumen;intracellular organelle part;intracellular part;lysosomal lumen;membrane;membrane-bounded organelle;membrane-bounded vesicle;membrane-enclosed lumen;organelle;organelle lumen;organelle part;plasma membrane;vacuolar lumen;vacuolar part;vesicle                                                                                                                                                                                                                                                                                      \n",
       "3 anchoring collagen;cell part;collagen;collagen type VI;cytoplasmic part;endoplasmic reticulum lumen;endoplasmic reticulum part;extracellular matrix;extracellular matrix part;extracellular membrane-bounded organelle;extracellular organelle;extracellular region;extracellular region part;extracellular space;extracellular vesicular exosome;intracellular organelle lumen;intracellular organelle part;intracellular part;membrane;membrane-bounded organelle;membrane-bounded vesicle;membrane-enclosed lumen;organelle;organelle lumen;organelle part;plasma membrane;proteinaceous extracellular matrix;sarcolemma;vesicle                                                                                                                                                                                                                                                                                                                                                          \n",
       "4 actin cytoskeleton;actin filament;adherens junction;anchoring junction;cell body;cell cortex part;cell junction;cell part;cell projection part;cell-substrate adherens junction;cell-substrate junction;chromosomal part;cortical cytoskeleton;cytoplasm;cytoplasmic part;cytoskeletal part;cytoskeleton;cytosol;dendritic shaft;extracellular membrane-bounded organelle;extracellular organelle;extracellular region;extracellular region part;extracellular vesicular exosome;focal adhesion;Golgi apparatus part;intracellular membrane-bounded organelle;intracellular non-membrane-bounded organelle;intracellular organelle;intracellular organelle part;intracellular part;macromolecular complex;membrane;membrane-bounded organelle;membrane-bounded vesicle;Myb complex;neuronal cell body;non-membrane-bounded organelle;nuclear part;nucleolar part;nucleus;organelle;organelle part;perinuclear region of cytoplasm;plasma membrane;protein complex;trans-Golgi network;vesicle\n",
       "5 basal lamina;cell junction;cell part;cell surface;cytoplasm;cytoplasmic part;extracellular matrix;extracellular matrix part;extracellular membrane-bounded organelle;extracellular organelle;extracellular region;extracellular region part;extracellular space;extracellular vesicular exosome;Golgi apparatus part;Golgi lumen;integral to membrane;intracellular organelle lumen;intracellular organelle part;intracellular part;intrinsic to membrane;lysosomal lumen;membrane;membrane part;membrane-bounded organelle;membrane-bounded vesicle;membrane-enclosed lumen;organelle;organelle lumen;organelle part;plasma membrane;synapse;vacuolar lumen;vacuolar part;vesicle                                                                                                                                                                                                                                                                                                           \n",
       "6 basement membrane;extracellular matrix;extracellular matrix part;extracellular membrane-bounded organelle;extracellular organelle;extracellular region;extracellular region part;extracellular space;extracellular vesicular exosome;fibril;membrane-bounded organelle;membrane-bounded vesicle;microfibril;organelle;proteinaceous extracellular matrix;vesicle                                                                                                                                                                                                                                                                                                                                                                                                                                                                                                                                                                                                                             \n",
       "  Contaminant log2FC      Statistic  P Value    P Adj      Avg_Abundance\n",
       "1 -            0.15124191 -0.7012756 0.49913274 0.55267499 37.82199     \n",
       "2 -           -0.26474186  0.9684351 0.35788953 0.41404654 34.32232     \n",
       "3 -            0.00133199  0.1345893 0.89584285 0.90855678 34.00576     \n",
       "4 -            0.40181862 -0.7809744 0.45351199 0.50821790 32.96093     \n",
       "5 -           -0.39882494  3.0168593 0.02400685 0.04093245 34.11575     \n",
       "6 -            0.16569919 -0.8028367 0.44216722 0.49851134 33.24363     \n",
       "  Coculture_Vehicle.Avg_Abundance Triculture_Vehicle.Avg_Abundance\n",
       "1 37.74475                        37.89923                        \n",
       "2 34.44147                        34.20317                        \n",
       "3 34.02676                        33.98476                        \n",
       "4 32.78805                        33.13381                        \n",
       "5 34.33039                        33.90110                        \n",
       "6 33.14424                        33.34303                        "
      ]
     },
     "metadata": {},
     "output_type": "display_data"
    }
   ],
   "source": [
    "# combining the abundances with the t test data and adding back in some protein info\n",
    "t_test_abundance_df = left_join(inner_join(final_t_test_df, abundance_df),\n",
    "                                 protein_info_df)\n",
    "# rearranging cols\n",
    "t_test_abundance_df = t_test_abundance_df[,c(1,2,10:12,3:9)]\n",
    "\n",
    "head(t_test_abundance_df)"
   ]
  },
  {
   "cell_type": "code",
   "execution_count": 13,
   "id": "eed4e477",
   "metadata": {},
   "outputs": [],
   "source": [
    "# exporting t test results and avg abundances for manuscript\n",
    "write.csv(t_test_abundance_df, paste0(Output,\"/\", cur_date, \"_t_test_abundance_data.csv\"), row.names = FALSE)"
   ]
  },
  {
   "cell_type": "code",
   "execution_count": 14,
   "id": "9fcacb51",
   "metadata": {},
   "outputs": [
    {
     "data": {
      "text/html": [
       "<table class=\"dataframe\">\n",
       "<caption>A tibble: 6 × 7</caption>\n",
       "<thead>\n",
       "\t<tr><th scope=col>Protein</th><th scope=col>CoCulture_VehicleCT1</th><th scope=col>CoCulture_VehicleCT2</th><th scope=col>CoCulture_VehicleCT3</th><th scope=col>CoCulture_VehicleCT4</th><th scope=col>CoCulture_VehicleCT5</th><th scope=col>CoCulture_VehicleCT6</th></tr>\n",
       "\t<tr><th scope=col>&lt;chr&gt;</th><th scope=col>&lt;dbl&gt;</th><th scope=col>&lt;dbl&gt;</th><th scope=col>&lt;dbl&gt;</th><th scope=col>&lt;dbl&gt;</th><th scope=col>&lt;dbl&gt;</th><th scope=col>&lt;dbl&gt;</th></tr>\n",
       "</thead>\n",
       "<tbody>\n",
       "\t<tr><td>P02769</td><td>38.98165</td><td>38.64443</td><td>38.73074</td><td>38.46844</td><td>38.84572</td><td>38.96222</td></tr>\n",
       "\t<tr><td>P02751</td><td>37.49899</td><td>37.79446</td><td>38.18185</td><td>38.04204</td><td>37.83399</td><td>37.11720</td></tr>\n",
       "\t<tr><td>P12763</td><td>37.96775</td><td>37.73383</td><td>37.91882</td><td>37.97791</td><td>37.97950</td><td>38.00617</td></tr>\n",
       "\t<tr><td>Q2UVX4</td><td>35.77058</td><td>35.29926</td><td>35.19603</td><td>35.42362</td><td>35.51794</td><td>35.18198</td></tr>\n",
       "\t<tr><td>P98160</td><td>34.60332</td><td>34.03153</td><td>33.64936</td><td>34.78151</td><td>34.70985</td><td>34.87327</td></tr>\n",
       "\t<tr><td>P12111</td><td>33.64583</td><td>34.27564</td><td>34.35928</td><td>34.37375</td><td>34.21928</td><td>33.28679</td></tr>\n",
       "</tbody>\n",
       "</table>\n"
      ],
      "text/latex": [
       "A tibble: 6 × 7\n",
       "\\begin{tabular}{lllllll}\n",
       " Protein & CoCulture\\_VehicleCT1 & CoCulture\\_VehicleCT2 & CoCulture\\_VehicleCT3 & CoCulture\\_VehicleCT4 & CoCulture\\_VehicleCT5 & CoCulture\\_VehicleCT6\\\\\n",
       " <chr> & <dbl> & <dbl> & <dbl> & <dbl> & <dbl> & <dbl>\\\\\n",
       "\\hline\n",
       "\t P02769 & 38.98165 & 38.64443 & 38.73074 & 38.46844 & 38.84572 & 38.96222\\\\\n",
       "\t P02751 & 37.49899 & 37.79446 & 38.18185 & 38.04204 & 37.83399 & 37.11720\\\\\n",
       "\t P12763 & 37.96775 & 37.73383 & 37.91882 & 37.97791 & 37.97950 & 38.00617\\\\\n",
       "\t Q2UVX4 & 35.77058 & 35.29926 & 35.19603 & 35.42362 & 35.51794 & 35.18198\\\\\n",
       "\t P98160 & 34.60332 & 34.03153 & 33.64936 & 34.78151 & 34.70985 & 34.87327\\\\\n",
       "\t P12111 & 33.64583 & 34.27564 & 34.35928 & 34.37375 & 34.21928 & 33.28679\\\\\n",
       "\\end{tabular}\n"
      ],
      "text/markdown": [
       "\n",
       "A tibble: 6 × 7\n",
       "\n",
       "| Protein &lt;chr&gt; | CoCulture_VehicleCT1 &lt;dbl&gt; | CoCulture_VehicleCT2 &lt;dbl&gt; | CoCulture_VehicleCT3 &lt;dbl&gt; | CoCulture_VehicleCT4 &lt;dbl&gt; | CoCulture_VehicleCT5 &lt;dbl&gt; | CoCulture_VehicleCT6 &lt;dbl&gt; |\n",
       "|---|---|---|---|---|---|---|\n",
       "| P02769 | 38.98165 | 38.64443 | 38.73074 | 38.46844 | 38.84572 | 38.96222 |\n",
       "| P02751 | 37.49899 | 37.79446 | 38.18185 | 38.04204 | 37.83399 | 37.11720 |\n",
       "| P12763 | 37.96775 | 37.73383 | 37.91882 | 37.97791 | 37.97950 | 38.00617 |\n",
       "| Q2UVX4 | 35.77058 | 35.29926 | 35.19603 | 35.42362 | 35.51794 | 35.18198 |\n",
       "| P98160 | 34.60332 | 34.03153 | 33.64936 | 34.78151 | 34.70985 | 34.87327 |\n",
       "| P12111 | 33.64583 | 34.27564 | 34.35928 | 34.37375 | 34.21928 | 33.28679 |\n",
       "\n"
      ],
      "text/plain": [
       "  Protein CoCulture_VehicleCT1 CoCulture_VehicleCT2 CoCulture_VehicleCT3\n",
       "1 P02769  38.98165             38.64443             38.73074            \n",
       "2 P02751  37.49899             37.79446             38.18185            \n",
       "3 P12763  37.96775             37.73383             37.91882            \n",
       "4 Q2UVX4  35.77058             35.29926             35.19603            \n",
       "5 P98160  34.60332             34.03153             33.64936            \n",
       "6 P12111  33.64583             34.27564             34.35928            \n",
       "  CoCulture_VehicleCT4 CoCulture_VehicleCT5 CoCulture_VehicleCT6\n",
       "1 38.46844             38.84572             38.96222            \n",
       "2 38.04204             37.83399             37.11720            \n",
       "3 37.97791             37.97950             38.00617            \n",
       "4 35.42362             35.51794             35.18198            \n",
       "5 34.78151             34.70985             34.87327            \n",
       "6 34.37375             34.21928             33.28679            "
      ]
     },
     "metadata": {},
     "output_type": "display_data"
    }
   ],
   "source": [
    "# now creating a df with individual protein abundances\n",
    "split_proteomics_df = proteomics_df %>%\n",
    "    select(-c(\"Treatment\", \"Value\")) %>%\n",
    "    group_by(Set) %>%\n",
    "    group_split()\n",
    "\n",
    "set1_protein_abundance = split_proteomics_df[[1]] %>%\n",
    "    select(-Set) %>%\n",
    "    pivot_wider(names_from = ID, values_from = log2Value) \n",
    "\n",
    "set2_protein_abundance = split_proteomics_df[[2]] %>%\n",
    "     select(-Set) %>%\n",
    "    pivot_wider(names_from = ID, values_from = log2Value) \n",
    "\n",
    "head(set1_protein_abundance)"
   ]
  },
  {
   "cell_type": "code",
   "execution_count": 15,
   "id": "eeb1e543",
   "metadata": {},
   "outputs": [],
   "source": [
    "# exporting indvidual protein abundances\n",
    "write.csv(set1_protein_abundance, paste0(Output,\"/\", cur_date, \"_Set1_individual_abundance_data.csv\"), row.names = FALSE)\n",
    "write.csv(set2_protein_abundance, paste0(Output,\"/\", cur_date, \"_Set2_individual_abundance_data.csv\"), row.names = FALSE)"
   ]
  },
  {
   "cell_type": "code",
   "execution_count": null,
   "id": "5e6afcb4",
   "metadata": {},
   "outputs": [],
   "source": []
  }
 ],
 "metadata": {
  "kernelspec": {
   "display_name": "R",
   "language": "R",
   "name": "ir"
  },
  "language_info": {
   "codemirror_mode": "r",
   "file_extension": ".r",
   "mimetype": "text/x-r-source",
   "name": "R",
   "pygments_lexer": "r",
   "version": "4.1.2"
  }
 },
 "nbformat": 4,
 "nbformat_minor": 5
}
